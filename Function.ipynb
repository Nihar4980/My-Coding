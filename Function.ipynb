{
 "cells": [
  {
   "cell_type": "markdown",
   "metadata": {},
   "source": [
    "1. Write a Python function that accepts a string and calculates the number of uppercase letters and lowercase letters. \n",
    " "
   ]
  },
  {
   "cell_type": "code",
   "execution_count": 12,
   "metadata": {},
   "outputs": [
    {
     "name": "stdout",
     "output_type": "stream",
     "text": [
      "The entered string is : Pintu is My Name ASDF LMN\n",
      "No. of Upper case characters : 10 \n",
      "No. of Lower case Characters : 15 \n"
     ]
    }
   ],
   "source": [
    "def string(str):\n",
    "    u=0\n",
    "    l=0\n",
    "    for c in str:\n",
    "        if c.isupper():\n",
    "            u += 1\n",
    "        elif c==c.lower():\n",
    "            l += 1\n",
    "        else:\n",
    "            pass\n",
    "    print(\"The entered string is : {}\".format(str))\n",
    "    print (\"No. of Upper case characters : {} \".format(u))\n",
    "    print (\"No. of Lower case Characters : {} \".format(l))\n",
    "\n",
    "string('Pintu is My Name ASDF LMN')\n",
    "            "
   ]
  },
  {
   "cell_type": "markdown",
   "metadata": {},
   "source": [
    "2. Write a Python function to create and print a list where the values are squares of numbers between 1 and 30 (both included). "
   ]
  },
  {
   "cell_type": "code",
   "execution_count": 4,
   "metadata": {},
   "outputs": [
    {
     "name": "stdout",
     "output_type": "stream",
     "text": [
      "The squre of [1, 2, 3, 4, 5, 6, 7, 8, 9, 10, 11, 12, 13, 14, 15, 16, 17, 18, 19, 20, 21, 22, 23, 24, 25, 26, 27, 28, 29, 30] are [1, 4, 9, 16, 25, 36, 49, 64, 81, 100, 121, 144, 169, 196, 225, 256, 289, 324, 361, 400, 441, 484, 529, 576, 625, 676, 729, 784, 841, 900]\n"
     ]
    }
   ],
   "source": [
    "list1 = list(range(1,31))\n",
    "sqr_lam = lambda x: x**2\n",
    "list2 = list(map(sqr_lam,list1))\n",
    "print(\"The squre of {} are {}\".format(list1,list2))\n",
    "        \n"
   ]
  },
  {
   "cell_type": "markdown",
   "metadata": {},
   "source": [
    "3.Create a function that counts the number of elements within a list that are greater than 30. "
   ]
  },
  {
   "cell_type": "code",
   "execution_count": 3,
   "metadata": {},
   "outputs": [
    {
     "name": "stdout",
     "output_type": "stream",
     "text": [
      "Count of numbers in a list which are greater than 30 :  8\n"
     ]
    }
   ],
   "source": [
    "lst= [45,67,98,33,2,3,4,87,55,6,9,67,100]\n",
    "import functools\n",
    "from functools import reduce\n",
    "count= reduce(lambda default, elem: default + (elem > 30), lst, 0)\n",
    "print('Count of numbers in a list which are greater than 30 : ', count)"
   ]
  },
  {
   "cell_type": "markdown",
   "metadata": {},
   "source": [
    "4. Write a Python function that takes a list and returns a\n",
    "new list with unique elements of the first list."
   ]
  },
  {
   "cell_type": "code",
   "execution_count": 5,
   "metadata": {},
   "outputs": [
    {
     "name": "stdout",
     "output_type": "stream",
     "text": [
      "[1, 2, 3, 4, 5]\n"
     ]
    }
   ],
   "source": [
    "def unique_list(l):\n",
    "    x = []\n",
    "    for a in l:\n",
    "        if a not in x:\n",
    "            x.append(a)\n",
    "    return x\n",
    "\n",
    "print(unique_list([1,2,3,3,3,3,4,5])) "
   ]
  },
  {
   "cell_type": "markdown",
   "metadata": {},
   "source": [
    "5. Create a function showEmployee() in such a way that it\n",
    "should accept employee name, and it’s salary and display\n",
    "both, and if the salary is missing in function call it should\n",
    "show it as 9000"
   ]
  },
  {
   "cell_type": "code",
   "execution_count": 2,
   "metadata": {},
   "outputs": [
    {
     "name": "stdout",
     "output_type": "stream",
     "text": [
      "Employee Nihar salary is: 90000\n",
      "Employee swain salary is: 9000\n"
     ]
    }
   ],
   "source": [
    "def showEmployee(name, salary=9000):\n",
    "    print(\"Employee {} salary is: {}\".format(name,salary))\n",
    "\n",
    "showEmployee(\"Nihar\", 90000)\n",
    "showEmployee(\"swain\")\n",
    "    "
   ]
  },
  {
   "cell_type": "markdown",
   "metadata": {},
   "source": [
    "6. Write a Python program to count the even, odd\n",
    "numbers in a given array of integers using Lambda."
   ]
  },
  {
   "cell_type": "code",
   "execution_count": 7,
   "metadata": {},
   "outputs": [
    {
     "name": "stdout",
     "output_type": "stream",
     "text": [
      "The number of even number are :  50\n",
      "The number of odd number are :  50\n"
     ]
    }
   ],
   "source": [
    "even_lam = lambda x:   x%2==0\n",
    "odd_lam = lambda x:  x%2!=0\n",
    "list1 = list(range(1,101))\n",
    "even_count = len(list(filter(even_lam, list1)))\n",
    "odd_count = len(list(filter(odd_lam,list1)))\n",
    "print(\"The number of even number are : \",even_count)\n",
    "print(\"The number of odd number are : \",odd_count)"
   ]
  },
  {
   "cell_type": "markdown",
   "metadata": {},
   "source": [
    "7. Write a Python program to add two given lists using\n",
    "map and lambda"
   ]
  },
  {
   "cell_type": "code",
   "execution_count": 20,
   "metadata": {},
   "outputs": [
    {
     "name": "stdout",
     "output_type": "stream",
     "text": [
      "Input value are : \n",
      "[10, 11, 12, 13, 14, 15, 16, 17, 18, 19]\n",
      "[20, 21, 22, 23, 24, 25, 26, 27, 28, 29]\n",
      "adding list is :  \n",
      " [30, 32, 34, 36, 38, 40, 42, 44, 46, 48]\n"
     ]
    }
   ],
   "source": [
    "list1 = list(range(10,20))\n",
    "list2 = list(range(20,30))\n",
    "print(\"Input value are : \",list1,list2, sep =\"\\n\")\n",
    "list3 = map(lambda x,y: x+y,list1,list2)\n",
    "print(\"adding list is : \",\"\\n\",list(list3))"
   ]
  },
  {
   "cell_type": "markdown",
   "metadata": {},
   "source": [
    "8. Write a Python program to rearrange positive and\n",
    "negative numbers in a given array using Lambda and filter"
   ]
  },
  {
   "cell_type": "code",
   "execution_count": 25,
   "metadata": {},
   "outputs": [
    {
     "name": "stdout",
     "output_type": "stream",
     "text": [
      "Original arrays: [-1, 2, 0, -99, 8, -3, 5, 7, 8, 54, -9, 9, -10, 87]\n",
      "Rearrange positive and negative numbers of the said array: [2, 5, 7, 8, 8, 9, 54, 87, 0, -99, -10, -9, -3, -1]\n"
     ]
    }
   ],
   "source": [
    "list1 = [-1, 2,0,-99,8, -3, 5, 7, 8, 54,-9,9, -10,87]\n",
    "print(\"Original arrays:\",list1)\n",
    "arrange = sorted(list1,key = lambda i: 0 if i == 0 else -1 / i)\n",
    "print(\"Rearrange positive and negative numbers of the said array:\",arrange)\n"
   ]
  },
  {
   "cell_type": "markdown",
   "metadata": {},
   "source": [
    "9. Write a Python program to filter a list of integers using\n",
    "Lambda."
   ]
  },
  {
   "cell_type": "code",
   "execution_count": 32,
   "metadata": {},
   "outputs": [
    {
     "name": "stdout",
     "output_type": "stream",
     "text": [
      "The Enter List is : [100, 101, 102, 103, 104, 105, 106, 107, 108, 109, 110, 111, 112, 113, 114, 115, 116, 117, 118, 119, 120, 121, 122, 123, 124, 125, 126, 127, 128, 129, 130, 131, 132, 133, 134, 135, 136, 137, 138, 139, 140, 141, 142, 143, 144, 145, 146, 147, 148, 149, 150, 151, 152, 153, 154, 155, 156, 157, 158, 159, 160, 161, 162, 163, 164, 165, 166, 167, 168, 169, 170, 171, 172, 173, 174, 175, 176, 177, 178, 179, 180, 181, 182, 183, 184, 185, 186, 187, 188, 189, 190, 191, 192, 193, 194, 195, 196, 197, 198, 199, 200]\n",
      "The number divisible by 5 are : [101, 102, 103, 104, 106, 107, 108, 109, 111, 112, 113, 114, 116, 117, 118, 119, 121, 122, 123, 124, 126, 127, 128, 129, 131, 132, 133, 134, 136, 137, 138, 139, 141, 142, 143, 144, 146, 147, 148, 149, 151, 152, 153, 154, 156, 157, 158, 159, 161, 162, 163, 164, 166, 167, 168, 169, 171, 172, 173, 174, 176, 177, 178, 179, 181, 182, 183, 184, 186, 187, 188, 189, 191, 192, 193, 194, 196, 197, 198, 199]\n",
      "The even numbers are : [100, 102, 104, 106, 108, 110, 112, 114, 116, 118, 120, 122, 124, 126, 128, 130, 132, 134, 136, 138, 140, 142, 144, 146, 148, 150, 152, 154, 156, 158, 160, 162, 164, 166, 168, 170, 172, 174, 176, 178, 180, 182, 184, 186, 188, 190, 192, 194, 196, 198, 200]\n",
      "The odd numbers are : [101, 103, 105, 107, 109, 111, 113, 115, 117, 119, 121, 123, 125, 127, 129, 131, 133, 135, 137, 139, 141, 143, 145, 147, 149, 151, 153, 155, 157, 159, 161, 163, 165, 167, 169, 171, 173, 175, 177, 179, 181, 183, 185, 187, 189, 191, 193, 195, 197, 199]\n"
     ]
    }
   ],
   "source": [
    "lst1 = list(range(100,201))\n",
    "print(\"The Enter List is :\",lst1)\n",
    "div_lam = lambda x:   x%5!=0\n",
    "even_lam= lambda x: x%2==0\n",
    "odd_lam= lambda x: x%2!=0\n",
    "lst2 = list(filter(div_lam,lst1))\n",
    "lst3 = list(filter(even_lam,lst1))\n",
    "lst4 = list(filter(odd_lam,lst1))\n",
    "print(\"The number divisible by 5 are :\",lst2)\n",
    "print(\"The even numbers are :\",lst3)\n",
    "print(\"The odd numbers are :\",lst4)"
   ]
  },
  {
   "cell_type": "markdown",
   "metadata": {},
   "source": [
    "10. Write a Python program to find the intersection of two\n",
    "given arrays using Lambda and filter."
   ]
  },
  {
   "cell_type": "code",
   "execution_count": 33,
   "metadata": {},
   "outputs": [
    {
     "name": "stdout",
     "output_type": "stream",
     "text": [
      "Original arrays: [1, 2, 3, 5, 7, 8, 9, 10] [1, 6, 78, 8, 9, 43]\n",
      "Intersection of arrays are :  [1, 8, 9]\n"
     ]
    }
   ],
   "source": [
    "list1 = [1, 2, 3, 5, 7, 8, 9, 10]\n",
    "list2 = [1,6,78,8,9,43]\n",
    "print(\"Original arrays:\",list1,list2)\n",
    "result = list(filter(lambda x: x in list1,list2))\n",
    "print(\"Intersection of arrays are : \",result)"
   ]
  }
 ],
 "metadata": {
  "kernelspec": {
   "display_name": "Python 3",
   "language": "python",
   "name": "python3"
  },
  "language_info": {
   "codemirror_mode": {
    "name": "ipython",
    "version": 3
   },
   "file_extension": ".py",
   "mimetype": "text/x-python",
   "name": "python",
   "nbconvert_exporter": "python",
   "pygments_lexer": "ipython3",
   "version": "3.8.8"
  }
 },
 "nbformat": 4,
 "nbformat_minor": 4
}
