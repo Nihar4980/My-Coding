{
 "cells": [
  {
   "cell_type": "code",
   "execution_count": 24,
   "metadata": {},
   "outputs": [
    {
     "name": "stdout",
     "output_type": "stream",
     "text": [
      "Enter Your Fullname : Nihar Ranjan Swain\n",
      "Your short name is : N.R.Swain\n"
     ]
    }
   ],
   "source": [
    "name = input(\"Enter Your Fullname : \")\n",
    "lst = []\n",
    "lst = name.split()\n",
    "sname =\"\"\n",
    "lanme =\"\"\n",
    "for i in range(len(lst)-1):\n",
    "    s = lst[i]\n",
    "    sname = sname + s[0].upper()+\".\"\n",
    "lname = lst[-1].title()\n",
    "short = sname + lname\n",
    "print(\"Your short name is :\",short)\n"
   ]
  },
  {
   "cell_type": "code",
   "execution_count": 26,
   "metadata": {},
   "outputs": [
    {
     "name": "stdout",
     "output_type": "stream",
     "text": [
      " Enter a String :abc\n",
      " The string is not palindrome\n"
     ]
    }
   ],
   "source": [
    "x = input(\" Enter a String :\")\n",
    "y = x[-1::-1]\n",
    "if (x==y):\n",
    "    print (\"The string is palindrome\")\n",
    "else:\n",
    "    print(\" The string is not palindrome\")"
   ]
  }
 ],
 "metadata": {
  "kernelspec": {
   "display_name": "Python 3",
   "language": "python",
   "name": "python3"
  },
  "language_info": {
   "codemirror_mode": {
    "name": "ipython",
    "version": 3
   },
   "file_extension": ".py",
   "mimetype": "text/x-python",
   "name": "python",
   "nbconvert_exporter": "python",
   "pygments_lexer": "ipython3",
   "version": "3.8.5"
  }
 },
 "nbformat": 4,
 "nbformat_minor": 4
}
