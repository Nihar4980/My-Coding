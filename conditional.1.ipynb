{
 "cells": [
  {
   "cell_type": "markdown",
   "metadata": {},
   "source": [
    "1. Take two integer values from the user and print greatest\n",
    "among them."
   ]
  },
  {
   "cell_type": "code",
   "execution_count": 1,
   "metadata": {},
   "outputs": [
    {
     "name": "stdout",
     "output_type": "stream",
     "text": [
      "Enter the value of x : 4\n",
      "Enter the value of y : 5\n",
      "y is greater than x\n"
     ]
    }
   ],
   "source": [
    "x = int(input(\"Enter the value of x : \"))\n",
    "y = int(input(\"Enter the value of y : \"))\n",
    "if x>y:\n",
    "    print(\"x is greater than y\")\n",
    "else:\n",
    "    print(\"y is greater than x\")"
   ]
  },
  {
   "cell_type": "markdown",
   "metadata": {},
   "source": [
    "2. Write a program that reads an integer from the user. Then\n",
    "your program should display a message indicating\n",
    "whether the integer is even or odd."
   ]
  },
  {
   "cell_type": "code",
   "execution_count": 2,
   "metadata": {},
   "outputs": [
    {
     "name": "stdout",
     "output_type": "stream",
     "text": [
      "Enter the value of x : 7\n",
      "Integer is Odd\n"
     ]
    }
   ],
   "source": [
    "x = int(input(\"Enter the value of x : \"))\n",
    "if x%2==0:\n",
    "    print(\"Integer is Even\")\n",
    "else:\n",
    "    print(\"Integer is Odd\")"
   ]
  },
  {
   "cell_type": "markdown",
   "metadata": {},
   "source": [
    "3. Create a program that reads a letter of the alphabet from\n",
    "the user. If the user enters a, e, i, o or u then your program\n",
    "should display a message indicating that the entered letter is\n",
    "a vowel. If the user enters y then your program should\n",
    "display a message indicating that sometimes y is a vowel,\n",
    "and sometimes y is a consonant. Otherwise your program\n",
    "should display a message indicating that the letter is a\n",
    "consonant."
   ]
  },
  {
   "cell_type": "code",
   "execution_count": 1,
   "metadata": {},
   "outputs": [
    {
     "name": "stdout",
     "output_type": "stream",
     "text": [
      "Enter a letter of the alphabet: a\n",
      "a is a vowel.\n"
     ]
    }
   ],
   "source": [
    "letter = input(\"Enter a letter of the alphabet: \")\n",
    "\n",
    "if letter in ('a','e','i','o','u'):\n",
    "    print(\"%s is a vowel.\" % (letter))\n",
    "elif letter == 'y':\n",
    "    print(\"Sometimes letter y stand for vowel, sometimes stand for consonant.\")\n",
    "else:\n",
    "    print(\"%s is a consonant.\" % (letter))"
   ]
  },
  {
   "cell_type": "markdown",
   "metadata": {},
   "source": [
    "4. A triangle can be classified based on the lengths of its\n",
    "sides as equilateral, isosceles or scalene. All three sides of an\n",
    "equilateral triangle have the same length. An isosceles\n",
    "triangle has two sides that are the same length, and a third\n",
    "side that is a different length. If all of the sides have different\n",
    "lengths then the triangle is scalene. Write a program that\n",
    "reads the lengths of the three sides of a triangle from the user.\n",
    "Then display a message that states the triangle’s type."
   ]
  },
  {
   "cell_type": "code",
   "execution_count": 4,
   "metadata": {},
   "outputs": [
    {
     "name": "stdout",
     "output_type": "stream",
     "text": [
      "Enter lengths of the triangle sides: \n",
      "a : 4\n",
      "b : 4\n",
      "c : 4\n",
      "Triangle is Equilateral\n"
     ]
    }
   ],
   "source": [
    "print(\"Enter lengths of the triangle sides: \")\n",
    "a = int(input(\"a : \"))\n",
    "b = int(input(\"b : \"))\n",
    "c = int(input(\"c : \"))\n",
    "\n",
    "if a == b == c:\n",
    "    print(\"Triangle is Equilateral\")\n",
    "elif a==b or b==c or c==a:\n",
    "    print(\"Triangle is isosceles\")\n",
    "else:\n",
    "    print(\"Triangle is scalene\")"
   ]
  },
  {
   "cell_type": "markdown",
   "metadata": {},
   "source": [
    "5. Write a program that determines the name of a shape\n",
    "from its number of sides. Read the number of sides from the\n",
    "user and then report the appropriate name as part of a\n",
    "meaningful message. Your program should support shapes\n",
    "with anywhere from 3 up to (and including) 10 sides. If a\n",
    "number of sides outside of this range is entered then your\n",
    "program should display an appropriate error message."
   ]
  },
  {
   "cell_type": "code",
   "execution_count": 38,
   "metadata": {},
   "outputs": [
    {
     "name": "stdout",
     "output_type": "stream",
     "text": [
      "Enter number of sides: 7\n",
      "heptagon\n"
     ]
    }
   ],
   "source": [
    "n = int(input(\"Enter number of sides: \"))\n",
    "if n == 3:\n",
    "    print(\"triangle\")\n",
    "elif n == 4:\n",
    "    print(\"quadrilateral\")\n",
    "elif n == 5:\n",
    "    print(\"pentagon\")\n",
    "elif n == 6:\n",
    "    print(\"hexagon\")\n",
    "elif n == 7:\n",
    "    print(\"heptagon\")\n",
    "elif n == 8:\n",
    "    print(\"octagon\")\n",
    "elif n == 9:\n",
    "    print(\"nonagon\")\n",
    "elif n == 10:\n",
    "    print(\"decagon\")\n",
    "else:\n",
    "    print(\"error message\")"
   ]
  },
  {
   "cell_type": "markdown",
   "metadata": {},
   "source": [
    "6. A shop will give a discount of 10% if the cost of the\n",
    "purchased quantity is more than 1000. Ask the user for\n",
    "quantity, suppose, one unit will cost 100. Judge and print\n",
    "total cost for user."
   ]
  },
  {
   "cell_type": "code",
   "execution_count": 7,
   "metadata": {},
   "outputs": [
    {
     "name": "stdout",
     "output_type": "stream",
     "text": [
      "Enter quantity : 5\n",
      "Total Cost is 500\n"
     ]
    }
   ],
   "source": [
    "q = int(input(\"Enter quantity : \"))\n",
    "total = (q*100)\n",
    "dis_10 = (total-(0.1*total))\n",
    "if total > 1000: \n",
    "    print (\"Total Cost is\",dis_10)\n",
    "else: \n",
    "    print (\"Total Cost is\",total)"
   ]
  },
  {
   "cell_type": "markdown",
   "metadata": {},
   "source": [
    "7. Take input of age of 3 people by user and determine\n",
    "oldest and youngest among them."
   ]
  },
  {
   "cell_type": "code",
   "execution_count": 56,
   "metadata": {},
   "outputs": [
    {
     "name": "stdout",
     "output_type": "stream",
     "text": [
      "Enter ram age: 34\n",
      "Enter sham age: 23\n",
      "Enter hari age: 46\n",
      "hari is oldest\n",
      "sham is youngest\n"
     ]
    }
   ],
   "source": [
    "ram = int(input(\"Enter ram age: \"))\n",
    "sham = int(input(\"Enter sham age: \"))\n",
    "hari = int(input(\"Enter hari age: \"))\n",
    "if ram>=sham and ram>=hari:\n",
    "    print(\"ram is oldest\")\n",
    "    if sham<hari:\n",
    "        print(\"sham is youngest\")\n",
    "    else:\n",
    "        print(\"hari is youngest\")\n",
    "elif sham>=hari and sham>=ram:\n",
    "    print(\"sham is oldest\")\n",
    "    if ram<hari:\n",
    "        print(\"ram is youngest\")\n",
    "    else:\n",
    "        print(\"hari is youngest\")\n",
    "elif hari>=ram and hari>=sham:\n",
    "    print(\"hari is oldest\")\n",
    "    if ram<sham:\n",
    "        print(\"ram is youngest\")\n",
    "    else:\n",
    "        print(\"sham is youngest\")\n",
    "else:\n",
    "    print(\"all are equal\")"
   ]
  },
  {
   "cell_type": "markdown",
   "metadata": {},
   "source": [
    "8. A company decided to give a bonus of 5% to an employee\n",
    "if his/her year of service is more than 5 years. Ask user for\n",
    "their salary and year of service and print the net bonus\n",
    "amount."
   ]
  },
  {
   "cell_type": "code",
   "execution_count": 60,
   "metadata": {},
   "outputs": [
    {
     "name": "stdout",
     "output_type": "stream",
     "text": [
      "Enter salary of employee: 33567.54\n",
      "Enter year of service: 6\n",
      "The net bonous amount is 1678.3770000000002\n"
     ]
    }
   ],
   "source": [
    "salary = float(input(\"Enter salary of employee: \"))\n",
    "year = int(input(\"Enter year of service: \"))\n",
    "if year>5:\n",
    "    print(\"The net bonous amount is {}\".format(0.05*salary))\n",
    "else:\n",
    "    print(\"No bonous\")"
   ]
  },
  {
   "cell_type": "markdown",
   "metadata": {},
   "source": [
    "9.Write a program to check if a year is leap year or not.\n",
    "If a year is divisible by 4 then it is leap year but if the year is\n",
    "a century year like 2000, 1900, 2100 then it must be divisible\n",
    "by 400."
   ]
  },
  {
   "cell_type": "code",
   "execution_count": 64,
   "metadata": {},
   "outputs": [
    {
     "name": "stdout",
     "output_type": "stream",
     "text": [
      "Enter a year: 64\n",
      "64 is a leap year\n"
     ]
    }
   ],
   "source": [
    "year = int(input(\"Enter a year: \"))\n",
    "\n",
    "if (year % 4) == 0:\n",
    "    if (year % 100) == 0:\n",
    "        if (year % 400) == 0:\n",
    "            print(\"{} is a leap year\".format(year))\n",
    "        else:\n",
    "            print(\"{} is not a leap year\".format(year))\n",
    "    else:\n",
    "        print(\"{} is a leap year\".format(year))\n",
    "else:\n",
    "    print(\"{} is not a leap year\".format(year))"
   ]
  },
  {
   "cell_type": "markdown",
   "metadata": {},
   "source": [
    "10. Accept d1 and d2 as input. First, check to see that they\n",
    "are in the proper range for dice. If not, print a message.\n",
    "Otherwise, determine the outcome if this is the come out roll.\n",
    "If the sum is 7 or 11, print the winner. If the sum is 2, 3 or\n",
    "12, print loser. Otherwise print the point."
   ]
  },
  {
   "cell_type": "code",
   "execution_count": 74,
   "metadata": {},
   "outputs": [
    {
     "name": "stdout",
     "output_type": "stream",
     "text": [
      "Enter the value of d1 : 4\n",
      "Enter the value of d2 : 3\n",
      "winner\n"
     ]
    }
   ],
   "source": [
    "d1 = int(input(\"Enter the value of d1 : \"))\n",
    "d2 = int(input(\"Enter the value of d2 : \"))\n",
    "add = d1+d2\n",
    "if d1<=6 and d2<=6:\n",
    "    if ((add == 7) or (add == 11)):\n",
    "        print(\"winner\")\n",
    "    elif ((add==2) or (add==3) or (add==12)):\n",
    "        print(\"loser\")\n",
    "    else:\n",
    "        print(\"none\")\n",
    "else:\n",
    "    print(\"Please enter the correct value of dice\")\n",
    "    \n",
    "    "
   ]
  },
  {
   "cell_type": "markdown",
   "metadata": {},
   "source": [
    "11. Write a python program to display the number of days in\n",
    "a month name from the given list of months or month\n",
    "number entered by user."
   ]
  },
  {
   "cell_type": "code",
   "execution_count": 76,
   "metadata": {},
   "outputs": [
    {
     "name": "stdout",
     "output_type": "stream",
     "text": [
      "List of months: January, February, March, April, May, June, July, August, September, October, November, December\n",
      "Input the name of Month: February\n",
      "No. of days: 28/29 days\n"
     ]
    }
   ],
   "source": [
    "print(\"List of months: January, February, March, April, May, June, July, August, September, October, November, December\")\n",
    "month_name = input(\"Input the name of Month: \")\n",
    " \n",
    "if month_name == \"February\":\n",
    "    print(\"No. of days: 28/29 days\")\n",
    "elif month_name in (\"April\", \"June\", \"September\", \"November\"):\n",
    "    print(\"No. of days: 30 days\")\n",
    "elif month_name in (\"January\", \"March\", \"May\", \"July\", \"August\", \"October\", \"December\"):\n",
    "    print(\"No. of days: 31 day\")\n",
    "else:\n",
    "    print(\"Wrong month name\") "
   ]
  },
  {
   "cell_type": "markdown",
   "metadata": {},
   "source": [
    "12. Write a Python program to get next day of a given date."
   ]
  },
  {
   "cell_type": "code",
   "execution_count": 79,
   "metadata": {},
   "outputs": [
    {
     "name": "stdout",
     "output_type": "stream",
     "text": [
      "Enter Day : 31\n",
      "Enter Month : 12\n",
      "Enter Year : 2020\n",
      "Next Day :  1 / 1 / 2021\n"
     ]
    }
   ],
   "source": [
    "d=int(input(\"Enter Day : \"))\n",
    "m=int(input(\"Enter Month : \"))\n",
    "y=int(input(\"Enter Year : \"))\n",
    "if ((y % 4 == 0) and (y % 100!= 0)) or (y%400 == 0):\n",
    "    if m==2:\n",
    "        d1=29\n",
    "    elif m==1 or m==3 or m==5 or m==7 or m==8 or m==10 or m==12:\n",
    "        d1=31\n",
    "    else :\n",
    "        d1=30\n",
    "else:\n",
    "    if m==2:\n",
    "        d1=28\n",
    "    elif m==1 or m==3 or m==5 or m==7 or m==8 or m==10 or m==12:\n",
    "        d1=31\n",
    "    else :\n",
    "        d1=30\n",
    "if d==31 and m==12 :\n",
    "    d=1\n",
    "    m=1\n",
    "    y=y+1   \n",
    "elif d1-d==0 :\n",
    "    m=m+1\n",
    "    d=1\n",
    "else:\n",
    "    d=d+1\n",
    "print(\"Next Day : \",d,\"/\",m,\"/\",y)"
   ]
  }
 ],
 "metadata": {
  "kernelspec": {
   "display_name": "Python 3",
   "language": "python",
   "name": "python3"
  },
  "language_info": {
   "codemirror_mode": {
    "name": "ipython",
    "version": 3
   },
   "file_extension": ".py",
   "mimetype": "text/x-python",
   "name": "python",
   "nbconvert_exporter": "python",
   "pygments_lexer": "ipython3",
   "version": "3.8.5"
  }
 },
 "nbformat": 4,
 "nbformat_minor": 4
}
