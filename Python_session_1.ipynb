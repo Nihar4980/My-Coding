{
 "cells": [
  {
   "cell_type": "markdown",
   "id": "57478628",
   "metadata": {},
   "source": [
    "## Numeric datatype"
   ]
  },
  {
   "cell_type": "code",
   "execution_count": 37,
   "id": "595d77a0",
   "metadata": {},
   "outputs": [
    {
     "data": {
      "text/plain": [
       "22"
      ]
     },
     "execution_count": 37,
     "metadata": {},
     "output_type": "execute_result"
    }
   ],
   "source": [
    "11*2"
   ]
  },
  {
   "cell_type": "code",
   "execution_count": 38,
   "id": "b700a9df",
   "metadata": {},
   "outputs": [
    {
     "data": {
      "text/plain": [
       "1"
      ]
     },
     "execution_count": 38,
     "metadata": {},
     "output_type": "execute_result"
    }
   ],
   "source": [
    "2-1"
   ]
  },
  {
   "cell_type": "code",
   "execution_count": 39,
   "id": "4ef203a1",
   "metadata": {
    "scrolled": true
   },
   "outputs": [
    {
     "data": {
      "text/plain": [
       "3"
      ]
     },
     "execution_count": 39,
     "metadata": {},
     "output_type": "execute_result"
    }
   ],
   "source": [
    "3-0"
   ]
  },
  {
   "cell_type": "markdown",
   "id": "51911dff",
   "metadata": {},
   "source": [
    "# Heading\n",
    "## abc\n",
    "### cd\n",
    "hello"
   ]
  },
  {
   "cell_type": "code",
   "execution_count": 40,
   "id": "303118fa",
   "metadata": {},
   "outputs": [
    {
     "name": "stdout",
     "output_type": "stream",
     "text": [
      "Enter Your Name: \n",
      "\n"
     ]
    }
   ],
   "source": [
    "print(input('Enter Your Name: '))"
   ]
  },
  {
   "cell_type": "code",
   "execution_count": 41,
   "id": "bb1ae958",
   "metadata": {},
   "outputs": [
    {
     "name": "stdout",
     "output_type": "stream",
     "text": [
      "hello world\n"
     ]
    }
   ],
   "source": [
    "print('hello world')"
   ]
  },
  {
   "cell_type": "code",
   "execution_count": 42,
   "id": "4ce69dd4",
   "metadata": {},
   "outputs": [
    {
     "name": "stdout",
     "output_type": "stream",
     "text": [
      "11\n"
     ]
    }
   ],
   "source": [
    "print(2+4+5)"
   ]
  },
  {
   "cell_type": "code",
   "execution_count": 43,
   "id": "1adb907b",
   "metadata": {},
   "outputs": [
    {
     "data": {
      "text/plain": [
       "5"
      ]
     },
     "execution_count": 43,
     "metadata": {},
     "output_type": "execute_result"
    }
   ],
   "source": [
    "# This is the comment\n",
    "2+3"
   ]
  },
  {
   "cell_type": "code",
   "execution_count": 44,
   "id": "16449662",
   "metadata": {},
   "outputs": [
    {
     "data": {
      "text/plain": [
       "5"
      ]
     },
     "execution_count": 44,
     "metadata": {},
     "output_type": "execute_result"
    }
   ],
   "source": [
    "'This is the comment'\n",
    "2+3"
   ]
  },
  {
   "cell_type": "code",
   "execution_count": 45,
   "id": "c3b595b8",
   "metadata": {},
   "outputs": [
    {
     "data": {
      "text/plain": [
       "'This is a string'"
      ]
     },
     "execution_count": 45,
     "metadata": {},
     "output_type": "execute_result"
    }
   ],
   "source": [
    "'This is a string'"
   ]
  },
  {
   "cell_type": "code",
   "execution_count": 46,
   "id": "e5074b3e",
   "metadata": {},
   "outputs": [
    {
     "data": {
      "text/plain": [
       "'String'"
      ]
     },
     "execution_count": 46,
     "metadata": {},
     "output_type": "execute_result"
    }
   ],
   "source": [
    "\"String\""
   ]
  },
  {
   "cell_type": "code",
   "execution_count": 47,
   "id": "bc630132",
   "metadata": {},
   "outputs": [
    {
     "data": {
      "text/plain": [
       "'This is Hello World'"
      ]
     },
     "execution_count": 47,
     "metadata": {},
     "output_type": "execute_result"
    }
   ],
   "source": [
    "'''This is Hello World'''"
   ]
  },
  {
   "cell_type": "code",
   "execution_count": 48,
   "id": "bac9055a",
   "metadata": {},
   "outputs": [
    {
     "name": "stdout",
     "output_type": "stream",
     "text": [
      "89\n"
     ]
    }
   ],
   "source": [
    "a= 89\n",
    "print(a)"
   ]
  },
  {
   "cell_type": "code",
   "execution_count": 49,
   "id": "6ccfad83",
   "metadata": {},
   "outputs": [
    {
     "name": "stdout",
     "output_type": "stream",
     "text": [
      "34\n"
     ]
    }
   ],
   "source": [
    "x=34\n",
    "print(x)"
   ]
  },
  {
   "cell_type": "code",
   "execution_count": 50,
   "id": "d86b7e59",
   "metadata": {},
   "outputs": [
    {
     "name": "stdout",
     "output_type": "stream",
     "text": [
      "3026\n"
     ]
    }
   ],
   "source": [
    "print(a*x)"
   ]
  },
  {
   "cell_type": "code",
   "execution_count": 51,
   "id": "8bd9b3dc",
   "metadata": {},
   "outputs": [],
   "source": [
    "a= 1024"
   ]
  },
  {
   "cell_type": "code",
   "execution_count": 52,
   "id": "c2207036",
   "metadata": {},
   "outputs": [],
   "source": [
    "a=35"
   ]
  },
  {
   "cell_type": "code",
   "execution_count": 53,
   "id": "8f533498",
   "metadata": {},
   "outputs": [
    {
     "name": "stdout",
     "output_type": "stream",
     "text": [
      "35\n"
     ]
    }
   ],
   "source": [
    "print(a)"
   ]
  },
  {
   "cell_type": "code",
   "execution_count": 54,
   "id": "463f0c89",
   "metadata": {},
   "outputs": [
    {
     "name": "stdout",
     "output_type": "stream",
     "text": [
      "12\n"
     ]
    },
    {
     "data": {
      "text/plain": [
       "int"
      ]
     },
     "execution_count": 54,
     "metadata": {},
     "output_type": "execute_result"
    }
   ],
   "source": [
    "x=12\n",
    "print(x)\n",
    "type(x)"
   ]
  },
  {
   "cell_type": "code",
   "execution_count": 55,
   "id": "b50e713e",
   "metadata": {},
   "outputs": [
    {
     "name": "stdout",
     "output_type": "stream",
     "text": [
      "2.99\n"
     ]
    },
    {
     "data": {
      "text/plain": [
       "float"
      ]
     },
     "execution_count": 55,
     "metadata": {},
     "output_type": "execute_result"
    }
   ],
   "source": [
    "y=2.99\n",
    "print(y)\n",
    "type(y)"
   ]
  },
  {
   "cell_type": "code",
   "execution_count": 56,
   "id": "bc7566a1",
   "metadata": {},
   "outputs": [
    {
     "name": "stdout",
     "output_type": "stream",
     "text": [
      "35.88\n"
     ]
    },
    {
     "data": {
      "text/plain": [
       "float"
      ]
     },
     "execution_count": 56,
     "metadata": {},
     "output_type": "execute_result"
    }
   ],
   "source": [
    "print(x*y)\n",
    "type(x*y)"
   ]
  },
  {
   "cell_type": "code",
   "execution_count": 57,
   "id": "30466db4",
   "metadata": {},
   "outputs": [
    {
     "data": {
      "text/plain": [
       "14.99"
      ]
     },
     "execution_count": 57,
     "metadata": {},
     "output_type": "execute_result"
    }
   ],
   "source": [
    "x+y"
   ]
  },
  {
   "cell_type": "code",
   "execution_count": 58,
   "id": "99b705ff",
   "metadata": {},
   "outputs": [
    {
     "data": {
      "text/plain": [
       "9.01"
      ]
     },
     "execution_count": 58,
     "metadata": {},
     "output_type": "execute_result"
    }
   ],
   "source": [
    "x-y"
   ]
  },
  {
   "cell_type": "code",
   "execution_count": 59,
   "id": "79a22bcd",
   "metadata": {},
   "outputs": [
    {
     "data": {
      "text/plain": [
       "4.013377926421405"
      ]
     },
     "execution_count": 59,
     "metadata": {},
     "output_type": "execute_result"
    }
   ],
   "source": [
    "x/y"
   ]
  },
  {
   "cell_type": "code",
   "execution_count": 60,
   "id": "c5724e0f",
   "metadata": {},
   "outputs": [
    {
     "data": {
      "text/plain": [
       "1.875"
      ]
     },
     "execution_count": 60,
     "metadata": {},
     "output_type": "execute_result"
    }
   ],
   "source": [
    "30/16"
   ]
  },
  {
   "cell_type": "code",
   "execution_count": 61,
   "id": "963279e3",
   "metadata": {},
   "outputs": [
    {
     "data": {
      "text/plain": [
       "2"
      ]
     },
     "execution_count": 61,
     "metadata": {},
     "output_type": "execute_result"
    }
   ],
   "source": [
    "40//15"
   ]
  },
  {
   "cell_type": "code",
   "execution_count": 62,
   "id": "a151b95f",
   "metadata": {},
   "outputs": [
    {
     "data": {
      "text/plain": [
       "3"
      ]
     },
     "execution_count": 62,
     "metadata": {},
     "output_type": "execute_result"
    }
   ],
   "source": [
    "7%4"
   ]
  },
  {
   "cell_type": "code",
   "execution_count": 63,
   "id": "f20602aa",
   "metadata": {},
   "outputs": [
    {
     "data": {
      "text/plain": [
       "8"
      ]
     },
     "execution_count": 63,
     "metadata": {},
     "output_type": "execute_result"
    }
   ],
   "source": [
    "2**3"
   ]
  },
  {
   "cell_type": "code",
   "execution_count": 64,
   "id": "91f56eb8",
   "metadata": {},
   "outputs": [
    {
     "data": {
      "text/plain": [
       "2.0"
      ]
     },
     "execution_count": 64,
     "metadata": {},
     "output_type": "execute_result"
    }
   ],
   "source": [
    "8**(1/3)"
   ]
  },
  {
   "cell_type": "code",
   "execution_count": 65,
   "id": "d0aaab4e",
   "metadata": {},
   "outputs": [
    {
     "data": {
      "text/plain": [
       "2.0"
      ]
     },
     "execution_count": 65,
     "metadata": {},
     "output_type": "execute_result"
    }
   ],
   "source": [
    "4**0.5"
   ]
  },
  {
   "cell_type": "code",
   "execution_count": 66,
   "id": "c83c277d",
   "metadata": {},
   "outputs": [
    {
     "data": {
      "text/plain": [
       "84"
      ]
     },
     "execution_count": 66,
     "metadata": {},
     "output_type": "execute_result"
    }
   ],
   "source": [
    "(2+10)*(5+2)"
   ]
  },
  {
   "cell_type": "code",
   "execution_count": 67,
   "id": "8f3ebd1f",
   "metadata": {},
   "outputs": [
    {
     "data": {
      "text/plain": [
       "12"
      ]
     },
     "execution_count": 67,
     "metadata": {},
     "output_type": "execute_result"
    }
   ],
   "source": [
    "x"
   ]
  },
  {
   "cell_type": "code",
   "execution_count": 68,
   "id": "d1a3c5cc",
   "metadata": {},
   "outputs": [],
   "source": [
    "x=float(x)"
   ]
  },
  {
   "cell_type": "code",
   "execution_count": 69,
   "id": "0990b130",
   "metadata": {},
   "outputs": [
    {
     "data": {
      "text/plain": [
       "float"
      ]
     },
     "execution_count": 69,
     "metadata": {},
     "output_type": "execute_result"
    }
   ],
   "source": [
    "type(x)"
   ]
  },
  {
   "cell_type": "code",
   "execution_count": 70,
   "id": "7b7916f9",
   "metadata": {},
   "outputs": [
    {
     "data": {
      "text/plain": [
       "int"
      ]
     },
     "execution_count": 70,
     "metadata": {},
     "output_type": "execute_result"
    }
   ],
   "source": [
    "z=int(5.99)\n",
    "type(z)"
   ]
  },
  {
   "cell_type": "code",
   "execution_count": 71,
   "id": "6d850eb8",
   "metadata": {},
   "outputs": [
    {
     "name": "stdout",
     "output_type": "stream",
     "text": [
      "20\n",
      "9\n"
     ]
    }
   ],
   "source": [
    "x=20\n",
    "y=9\n",
    "print(x,y,sep='\\n')"
   ]
  },
  {
   "cell_type": "code",
   "execution_count": 72,
   "id": "6621f65c",
   "metadata": {},
   "outputs": [
    {
     "name": "stdout",
     "output_type": "stream",
     "text": [
      "29\n"
     ]
    }
   ],
   "source": [
    "print(x+y)"
   ]
  },
  {
   "cell_type": "code",
   "execution_count": 73,
   "id": "47c42de7",
   "metadata": {},
   "outputs": [
    {
     "name": "stdout",
     "output_type": "stream",
     "text": [
      "11\n"
     ]
    }
   ],
   "source": [
    "print(x-y)"
   ]
  },
  {
   "cell_type": "code",
   "execution_count": 74,
   "id": "e1c9fee6",
   "metadata": {},
   "outputs": [
    {
     "name": "stdout",
     "output_type": "stream",
     "text": [
      "180\n"
     ]
    }
   ],
   "source": [
    "print(x*y)"
   ]
  },
  {
   "cell_type": "code",
   "execution_count": 75,
   "id": "c047c556",
   "metadata": {},
   "outputs": [
    {
     "name": "stdout",
     "output_type": "stream",
     "text": [
      "2\n"
     ]
    }
   ],
   "source": [
    "print(x//y)"
   ]
  },
  {
   "cell_type": "code",
   "execution_count": 76,
   "id": "3276f7a5",
   "metadata": {},
   "outputs": [
    {
     "name": "stdout",
     "output_type": "stream",
     "text": [
      "2.2222222222222223\n"
     ]
    }
   ],
   "source": [
    "print(x/y)"
   ]
  },
  {
   "cell_type": "code",
   "execution_count": 77,
   "id": "11db9bf3",
   "metadata": {},
   "outputs": [
    {
     "name": "stdout",
     "output_type": "stream",
     "text": [
      "2\n"
     ]
    }
   ],
   "source": [
    "print(x%y)"
   ]
  },
  {
   "cell_type": "code",
   "execution_count": 78,
   "id": "30b83555",
   "metadata": {},
   "outputs": [
    {
     "data": {
      "text/plain": [
       "(2, 2)"
      ]
     },
     "execution_count": 78,
     "metadata": {},
     "output_type": "execute_result"
    }
   ],
   "source": [
    "# divmod: output both divider and remainder \n",
    "divmod(x,y)"
   ]
  },
  {
   "cell_type": "code",
   "execution_count": 79,
   "id": "036f8a13",
   "metadata": {},
   "outputs": [
    {
     "data": {
      "text/plain": [
       "4"
      ]
     },
     "execution_count": 79,
     "metadata": {},
     "output_type": "execute_result"
    }
   ],
   "source": [
    "a=4\n",
    "b=5\n",
    "c=6\n",
    "(a**b)%c\n"
   ]
  },
  {
   "cell_type": "code",
   "execution_count": 80,
   "id": "f0490511",
   "metadata": {},
   "outputs": [
    {
     "data": {
      "text/plain": [
       "4.0"
      ]
     },
     "execution_count": 80,
     "metadata": {},
     "output_type": "execute_result"
    }
   ],
   "source": [
    "import math\n",
    "a,b,c = 4,5,6\n",
    "math.pow(a,b)%c"
   ]
  },
  {
   "cell_type": "code",
   "execution_count": 81,
   "id": "8a50681e",
   "metadata": {},
   "outputs": [
    {
     "data": {
      "text/plain": [
       "160000.0"
      ]
     },
     "execution_count": 81,
     "metadata": {},
     "output_type": "execute_result"
    }
   ],
   "source": [
    "round(156700.23456,-4)"
   ]
  },
  {
   "cell_type": "markdown",
   "id": "c8a20430",
   "metadata": {},
   "source": [
    "# String Creation"
   ]
  },
  {
   "cell_type": "code",
   "execution_count": 82,
   "id": "2c385136",
   "metadata": {},
   "outputs": [
    {
     "data": {
      "text/plain": [
       "'a'"
      ]
     },
     "execution_count": 82,
     "metadata": {},
     "output_type": "execute_result"
    }
   ],
   "source": [
    "'a'"
   ]
  },
  {
   "cell_type": "code",
   "execution_count": 83,
   "id": "cb6e8e77",
   "metadata": {},
   "outputs": [],
   "source": [
    "g='''This is 'ordinary'\n",
    "hello\n",
    "world\n",
    "machine learning course'''"
   ]
  },
  {
   "cell_type": "code",
   "execution_count": 84,
   "id": "91898aeb",
   "metadata": {},
   "outputs": [
    {
     "name": "stdout",
     "output_type": "stream",
     "text": [
      "This is 'ordinary'\n",
      "hello\n",
      "world\n",
      "machine learning course\n"
     ]
    }
   ],
   "source": [
    "print(g)"
   ]
  },
  {
   "cell_type": "code",
   "execution_count": 85,
   "id": "9e77289f",
   "metadata": {},
   "outputs": [],
   "source": [
    "x = 'Hello,my name is Nihar'\n",
    "y=',Whatis your name'"
   ]
  },
  {
   "cell_type": "code",
   "execution_count": 86,
   "id": "34cef98f",
   "metadata": {},
   "outputs": [
    {
     "data": {
      "text/plain": [
       "'Hello,my name is Nihar,Whatis your name'"
      ]
     },
     "execution_count": 86,
     "metadata": {},
     "output_type": "execute_result"
    }
   ],
   "source": [
    "z=x+y\n",
    "z"
   ]
  },
  {
   "cell_type": "code",
   "execution_count": 87,
   "id": "bb5f60ab",
   "metadata": {},
   "outputs": [
    {
     "name": "stdout",
     "output_type": "stream",
     "text": [
      "Hello,my name is Nihar  hello,Whatis your name\n"
     ]
    }
   ],
   "source": [
    "print(x+ '  hello'+y)"
   ]
  },
  {
   "cell_type": "code",
   "execution_count": 88,
   "id": "eb25e8ac",
   "metadata": {},
   "outputs": [
    {
     "name": "stdout",
     "output_type": "stream",
     "text": [
      "11\n",
      "92\n"
     ]
    },
    {
     "ename": "TypeError",
     "evalue": "can only concatenate str (not \"int\") to str",
     "output_type": "error",
     "traceback": [
      "\u001b[1;31m---------------------------------------------------------------------------\u001b[0m",
      "\u001b[1;31mTypeError\u001b[0m                                 Traceback (most recent call last)",
      "\u001b[1;32m~\\AppData\\Local\\Temp/ipykernel_5504/3172568976.py\u001b[0m in \u001b[0;36m<module>\u001b[1;34m\u001b[0m\n\u001b[0;32m      1\u001b[0m \u001b[0mprint\u001b[0m\u001b[1;33m(\u001b[0m\u001b[1;36m9\u001b[0m\u001b[1;33m+\u001b[0m\u001b[1;36m2\u001b[0m\u001b[1;33m)\u001b[0m\u001b[1;33m\u001b[0m\u001b[1;33m\u001b[0m\u001b[0m\n\u001b[0;32m      2\u001b[0m \u001b[0mprint\u001b[0m\u001b[1;33m(\u001b[0m\u001b[1;34m'9'\u001b[0m\u001b[1;33m+\u001b[0m\u001b[1;34m'2'\u001b[0m\u001b[1;33m)\u001b[0m\u001b[1;33m\u001b[0m\u001b[1;33m\u001b[0m\u001b[0m\n\u001b[1;32m----> 3\u001b[1;33m \u001b[0mprint\u001b[0m\u001b[1;33m(\u001b[0m\u001b[1;34m'9'\u001b[0m\u001b[1;33m+\u001b[0m\u001b[1;36m2\u001b[0m\u001b[1;33m)\u001b[0m\u001b[1;33m\u001b[0m\u001b[1;33m\u001b[0m\u001b[0m\n\u001b[0m",
      "\u001b[1;31mTypeError\u001b[0m: can only concatenate str (not \"int\") to str"
     ]
    }
   ],
   "source": [
    "print(9+2)\n",
    "print('9'+'2')\n",
    "print('9'+2)"
   ]
  },
  {
   "cell_type": "markdown",
   "id": "f60aa0ff",
   "metadata": {},
   "source": [
    "#  split"
   ]
  },
  {
   "cell_type": "code",
   "execution_count": null,
   "id": "68f59ff3",
   "metadata": {
    "scrolled": true
   },
   "outputs": [],
   "source": [
    "z='This is  a very i long i string i like this string'\n",
    "z.split()"
   ]
  },
  {
   "cell_type": "code",
   "execution_count": null,
   "id": "d269f875",
   "metadata": {},
   "outputs": [],
   "source": [
    "z = '         something some   '\n",
    "z= z.strip()\n",
    "z"
   ]
  },
  {
   "cell_type": "code",
   "execution_count": null,
   "id": "745c0985",
   "metadata": {},
   "outputs": [],
   "source": [
    "z.lstrip()"
   ]
  },
  {
   "cell_type": "code",
   "execution_count": null,
   "id": "469b91d7",
   "metadata": {},
   "outputs": [],
   "source": [
    "z.rstrip()"
   ]
  },
  {
   "cell_type": "code",
   "execution_count": 89,
   "id": "0c21884f",
   "metadata": {},
   "outputs": [
    {
     "data": {
      "text/plain": [
       "'Hello,my name is Nihar,Whatis your name'"
      ]
     },
     "execution_count": 89,
     "metadata": {},
     "output_type": "execute_result"
    }
   ],
   "source": [
    "z.replace('some','no')"
   ]
  },
  {
   "cell_type": "code",
   "execution_count": 90,
   "id": "340da838",
   "metadata": {},
   "outputs": [
    {
     "data": {
      "text/plain": [
       "39"
      ]
     },
     "execution_count": 90,
     "metadata": {},
     "output_type": "execute_result"
    }
   ],
   "source": [
    "len(z)"
   ]
  },
  {
   "cell_type": "code",
   "execution_count": 91,
   "id": "32c16154",
   "metadata": {},
   "outputs": [
    {
     "data": {
      "text/plain": [
       "'HELLO,MY NAME IS NIHAR,WHATIS YOUR NAME'"
      ]
     },
     "execution_count": 91,
     "metadata": {},
     "output_type": "execute_result"
    }
   ],
   "source": [
    "z.upper()"
   ]
  },
  {
   "cell_type": "code",
   "execution_count": 92,
   "id": "6f685ed1",
   "metadata": {},
   "outputs": [
    {
     "data": {
      "text/plain": [
       "'hello,my name is nihar,whatis your name'"
      ]
     },
     "execution_count": 92,
     "metadata": {},
     "output_type": "execute_result"
    }
   ],
   "source": [
    "z.lower()"
   ]
  },
  {
   "cell_type": "code",
   "execution_count": 93,
   "id": "32ae7d72",
   "metadata": {},
   "outputs": [
    {
     "data": {
      "text/plain": [
       "'Hello,my name is nihar,whatis your name'"
      ]
     },
     "execution_count": 93,
     "metadata": {},
     "output_type": "execute_result"
    }
   ],
   "source": [
    "z.capitalize()"
   ]
  },
  {
   "cell_type": "code",
   "execution_count": 94,
   "id": "11e36c3d",
   "metadata": {},
   "outputs": [
    {
     "data": {
      "text/plain": [
       "'Hello,my name is Nihar'"
      ]
     },
     "execution_count": 94,
     "metadata": {},
     "output_type": "execute_result"
    }
   ],
   "source": [
    "x"
   ]
  },
  {
   "cell_type": "code",
   "execution_count": 95,
   "id": "6d29f33f",
   "metadata": {},
   "outputs": [
    {
     "data": {
      "text/plain": [
       "',Whatis your name'"
      ]
     },
     "execution_count": 95,
     "metadata": {},
     "output_type": "execute_result"
    }
   ],
   "source": [
    "y"
   ]
  },
  {
   "cell_type": "code",
   "execution_count": 96,
   "id": "86e5042e",
   "metadata": {},
   "outputs": [
    {
     "name": "stdout",
     "output_type": "stream",
     "text": [
      "Hello,my name is Nihar,Whatis your name\n"
     ]
    }
   ],
   "source": [
    "print(x+y)"
   ]
  },
  {
   "cell_type": "code",
   "execution_count": 97,
   "id": "0563c103",
   "metadata": {},
   "outputs": [
    {
     "name": "stdout",
     "output_type": "stream",
     "text": [
      "this is Ranjan ,hello Nihar\n"
     ]
    }
   ],
   "source": [
    "print('this is {1} ,hello {0}'.format('Nihar','Ranjan') )"
   ]
  },
  {
   "cell_type": "code",
   "execution_count": 98,
   "id": "6677a015",
   "metadata": {},
   "outputs": [
    {
     "data": {
      "text/plain": [
       "'Hello to the World'"
      ]
     },
     "execution_count": 98,
     "metadata": {},
     "output_type": "execute_result"
    }
   ],
   "source": [
    "x= 'Hello to the World'\n",
    "x"
   ]
  },
  {
   "cell_type": "code",
   "execution_count": 99,
   "id": "6758cfb5",
   "metadata": {},
   "outputs": [
    {
     "data": {
      "text/plain": [
       "'dlroW eht ot olleH'"
      ]
     },
     "execution_count": 99,
     "metadata": {},
     "output_type": "execute_result"
    }
   ],
   "source": [
    "x[0::1]\n",
    "x[-1::-1]"
   ]
  },
  {
   "cell_type": "code",
   "execution_count": 100,
   "id": "0932a032",
   "metadata": {},
   "outputs": [
    {
     "data": {
      "text/plain": [
       "18"
      ]
     },
     "execution_count": 100,
     "metadata": {},
     "output_type": "execute_result"
    }
   ],
   "source": [
    "len(x)"
   ]
  },
  {
   "cell_type": "code",
   "execution_count": 101,
   "id": "6a85d7a0",
   "metadata": {},
   "outputs": [
    {
     "data": {
      "text/plain": [
       "'H'"
      ]
     },
     "execution_count": 101,
     "metadata": {},
     "output_type": "execute_result"
    }
   ],
   "source": [
    "x[0]"
   ]
  },
  {
   "cell_type": "code",
   "execution_count": 102,
   "id": "96fdcf56",
   "metadata": {},
   "outputs": [
    {
     "data": {
      "text/plain": [
       "'d'"
      ]
     },
     "execution_count": 102,
     "metadata": {},
     "output_type": "execute_result"
    }
   ],
   "source": [
    "x[17]"
   ]
  },
  {
   "cell_type": "code",
   "execution_count": 103,
   "id": "99d67b37",
   "metadata": {},
   "outputs": [
    {
     "data": {
      "text/plain": [
       "'Hello '"
      ]
     },
     "execution_count": 103,
     "metadata": {},
     "output_type": "execute_result"
    }
   ],
   "source": [
    "x[0:6]"
   ]
  },
  {
   "cell_type": "code",
   "execution_count": 104,
   "id": "2021f356",
   "metadata": {},
   "outputs": [
    {
     "data": {
      "text/plain": [
       "'World'"
      ]
     },
     "execution_count": 104,
     "metadata": {},
     "output_type": "execute_result"
    }
   ],
   "source": [
    "x[13:18]"
   ]
  },
  {
   "cell_type": "code",
   "execution_count": 105,
   "id": "793102b9",
   "metadata": {},
   "outputs": [
    {
     "data": {
      "text/plain": [
       "'d'"
      ]
     },
     "execution_count": 105,
     "metadata": {},
     "output_type": "execute_result"
    }
   ],
   "source": [
    "x[-1]"
   ]
  },
  {
   "cell_type": "code",
   "execution_count": 106,
   "id": "b8d727f8",
   "metadata": {},
   "outputs": [
    {
     "data": {
      "text/plain": [
       "'to the Worl'"
      ]
     },
     "execution_count": 106,
     "metadata": {},
     "output_type": "execute_result"
    }
   ],
   "source": [
    "x[6:-1]"
   ]
  },
  {
   "cell_type": "code",
   "execution_count": 107,
   "id": "b167168f",
   "metadata": {},
   "outputs": [
    {
     "data": {
      "text/plain": [
       "'eoohWl'"
      ]
     },
     "execution_count": 107,
     "metadata": {},
     "output_type": "execute_result"
    }
   ],
   "source": [
    "x[1::3]"
   ]
  },
  {
   "cell_type": "code",
   "execution_count": 108,
   "id": "c2e6cc86",
   "metadata": {},
   "outputs": [
    {
     "data": {
      "text/plain": [
       "'d'"
      ]
     },
     "execution_count": 108,
     "metadata": {},
     "output_type": "execute_result"
    }
   ],
   "source": [
    "x[-1::]"
   ]
  },
  {
   "cell_type": "code",
   "execution_count": 109,
   "id": "67bb2e31",
   "metadata": {},
   "outputs": [
    {
     "data": {
      "text/plain": [
       "'dlroW eht ot olleH'"
      ]
     },
     "execution_count": 109,
     "metadata": {},
     "output_type": "execute_result"
    }
   ],
   "source": [
    "x[::-1]"
   ]
  },
  {
   "cell_type": "code",
   "execution_count": 110,
   "id": "f035c257",
   "metadata": {},
   "outputs": [
    {
     "data": {
      "text/plain": [
       "'Hello to the World'"
      ]
     },
     "execution_count": 110,
     "metadata": {},
     "output_type": "execute_result"
    }
   ],
   "source": [
    "x"
   ]
  },
  {
   "cell_type": "code",
   "execution_count": 111,
   "id": "81092ff7",
   "metadata": {},
   "outputs": [
    {
     "data": {
      "text/plain": [
       "'H hr'"
      ]
     },
     "execution_count": 111,
     "metadata": {},
     "output_type": "execute_result"
    }
   ],
   "source": [
    "x[0::5]"
   ]
  },
  {
   "cell_type": "code",
   "execution_count": 112,
   "id": "f0815c8d",
   "metadata": {},
   "outputs": [
    {
     "data": {
      "text/plain": [
       "'lroW eht ot ol'"
      ]
     },
     "execution_count": 112,
     "metadata": {},
     "output_type": "execute_result"
    }
   ],
   "source": [
    "x[-2:-16:-1]"
   ]
  },
  {
   "cell_type": "code",
   "execution_count": 113,
   "id": "1c8c6530",
   "metadata": {},
   "outputs": [
    {
     "name": "stdout",
     "output_type": "stream",
     "text": [
      "01234567891011121314151617181920\n"
     ]
    }
   ],
   "source": [
    "n=20\n",
    "print(*range(20+1),sep='')"
   ]
  },
  {
   "cell_type": "code",
   "execution_count": 114,
   "id": "e1f5417b",
   "metadata": {},
   "outputs": [
    {
     "data": {
      "text/plain": [
       "'hELLO pETTER pAN pATATO, mARKER pENNYpAT-A-cAKE'"
      ]
     },
     "execution_count": 114,
     "metadata": {},
     "output_type": "execute_result"
    }
   ],
   "source": [
    "s= 'Hello Petter Pan Patato, Marker PennyPat-a-Cake'\n",
    "s.swapcase()"
   ]
  },
  {
   "cell_type": "code",
   "execution_count": 115,
   "id": "34c691c3",
   "metadata": {},
   "outputs": [
    {
     "name": "stdout",
     "output_type": "stream",
     "text": [
      "['Polly islazy in attyping,she has used special', 'characters ']\n"
     ]
    }
   ],
   "source": [
    "text ='''Polly is#lazy in at#typing,she has used special@characters '''\n",
    "print(''.join(txt for txt in text.split('#')).split('@'))"
   ]
  },
  {
   "cell_type": "code",
   "execution_count": 116,
   "id": "b27da7b2",
   "metadata": {},
   "outputs": [],
   "source": [
    "s='abc1234def5678ghijk91234lmn56789'\n",
    "z=[int(x) for x in s if x.isnumeric()]"
   ]
  },
  {
   "cell_type": "code",
   "execution_count": 117,
   "id": "56a44dc8",
   "metadata": {},
   "outputs": [
    {
     "name": "stdout",
     "output_type": "stream",
     "text": [
      "[1, 2, 3, 4, 5, 6, 7, 8, 9, 1, 2, 3, 4, 5, 6, 7, 8, 9]\n"
     ]
    }
   ],
   "source": [
    "print(z)"
   ]
  },
  {
   "cell_type": "code",
   "execution_count": 118,
   "id": "be33e074",
   "metadata": {},
   "outputs": [
    {
     "name": "stdout",
     "output_type": "stream",
     "text": [
      "5.0\n"
     ]
    }
   ],
   "source": [
    "print(sum(z)/len(z))"
   ]
  },
  {
   "cell_type": "code",
   "execution_count": 119,
   "id": "4a4eff1d",
   "metadata": {},
   "outputs": [
    {
     "ename": "TypeError",
     "evalue": "'str' object does not support item assignment",
     "output_type": "error",
     "traceback": [
      "\u001b[1;31m---------------------------------------------------------------------------\u001b[0m",
      "\u001b[1;31mTypeError\u001b[0m                                 Traceback (most recent call last)",
      "\u001b[1;32m~\\AppData\\Local\\Temp/ipykernel_5504/1562313361.py\u001b[0m in \u001b[0;36m<module>\u001b[1;34m\u001b[0m\n\u001b[0;32m      1\u001b[0m \u001b[0ma\u001b[0m\u001b[1;33m=\u001b[0m\u001b[1;34m'abcdf'\u001b[0m\u001b[1;33m\u001b[0m\u001b[1;33m\u001b[0m\u001b[0m\n\u001b[1;32m----> 2\u001b[1;33m \u001b[0ma\u001b[0m\u001b[1;33m[\u001b[0m\u001b[1;36m0\u001b[0m\u001b[1;33m]\u001b[0m\u001b[1;33m=\u001b[0m\u001b[1;34m'g'\u001b[0m\u001b[1;33m\u001b[0m\u001b[1;33m\u001b[0m\u001b[0m\n\u001b[0m",
      "\u001b[1;31mTypeError\u001b[0m: 'str' object does not support item assignment"
     ]
    }
   ],
   "source": [
    "a='abcdf'\n",
    "a[0]='g'"
   ]
  },
  {
   "cell_type": "markdown",
   "id": "f5208aee",
   "metadata": {},
   "source": [
    "## List Datatype"
   ]
  },
  {
   "cell_type": "code",
   "execution_count": 120,
   "id": "6344237a",
   "metadata": {},
   "outputs": [
    {
     "data": {
      "text/plain": [
       "['ab', 'cd', 1, 2, 4, True, False]"
      ]
     },
     "execution_count": 120,
     "metadata": {},
     "output_type": "execute_result"
    }
   ],
   "source": [
    "lst=['ab','cd',1,2,4,True,False]\n",
    "lst"
   ]
  },
  {
   "cell_type": "code",
   "execution_count": 121,
   "id": "ae968d25",
   "metadata": {},
   "outputs": [
    {
     "data": {
      "text/plain": [
       "[9, 'cd', 1, 2, 4, True, False]"
      ]
     },
     "execution_count": 121,
     "metadata": {},
     "output_type": "execute_result"
    }
   ],
   "source": [
    "lst[0]=9\n",
    "lst"
   ]
  },
  {
   "cell_type": "code",
   "execution_count": 122,
   "id": "c2479768",
   "metadata": {},
   "outputs": [
    {
     "data": {
      "text/plain": [
       "False"
      ]
     },
     "execution_count": 122,
     "metadata": {},
     "output_type": "execute_result"
    }
   ],
   "source": [
    "lst[-1]"
   ]
  },
  {
   "cell_type": "code",
   "execution_count": 123,
   "id": "903ee552",
   "metadata": {},
   "outputs": [
    {
     "data": {
      "text/plain": [
       "[9, 'cd', 1, 2, 4, True, False]"
      ]
     },
     "execution_count": 123,
     "metadata": {},
     "output_type": "execute_result"
    }
   ],
   "source": [
    "lst[0:8]"
   ]
  },
  {
   "cell_type": "code",
   "execution_count": 124,
   "id": "68fd697c",
   "metadata": {},
   "outputs": [],
   "source": [
    "lst1=[1,2,3,4,5]"
   ]
  },
  {
   "cell_type": "code",
   "execution_count": 125,
   "id": "8062c867",
   "metadata": {},
   "outputs": [
    {
     "data": {
      "text/plain": [
       "[9, 'cd', 1, 2, 4, True, False, 1, 2, 3, 4, 5]"
      ]
     },
     "execution_count": 125,
     "metadata": {},
     "output_type": "execute_result"
    }
   ],
   "source": [
    "lst2=lst+lst1\n",
    "lst2"
   ]
  },
  {
   "cell_type": "code",
   "execution_count": 126,
   "id": "8ce82de9",
   "metadata": {},
   "outputs": [
    {
     "data": {
      "text/plain": [
       "[9, 'cd', 1, 2, 4, True, False, 1, 2, 3, 4, 5, 89]"
      ]
     },
     "execution_count": 126,
     "metadata": {},
     "output_type": "execute_result"
    }
   ],
   "source": [
    "lst2.append(89)\n",
    "lst2"
   ]
  },
  {
   "cell_type": "code",
   "execution_count": 127,
   "id": "a611b8d6",
   "metadata": {},
   "outputs": [
    {
     "data": {
      "text/plain": [
       "[9, 'cd', 1, 2, 4, True, False, 1, 2, 3, 4, 5, 89, [1, 2, 3]]"
      ]
     },
     "execution_count": 127,
     "metadata": {},
     "output_type": "execute_result"
    }
   ],
   "source": [
    "lst2.append([1,2,3])\n",
    "lst2\n"
   ]
  },
  {
   "cell_type": "code",
   "execution_count": 128,
   "id": "dad60001",
   "metadata": {},
   "outputs": [
    {
     "data": {
      "text/plain": [
       "[1, 2, 3]"
      ]
     },
     "execution_count": 128,
     "metadata": {},
     "output_type": "execute_result"
    }
   ],
   "source": [
    "lst2.pop()"
   ]
  },
  {
   "cell_type": "code",
   "execution_count": 129,
   "id": "20f86464",
   "metadata": {},
   "outputs": [
    {
     "data": {
      "text/plain": [
       "[9, 'cd', 1, 2, 4, True, False, 1, 2, 3, 4, 5, 89]"
      ]
     },
     "execution_count": 129,
     "metadata": {},
     "output_type": "execute_result"
    }
   ],
   "source": [
    "lst2"
   ]
  },
  {
   "cell_type": "code",
   "execution_count": 130,
   "id": "be79c921",
   "metadata": {},
   "outputs": [],
   "source": [
    "lst2.extend([9,8,7,0])"
   ]
  },
  {
   "cell_type": "code",
   "execution_count": 131,
   "id": "8f28154b",
   "metadata": {},
   "outputs": [
    {
     "data": {
      "text/plain": [
       "[9, 'cd', 1, 2, 4, True, False, 1, 2, 3, 4, 5, 89, 9, 8, 7, 0]"
      ]
     },
     "execution_count": 131,
     "metadata": {},
     "output_type": "execute_result"
    }
   ],
   "source": [
    "lst2"
   ]
  },
  {
   "cell_type": "code",
   "execution_count": 132,
   "id": "b61086fe",
   "metadata": {},
   "outputs": [
    {
     "data": {
      "text/plain": [
       "[9, 'cd', 1, 2, 4, True, False, 1, 2, 3, 4, 5, 89, 9, 8, 7, 0, 't', 'r', 'y']"
      ]
     },
     "execution_count": 132,
     "metadata": {},
     "output_type": "execute_result"
    }
   ],
   "source": [
    "lst2.extend('try')\n",
    "lst2"
   ]
  },
  {
   "cell_type": "code",
   "execution_count": 133,
   "id": "e2157f8c",
   "metadata": {},
   "outputs": [],
   "source": [
    "lst2.insert(3,'newobj')"
   ]
  },
  {
   "cell_type": "code",
   "execution_count": 134,
   "id": "75e3c13b",
   "metadata": {},
   "outputs": [
    {
     "data": {
      "text/plain": [
       "[9,\n",
       " 'cd',\n",
       " 1,\n",
       " 'newobj',\n",
       " 2,\n",
       " 4,\n",
       " True,\n",
       " False,\n",
       " 1,\n",
       " 2,\n",
       " 3,\n",
       " 4,\n",
       " 5,\n",
       " 89,\n",
       " 9,\n",
       " 8,\n",
       " 7,\n",
       " 0,\n",
       " 't',\n",
       " 'r',\n",
       " 'y']"
      ]
     },
     "execution_count": 134,
     "metadata": {},
     "output_type": "execute_result"
    }
   ],
   "source": [
    "lst2"
   ]
  },
  {
   "cell_type": "code",
   "execution_count": 135,
   "id": "b94a3d35",
   "metadata": {},
   "outputs": [
    {
     "data": {
      "text/plain": [
       "[9,\n",
       " 'cd',\n",
       " 1,\n",
       " 'newobj',\n",
       " 2,\n",
       " 4,\n",
       " True,\n",
       " False,\n",
       " 1,\n",
       " 2,\n",
       " 4,\n",
       " 5,\n",
       " 89,\n",
       " 9,\n",
       " 8,\n",
       " 7,\n",
       " 0,\n",
       " 't',\n",
       " 'r',\n",
       " 'y']"
      ]
     },
     "execution_count": 135,
     "metadata": {},
     "output_type": "execute_result"
    }
   ],
   "source": [
    "lst2.remove(3)\n",
    "lst2"
   ]
  },
  {
   "cell_type": "code",
   "execution_count": 136,
   "id": "f9275575",
   "metadata": {},
   "outputs": [
    {
     "data": {
      "text/plain": [
       "'y'"
      ]
     },
     "execution_count": 136,
     "metadata": {},
     "output_type": "execute_result"
    }
   ],
   "source": [
    "lst2.pop()"
   ]
  },
  {
   "cell_type": "code",
   "execution_count": 137,
   "id": "1d7b9895",
   "metadata": {},
   "outputs": [
    {
     "data": {
      "text/plain": [
       "[9, 'cd', 1, 'newobj', 2, 4, True, False, 1, 2, 4, 5, 89, 9, 8, 7, 0, 't', 'r']"
      ]
     },
     "execution_count": 137,
     "metadata": {},
     "output_type": "execute_result"
    }
   ],
   "source": [
    "lst2"
   ]
  },
  {
   "cell_type": "code",
   "execution_count": 138,
   "id": "4badc4eb",
   "metadata": {},
   "outputs": [
    {
     "data": {
      "text/plain": [
       "[9, 'cd', 1, 2, 4, True, False, 1, 2, 4, 5, 89, 9, 8, 7, 0, 't', 'r']"
      ]
     },
     "execution_count": 138,
     "metadata": {},
     "output_type": "execute_result"
    }
   ],
   "source": [
    "lst2.pop(3)\n",
    "lst2"
   ]
  },
  {
   "cell_type": "code",
   "execution_count": 139,
   "id": "576d63b9",
   "metadata": {
    "scrolled": true
   },
   "outputs": [
    {
     "ename": "TypeError",
     "evalue": "'<' not supported between instances of 'str' and 'int'",
     "output_type": "error",
     "traceback": [
      "\u001b[1;31m---------------------------------------------------------------------------\u001b[0m",
      "\u001b[1;31mTypeError\u001b[0m                                 Traceback (most recent call last)",
      "\u001b[1;32m~\\AppData\\Local\\Temp/ipykernel_5504/268760557.py\u001b[0m in \u001b[0;36m<module>\u001b[1;34m\u001b[0m\n\u001b[1;32m----> 1\u001b[1;33m \u001b[0mlst2\u001b[0m\u001b[1;33m.\u001b[0m\u001b[0msort\u001b[0m\u001b[1;33m(\u001b[0m\u001b[1;33m)\u001b[0m\u001b[1;33m\u001b[0m\u001b[1;33m\u001b[0m\u001b[0m\n\u001b[0m",
      "\u001b[1;31mTypeError\u001b[0m: '<' not supported between instances of 'str' and 'int'"
     ]
    }
   ],
   "source": [
    "lst2.sort()"
   ]
  },
  {
   "cell_type": "code",
   "execution_count": 140,
   "id": "2aa2f21c",
   "metadata": {},
   "outputs": [
    {
     "data": {
      "text/plain": [
       "[3, 4, 5, 6, 7, 8, 9, 12, 45, 53, 67, 90]"
      ]
     },
     "execution_count": 140,
     "metadata": {},
     "output_type": "execute_result"
    }
   ],
   "source": [
    "lst4=[9,12,3,4,5,6,7,8,90,45,67,53]\n",
    "lst4.sort()\n",
    "lst4"
   ]
  },
  {
   "cell_type": "code",
   "execution_count": 141,
   "id": "17e765e3",
   "metadata": {},
   "outputs": [
    {
     "data": {
      "text/plain": [
       "[90, 67, 53, 45, 12, 9, 8, 7, 6, 5, 4, 3]"
      ]
     },
     "execution_count": 141,
     "metadata": {},
     "output_type": "execute_result"
    }
   ],
   "source": [
    "sorted(lst4,reverse=True)"
   ]
  },
  {
   "cell_type": "code",
   "execution_count": 142,
   "id": "f434be36",
   "metadata": {},
   "outputs": [
    {
     "name": "stdout",
     "output_type": "stream",
     "text": [
      "[78, 11, 45, 23, 10, 9]\n"
     ]
    }
   ],
   "source": [
    "import random\n",
    "List = [10, 45, 78, 11, 9, 23]\n",
    "random.shuffle(List)\n",
    "print(List)"
   ]
  },
  {
   "cell_type": "markdown",
   "id": "77d22b5d",
   "metadata": {},
   "source": [
    "## Boolean datatype"
   ]
  },
  {
   "cell_type": "code",
   "execution_count": 143,
   "id": "cf2ead38",
   "metadata": {},
   "outputs": [
    {
     "data": {
      "text/plain": [
       "False"
      ]
     },
     "execution_count": 143,
     "metadata": {},
     "output_type": "execute_result"
    }
   ],
   "source": [
    "2==7"
   ]
  },
  {
   "cell_type": "code",
   "execution_count": 144,
   "id": "919aa615",
   "metadata": {},
   "outputs": [
    {
     "data": {
      "text/plain": [
       "True"
      ]
     },
     "execution_count": 144,
     "metadata": {},
     "output_type": "execute_result"
    }
   ],
   "source": [
    "2<7"
   ]
  },
  {
   "cell_type": "code",
   "execution_count": 145,
   "id": "be591d43",
   "metadata": {},
   "outputs": [
    {
     "data": {
      "text/plain": [
       "False"
      ]
     },
     "execution_count": 145,
     "metadata": {},
     "output_type": "execute_result"
    }
   ],
   "source": [
    "2>7"
   ]
  },
  {
   "cell_type": "markdown",
   "id": "4a0a39f1",
   "metadata": {},
   "source": [
    "#### Boolean operator <,>,<=,>=,!=\n"
   ]
  },
  {
   "cell_type": "code",
   "execution_count": 146,
   "id": "5625beec",
   "metadata": {},
   "outputs": [
    {
     "data": {
      "text/plain": [
       "False"
      ]
     },
     "execution_count": 146,
     "metadata": {},
     "output_type": "execute_result"
    }
   ],
   "source": [
    "bool(None)"
   ]
  },
  {
   "cell_type": "code",
   "execution_count": 147,
   "id": "4fbd6b3f",
   "metadata": {},
   "outputs": [
    {
     "data": {
      "text/plain": [
       "True"
      ]
     },
     "execution_count": 147,
     "metadata": {},
     "output_type": "execute_result"
    }
   ],
   "source": [
    "bool(-1)"
   ]
  },
  {
   "cell_type": "code",
   "execution_count": 148,
   "id": "bb273b22",
   "metadata": {},
   "outputs": [
    {
     "data": {
      "text/plain": [
       "False"
      ]
     },
     "execution_count": 148,
     "metadata": {},
     "output_type": "execute_result"
    }
   ],
   "source": [
    "bool(0)"
   ]
  },
  {
   "cell_type": "code",
   "execution_count": 149,
   "id": "54981093",
   "metadata": {},
   "outputs": [
    {
     "data": {
      "text/plain": [
       "True"
      ]
     },
     "execution_count": 149,
     "metadata": {},
     "output_type": "execute_result"
    }
   ],
   "source": [
    "bool(1)"
   ]
  },
  {
   "cell_type": "code",
   "execution_count": 150,
   "id": "f166c466",
   "metadata": {},
   "outputs": [
    {
     "data": {
      "text/plain": [
       "False"
      ]
     },
     "execution_count": 150,
     "metadata": {},
     "output_type": "execute_result"
    }
   ],
   "source": [
    "name ='Nihar'\n",
    "name2 ='nihar'\n",
    "name==name2"
   ]
  },
  {
   "cell_type": "code",
   "execution_count": 151,
   "id": "fc9c89fe",
   "metadata": {},
   "outputs": [
    {
     "data": {
      "text/plain": [
       "True"
      ]
     },
     "execution_count": 151,
     "metadata": {},
     "output_type": "execute_result"
    }
   ],
   "source": [
    "name.lower()==name2"
   ]
  },
  {
   "cell_type": "code",
   "execution_count": 152,
   "id": "d4a7e5d8",
   "metadata": {},
   "outputs": [
    {
     "data": {
      "text/plain": [
       "True"
      ]
     },
     "execution_count": 152,
     "metadata": {},
     "output_type": "execute_result"
    }
   ],
   "source": [
    "name==name2.capitalize()"
   ]
  },
  {
   "cell_type": "code",
   "execution_count": 153,
   "id": "6b6e744a",
   "metadata": {},
   "outputs": [
    {
     "data": {
      "text/plain": [
       "False"
      ]
     },
     "execution_count": 153,
     "metadata": {},
     "output_type": "execute_result"
    }
   ],
   "source": [
    "name>=name2"
   ]
  },
  {
   "cell_type": "code",
   "execution_count": 154,
   "id": "a869cc15",
   "metadata": {},
   "outputs": [
    {
     "data": {
      "text/plain": [
       "False"
      ]
     },
     "execution_count": 154,
     "metadata": {},
     "output_type": "execute_result"
    }
   ],
   "source": [
    "2>7>90"
   ]
  },
  {
   "cell_type": "code",
   "execution_count": 155,
   "id": "d4b9b2ff",
   "metadata": {},
   "outputs": [
    {
     "data": {
      "text/plain": [
       "True"
      ]
     },
     "execution_count": 155,
     "metadata": {},
     "output_type": "execute_result"
    }
   ],
   "source": [
    "2<7<90"
   ]
  },
  {
   "cell_type": "code",
   "execution_count": 156,
   "id": "fbb9a98a",
   "metadata": {},
   "outputs": [
    {
     "data": {
      "text/plain": [
       "True"
      ]
     },
     "execution_count": 156,
     "metadata": {},
     "output_type": "execute_result"
    }
   ],
   "source": [
    "2<7 & 7<90"
   ]
  },
  {
   "cell_type": "code",
   "execution_count": 157,
   "id": "27c980f9",
   "metadata": {},
   "outputs": [
    {
     "data": {
      "text/plain": [
       "False"
      ]
     },
     "execution_count": 157,
     "metadata": {},
     "output_type": "execute_result"
    }
   ],
   "source": [
    "2>7 & 7<90"
   ]
  },
  {
   "cell_type": "code",
   "execution_count": 158,
   "id": "9609eebd",
   "metadata": {},
   "outputs": [
    {
     "data": {
      "text/plain": [
       "True"
      ]
     },
     "execution_count": 158,
     "metadata": {},
     "output_type": "execute_result"
    }
   ],
   "source": [
    "2<7 or 7<90"
   ]
  },
  {
   "cell_type": "code",
   "execution_count": 159,
   "id": "cef3f872",
   "metadata": {},
   "outputs": [
    {
     "data": {
      "text/plain": [
       "True"
      ]
     },
     "execution_count": 159,
     "metadata": {},
     "output_type": "execute_result"
    }
   ],
   "source": [
    "(2<7) | (7>900)"
   ]
  },
  {
   "cell_type": "markdown",
   "id": "cc9537cf",
   "metadata": {},
   "source": [
    "### if condion"
   ]
  },
  {
   "cell_type": "code",
   "execution_count": 160,
   "id": "d8d61cb5",
   "metadata": {},
   "outputs": [
    {
     "name": "stdout",
     "output_type": "stream",
     "text": [
      "Enter your value : baking\n",
      "cake is Baking !! \n",
      "  Goodbye\n"
     ]
    }
   ],
   "source": [
    "cake = input('Enter your value : ')\n",
    "if cake == 'baking':\n",
    "    print('cake is Baking !!','\\n',' Goodbye')\n",
    "else:\n",
    "        print('cake is not Baking !!','\\n','Welcome')\n",
    "    "
   ]
  },
  {
   "cell_type": "code",
   "execution_count": 161,
   "id": "863af264",
   "metadata": {},
   "outputs": [
    {
     "name": "stdout",
     "output_type": "stream",
     "text": [
      "Enter your value : baking\n",
      "cake is Baking !! \n",
      "  Goodbye\n"
     ]
    }
   ],
   "source": [
    "cake = input('Enter your value : ')\n",
    "food ='tasty'\n",
    "if cake == 'baking':\n",
    "    print('cake is Baking !!','\\n',' Goodbye')\n",
    "elif cake == 'Baked':\n",
    "    print('cake baked already')\n",
    "elif cake =='donot like':\n",
    "    print('no cake today')\n",
    "    if food =='tasty':\n",
    "        print('food is yummy')\n",
    "        if food != 'tasty':\n",
    "            print('give me chocolate')\n",
    "\n",
    "else:\n",
    "        print('cake is not Baking !!','\\n','Welcome')"
   ]
  },
  {
   "cell_type": "code",
   "execution_count": 162,
   "id": "da556245",
   "metadata": {},
   "outputs": [
    {
     "name": "stdout",
     "output_type": "stream",
     "text": [
      "Enter your value : donot like\n",
      "Enter your value : yes\n",
      "no cake today\n",
      "give me chocolate\n"
     ]
    }
   ],
   "source": [
    "cake = input('Enter your value : ')\n",
    "food = input('Enter your value : ')\n",
    "if cake == 'baking':\n",
    "    print('cake is Baking !!','\\n',' Goodbye')\n",
    "elif cake == 'Baked':\n",
    "    print('cake baked already')\n",
    "elif cake =='donot like':\n",
    "    print('no cake today')\n",
    "    if food =='tasty':\n",
    "        print('food is yummy')\n",
    "    else:\n",
    "        print('give me chocolate')\n",
    "else:\n",
    "        print('cake is not Baking !!','\\n','Welcome')\n",
    "        "
   ]
  },
  {
   "cell_type": "markdown",
   "id": "eaaac93d",
   "metadata": {},
   "source": [
    "### For loop and while loop"
   ]
  },
  {
   "cell_type": "code",
   "execution_count": 163,
   "id": "2b0782d6",
   "metadata": {},
   "outputs": [],
   "source": [
    "name=['Arya','Karisma','jhon','Tokyo','Berlin']"
   ]
  },
  {
   "cell_type": "code",
   "execution_count": 164,
   "id": "f4233900",
   "metadata": {},
   "outputs": [
    {
     "name": "stdout",
     "output_type": "stream",
     "text": [
      "Hello Arya\n",
      "Hello Karisma\n",
      "Hello jhon\n",
      "Hello Tokyo\n",
      "Hello Berlin\n"
     ]
    }
   ],
   "source": [
    "for i in name:\n",
    "    print('Hello ' +  i)"
   ]
  },
  {
   "cell_type": "code",
   "execution_count": 165,
   "id": "59b945fd",
   "metadata": {},
   "outputs": [
    {
     "name": "stdout",
     "output_type": "stream",
     "text": [
      "M\n",
      " \n",
      "y\n",
      " \n",
      "N\n",
      " \n",
      "a\n",
      " \n",
      "m\n",
      " \n",
      "e\n",
      " \n",
      "i\n",
      " \n",
      "s\n",
      " \n",
      "J\n",
      " \n",
      "h\n",
      " \n",
      "o\n",
      " \n",
      "n\n",
      " \n"
     ]
    }
   ],
   "source": [
    "for char in 'MyNameisJhon':\n",
    "    print(char)\n",
    "    for i in ' ':\n",
    "        print(i)"
   ]
  },
  {
   "cell_type": "code",
   "execution_count": 166,
   "id": "6968fc0c",
   "metadata": {},
   "outputs": [
    {
     "name": "stdout",
     "output_type": "stream",
     "text": [
      "0\n",
      "1\n",
      "2\n",
      "3\n",
      "4\n",
      "5\n",
      "6\n",
      "7\n",
      "8\n",
      "9\n"
     ]
    }
   ],
   "source": [
    "for i in range(10):\n",
    "    print(i)"
   ]
  },
  {
   "cell_type": "code",
   "execution_count": 167,
   "id": "89b2a486",
   "metadata": {},
   "outputs": [
    {
     "name": "stdout",
     "output_type": "stream",
     "text": [
      "20\n",
      "21\n",
      "22\n",
      "23\n",
      "24\n",
      "25\n",
      "26\n"
     ]
    }
   ],
   "source": [
    "for i in range(20,27):\n",
    "    print(i)"
   ]
  },
  {
   "cell_type": "code",
   "execution_count": 168,
   "id": "6a92f1f9",
   "metadata": {},
   "outputs": [
    {
     "name": "stdout",
     "output_type": "stream",
     "text": [
      "20\n",
      "30\n",
      "40\n",
      "50\n",
      "60\n",
      "70\n",
      "80\n",
      "90\n",
      "100\n",
      "110\n"
     ]
    }
   ],
   "source": [
    "for i in range(20,120,10):\n",
    "    print(i)"
   ]
  },
  {
   "cell_type": "code",
   "execution_count": 169,
   "id": "bf896970",
   "metadata": {},
   "outputs": [
    {
     "name": "stdout",
     "output_type": "stream",
     "text": [
      "0\n",
      "1\n",
      "2\n",
      "3\n",
      "4\n",
      "5\n",
      "6\n",
      "7\n",
      "8\n",
      "9\n",
      "10\n",
      "11\n"
     ]
    }
   ],
   "source": [
    "count =0\n",
    "for i in 'Mynameishaon':\n",
    "    print(count)\n",
    "    count +=1\n",
    "    if count>6:\n",
    "        continue\n",
    "    "
   ]
  },
  {
   "cell_type": "code",
   "execution_count": 170,
   "id": "e7fb652f",
   "metadata": {},
   "outputs": [
    {
     "name": "stdout",
     "output_type": "stream",
     "text": [
      "0\n",
      "1\n",
      "2\n",
      "3\n",
      "4\n",
      "5\n",
      "6\n"
     ]
    }
   ],
   "source": [
    "count =0\n",
    "for i in 'Mynameishaon':\n",
    "    print(count)\n",
    "    count +=1\n",
    "    if count>6:\n",
    "        break\n",
    "    "
   ]
  },
  {
   "cell_type": "code",
   "execution_count": 171,
   "id": "0056b7e5",
   "metadata": {},
   "outputs": [
    {
     "name": "stdout",
     "output_type": "stream",
     "text": [
      "the number is >= 5\n"
     ]
    }
   ],
   "source": [
    "count=9\n",
    "while count<5:\n",
    "    print(count)\n",
    "    count +=1\n",
    "else:\n",
    "    print('the number is >= 5')"
   ]
  },
  {
   "cell_type": "code",
   "execution_count": 172,
   "id": "bed5f1d6",
   "metadata": {},
   "outputs": [
    {
     "name": "stdout",
     "output_type": "stream",
     "text": [
      "i is: 1\n",
      "i is: 2\n",
      "i is: 3\n",
      "i is: 4\n",
      "i is: 5\n"
     ]
    }
   ],
   "source": [
    "i = 1\n",
    "while i<=5:\n",
    "    print('i is: {}'.format(i))\n",
    "    i = i+1"
   ]
  },
  {
   "cell_type": "code",
   "execution_count": 173,
   "id": "430689ad",
   "metadata": {},
   "outputs": [
    {
     "name": "stdout",
     "output_type": "stream",
     "text": [
      "[2, 3, 5, 6, 1, -34]\n",
      "the ascending value are :  [-34, 1, 2, 3, 5, 6]\n"
     ]
    }
   ],
   "source": [
    "list2= [2,3,5,6,1,-34]\n",
    "print(list2)\n",
    "i=0\n",
    "for i in range(i,len(list2)):\n",
    "    for j in range(i+1,len(list2)):\n",
    "        if (list2[i] > list2[j]):\n",
    "            temp = list2[i]\n",
    "            list2[i] = list2[j]\n",
    "            list2[j] = temp\n",
    "print(\"the ascending value are : \",list2)\n"
   ]
  },
  {
   "cell_type": "code",
   "execution_count": 174,
   "id": "98c95895",
   "metadata": {},
   "outputs": [
    {
     "name": "stdout",
     "output_type": "stream",
     "text": [
      "[2, 3, 5, 6, 1, -34]\n",
      "the descending value are :  [6, 5, 3, 2, 1, -34]\n"
     ]
    }
   ],
   "source": [
    "list2= [2,3,5,6,1,-34]\n",
    "print(list2)\n",
    "i=0\n",
    "for i in range(i,len(list2)):\n",
    "    for j in range(i+1,len(list2)):\n",
    "        if (list2[i] < list2[j]):\n",
    "            temp = list2[j]\n",
    "            list2[j] = list2[i]\n",
    "            list2[i] = temp\n",
    "print(\"the descending value are : \",list2)\n"
   ]
  },
  {
   "cell_type": "code",
   "execution_count": 175,
   "id": "b10ff528",
   "metadata": {},
   "outputs": [
    {
     "name": "stdout",
     "output_type": "stream",
     "text": [
      "[-10, -9, -8, -7, -6, -5, -4, -3, -2, -1]\n"
     ]
    }
   ],
   "source": [
    "list1 = []\n",
    "for i in range(-10,0):\n",
    "    list1.append(i)\n",
    "print(list1)   "
   ]
  },
  {
   "cell_type": "code",
   "execution_count": 176,
   "id": "4671a3dd",
   "metadata": {},
   "outputs": [
    {
     "name": "stdout",
     "output_type": "stream",
     "text": [
      "Enter a number: 100\n",
      "The factorial of 100 is 93326215443944152681699238856266700490715968264381621468592963895217599993229915608941463976156518286253697920827223758251185210916864000000000000000000000000\n"
     ]
    }
   ],
   "source": [
    "n = int(input(\"Enter a number: \"))\n",
    "fact = 1\n",
    "if n < 0:\n",
    "    print(\"Sorry, factorial does not exist for negative numbers\")\n",
    "elif n == 0:\n",
    "    print(\"The factorial of 0 is 1\")\n",
    "else:\n",
    "    for i in range(1,n + 1):\n",
    "        fact *= i\n",
    "    print(\"The factorial of {} is {}\".format(n,fact))"
   ]
  },
  {
   "cell_type": "code",
   "execution_count": 177,
   "id": "70e21a9d",
   "metadata": {},
   "outputs": [
    {
     "name": "stdout",
     "output_type": "stream",
     "text": [
      "The prime number between 0 to 100 are : [2, 3, 5, 7, 11, 13, 17, 19, 23, 29, 31, 37, 41, 43, 47, 53, 59, 61, 67, 71, 73, 79, 83, 89, 97]\n",
      "The number of prime number between 0 to 100 are : 25\n"
     ]
    }
   ],
   "source": [
    "list1 = list(range(0,101))\n",
    "list2= []\n",
    "for num in list1:\n",
    "    if num > 1:\n",
    "        for i in range(2, num):\n",
    "            if (num % i) == 0:\n",
    "                break \n",
    "        else:\n",
    "            list2.append(num) \n",
    "print(\"The prime number between 0 to 100 are : {}\".format(list2))\n",
    "print(\"The number of prime number between 0 to 100 are : {}\".format(len(list2)))"
   ]
  },
  {
   "cell_type": "code",
   "execution_count": 178,
   "id": "93a66d25",
   "metadata": {},
   "outputs": [
    {
     "name": "stdout",
     "output_type": "stream",
     "text": [
      "[1]\n",
      "[1, 2]\n",
      "[1, 2, 3]\n",
      "[1, 2, 3, 4]\n",
      "[1, 2, 3, 4, 5]\n"
     ]
    }
   ],
   "source": [
    "list3 = []\n",
    "for i in range(1,6):\n",
    "    list3.append(i)\n",
    "    print(list3)"
   ]
  },
  {
   "cell_type": "code",
   "execution_count": 180,
   "id": "9d5cc21d",
   "metadata": {},
   "outputs": [
    {
     "name": "stdout",
     "output_type": "stream",
     "text": [
      "Enter a number : 1000\n",
      "sum is 500500\n"
     ]
    }
   ],
   "source": [
    "n = int(input(\"Enter a number : \"))\n",
    "sum = 0\n",
    "for i in range(1,n+1):\n",
    "    sum = sum +i\n",
    "print(\"sum is\", sum)"
   ]
  },
  {
   "cell_type": "code",
   "execution_count": 184,
   "id": "2e4a0543",
   "metadata": {},
   "outputs": [
    {
     "name": "stdout",
     "output_type": "stream",
     "text": [
      "Enter a number : 1000\n",
      "Factorial of number is  500500\n"
     ]
    }
   ],
   "source": [
    "n = int(input(\"Enter a number : \"))\n",
    "print('Factorial of number is ',int(n*(n+1)/2))"
   ]
  },
  {
   "cell_type": "code",
   "execution_count": 185,
   "id": "2b4236eb",
   "metadata": {},
   "outputs": [
    {
     "name": "stdout",
     "output_type": "stream",
     "text": [
      "Enter number:100\n",
      "The number of digits in the number are: 3\n"
     ]
    }
   ],
   "source": [
    "n=int(input(\"Enter number:\"))\n",
    "count = 0\n",
    "while(n>0):\n",
    "    count += 1\n",
    "    n=n//10\n",
    "print(\"The number of digits in the number are:\",count)"
   ]
  },
  {
   "cell_type": "code",
   "execution_count": 186,
   "id": "1e4a77f6",
   "metadata": {},
   "outputs": [
    {
     "name": "stdout",
     "output_type": "stream",
     "text": [
      "Enter a number: 100\n",
      "100 x 1 = 100\n",
      "100 x 2 = 200\n",
      "100 x 3 = 300\n",
      "100 x 4 = 400\n",
      "100 x 5 = 500\n",
      "100 x 6 = 600\n",
      "100 x 7 = 700\n",
      "100 x 8 = 800\n",
      "100 x 9 = 900\n",
      "100 x 10 = 1000\n"
     ]
    }
   ],
   "source": [
    "num = int(input(\"Enter a number: \"))\n",
    "for i in range(1,11):\n",
    "   print(num,'x',i,'=',num*i)"
   ]
  },
  {
   "cell_type": "code",
   "execution_count": 188,
   "id": "254aae9e",
   "metadata": {},
   "outputs": [
    {
     "name": "stdout",
     "output_type": "stream",
     "text": [
      "50\n",
      "40\n",
      "30\n",
      "20\n",
      "10\n"
     ]
    }
   ],
   "source": [
    "list1 = [10, 20, 30, 40, 50]\n",
    "for i in range(len(list1)-1,-1,-1):\n",
    "    print(list1[i])"
   ]
  },
  {
   "cell_type": "code",
   "execution_count": 189,
   "id": "874a251c",
   "metadata": {},
   "outputs": [
    {
     "name": "stdout",
     "output_type": "stream",
     "text": [
      "[4, 3, 2, 1, 0]\n"
     ]
    }
   ],
   "source": [
    "list1 = [10, 20, 30, 40, 50]\n",
    "list2=[]\n",
    "for i in range(len(list1)-1,-1,-1):\n",
    "    list2.append(i)\n",
    "print(list2)"
   ]
  },
  {
   "cell_type": "code",
   "execution_count": 190,
   "id": "33864f99",
   "metadata": {},
   "outputs": [
    {
     "name": "stdout",
     "output_type": "stream",
     "text": [
      "\n",
      "* \n",
      "* * \n",
      "* * * \n",
      "* * * * \n",
      "* * * * * \n",
      "* * * * \n",
      "* * * \n",
      "* * \n",
      "* \n"
     ]
    }
   ],
   "source": [
    "n=5;\n",
    "for i in range(n):\n",
    "    for j in range(i):\n",
    "        print ('* ', end=\"\")\n",
    "    print('')\n",
    "\n",
    "for i in range(n,0,-1):\n",
    "    for j in range(i):\n",
    "        print('* ', end=\"\")\n",
    "    print('')"
   ]
  },
  {
   "cell_type": "code",
   "execution_count": 191,
   "id": "5077c9f7",
   "metadata": {},
   "outputs": [
    {
     "name": "stdout",
     "output_type": "stream",
     "text": [
      "Enter a string: 123nihar\n",
      "The number of digits :  3\n",
      "The number of letters :  5\n"
     ]
    }
   ],
   "source": [
    "str = input(\"Enter a string: \")\n",
    "d=l=0\n",
    "for c in str:\n",
    "    if c.isdigit():\n",
    "        d=d+1\n",
    "    elif c.isalpha():\n",
    "        l=l+1\n",
    "    else:\n",
    "        pass\n",
    "print(\"The number of digits : \", d)\n",
    "print(\"The number of letters : \", l)"
   ]
  },
  {
   "cell_type": "code",
   "execution_count": 192,
   "id": "67411244",
   "metadata": {},
   "outputs": [
    {
     "name": "stdout",
     "output_type": "stream",
     "text": [
      "[5, 1994]\n",
      "['mar', 'weight', 'kg']\n",
      "[76.8]\n"
     ]
    }
   ],
   "source": [
    "list1 = [5,\"mar\",1994,\"weight\",76.8,\"kg\"]\n",
    "list1_int = []\n",
    "list1_str = []\n",
    "list1_float = []\n",
    "for i in list1:\n",
    "    if type(i)==int:\n",
    "        list1_int.append(i) \n",
    "    elif type(i)==float:\n",
    "        list1_float.append(i)\n",
    "    else:\n",
    "        list1_str.append(i)   \n",
    "print(list1_int)\n",
    "print(list1_str)\n",
    "print(list1_float)"
   ]
  },
  {
   "cell_type": "markdown",
   "id": "f9016f9d",
   "metadata": {},
   "source": [
    "### Function"
   ]
  },
  {
   "cell_type": "code",
   "execution_count": 195,
   "id": "3edb0ddd",
   "metadata": {},
   "outputs": [
    {
     "name": "stdout",
     "output_type": "stream",
     "text": [
      "1\n",
      "3\n",
      "6\n",
      "10\n",
      "15\n",
      "21\n",
      "28\n",
      "28\n"
     ]
    }
   ],
   "source": [
    "numlist=[1,2,3,4,5,6,7]\n",
    "result=0\n",
    "for num in numlist:\n",
    "    result = result + num\n",
    "    print(result)\n",
    "print(result)"
   ]
  },
  {
   "cell_type": "code",
   "execution_count": 196,
   "id": "767e06cb",
   "metadata": {},
   "outputs": [],
   "source": [
    "def sum(x,y):\n",
    "    return x+y"
   ]
  },
  {
   "cell_type": "code",
   "execution_count": 197,
   "id": "73af018e",
   "metadata": {},
   "outputs": [
    {
     "data": {
      "text/plain": [
       "97"
      ]
     },
     "execution_count": 197,
     "metadata": {},
     "output_type": "execute_result"
    }
   ],
   "source": [
    "sum(9,88)"
   ]
  },
  {
   "cell_type": "code",
   "execution_count": 203,
   "id": "393aca7e",
   "metadata": {},
   "outputs": [],
   "source": [
    "def adder(n):\n",
    "    result=0\n",
    "    for num in numlist:\n",
    "        result = result + num\n",
    "    return result"
   ]
  },
  {
   "cell_type": "code",
   "execution_count": 204,
   "id": "d8c12d9a",
   "metadata": {},
   "outputs": [
    {
     "name": "stdout",
     "output_type": "stream",
     "text": [
      "28\n",
      "33\n"
     ]
    }
   ],
   "source": [
    "var=adder(numlist)\n",
    "print(var)\n",
    "print(var+5)"
   ]
  },
  {
   "cell_type": "markdown",
   "id": "e9d14b98",
   "metadata": {},
   "source": [
    "### List comprehension"
   ]
  },
  {
   "cell_type": "code",
   "execution_count": 208,
   "id": "4633f36a",
   "metadata": {},
   "outputs": [
    {
     "name": "stdout",
     "output_type": "stream",
     "text": [
      "[0, 1, 4, 9, 16, 25, 36, 49, 64, 81, 100, 121, 144, 169, 196, 225, 256, 289, 324, 361]\n"
     ]
    }
   ],
   "source": [
    "lst=[]\n",
    "for i in range(20):\n",
    "    x=i**2\n",
    "    lst.append(x)\n",
    "print(lst)"
   ]
  },
  {
   "cell_type": "code",
   "execution_count": 210,
   "id": "3247a7f2",
   "metadata": {},
   "outputs": [
    {
     "name": "stdout",
     "output_type": "stream",
     "text": [
      "[0, 1, 4, 9, 16, 25, 36, 49, 64, 81, 100, 121, 144, 169, 196, 225, 256, 289, 324, 361]\n"
     ]
    }
   ],
   "source": [
    "lst2=[x**2  for x in range(20)]\n",
    "print(lst2)"
   ]
  },
  {
   "cell_type": "code",
   "execution_count": 211,
   "id": "494e7ad2",
   "metadata": {},
   "outputs": [
    {
     "name": "stdout",
     "output_type": "stream",
     "text": [
      "[0, 4, 16, 36, 64, 100, 144, 196, 256, 324]\n"
     ]
    }
   ],
   "source": [
    "lst1=[x**2  for x in range(20) if x%2==0]\n",
    "print(lst1)"
   ]
  },
  {
   "cell_type": "code",
   "execution_count": 213,
   "id": "ec94a907",
   "metadata": {},
   "outputs": [
    {
     "data": {
      "text/plain": [
       "[-12, -6, 0, 6]"
      ]
     },
     "execution_count": 213,
     "metadata": {},
     "output_type": "execute_result"
    }
   ],
   "source": [
    "lst =[3*i for i in range(-4,4,2)]\n",
    "lst"
   ]
  },
  {
   "cell_type": "code",
   "execution_count": 214,
   "id": "8002d5e2",
   "metadata": {},
   "outputs": [
    {
     "data": {
      "text/plain": [
       "[12, 6, 0, -6]"
      ]
     },
     "execution_count": 214,
     "metadata": {},
     "output_type": "execute_result"
    }
   ],
   "source": [
    "lst =[3*i for i in range(4,-4,-2)]\n",
    "lst"
   ]
  },
  {
   "cell_type": "markdown",
   "id": "a661e254",
   "metadata": {},
   "source": [
    "### Dictionaries"
   ]
  },
  {
   "cell_type": "code",
   "execution_count": 216,
   "id": "5831ec6f",
   "metadata": {},
   "outputs": [],
   "source": [
    "d1= {'name':'nihar','age':27,12:[1,2,3],(1,2,3):1}"
   ]
  },
  {
   "cell_type": "code",
   "execution_count": 217,
   "id": "01e88019",
   "metadata": {},
   "outputs": [
    {
     "data": {
      "text/plain": [
       "{'name': 'nihar', 'age': 27, 12: [1, 2, 3], (1, 2, 3): 1}"
      ]
     },
     "execution_count": 217,
     "metadata": {},
     "output_type": "execute_result"
    }
   ],
   "source": [
    "d1"
   ]
  },
  {
   "cell_type": "code",
   "execution_count": 218,
   "id": "122000c2",
   "metadata": {},
   "outputs": [
    {
     "data": {
      "text/plain": [
       "dict_values(['nihar', 27, [1, 2, 3], 1])"
      ]
     },
     "execution_count": 218,
     "metadata": {},
     "output_type": "execute_result"
    }
   ],
   "source": [
    "d1.values()"
   ]
  },
  {
   "cell_type": "code",
   "execution_count": 219,
   "id": "3c66399b",
   "metadata": {},
   "outputs": [
    {
     "data": {
      "text/plain": [
       "dict_keys(['name', 'age', 12, (1, 2, 3)])"
      ]
     },
     "execution_count": 219,
     "metadata": {},
     "output_type": "execute_result"
    }
   ],
   "source": [
    "d1.keys()"
   ]
  },
  {
   "cell_type": "code",
   "execution_count": 220,
   "id": "d2c69801",
   "metadata": {},
   "outputs": [
    {
     "data": {
      "text/plain": [
       "dict_items([('name', 'nihar'), ('age', 27), (12, [1, 2, 3]), ((1, 2, 3), 1)])"
      ]
     },
     "execution_count": 220,
     "metadata": {},
     "output_type": "execute_result"
    }
   ],
   "source": [
    "d1.items()"
   ]
  },
  {
   "cell_type": "code",
   "execution_count": 221,
   "id": "72c3f8d1",
   "metadata": {},
   "outputs": [
    {
     "ename": "TypeError",
     "evalue": "unhashable type: 'list'",
     "output_type": "error",
     "traceback": [
      "\u001b[1;31m---------------------------------------------------------------------------\u001b[0m",
      "\u001b[1;31mTypeError\u001b[0m                                 Traceback (most recent call last)",
      "\u001b[1;32m~\\AppData\\Local\\Temp/ipykernel_5504/3993038170.py\u001b[0m in \u001b[0;36m<module>\u001b[1;34m\u001b[0m\n\u001b[1;32m----> 1\u001b[1;33m \u001b[0md2\u001b[0m\u001b[1;33m=\u001b[0m \u001b[1;33m{\u001b[0m\u001b[1;34m'name'\u001b[0m\u001b[1;33m:\u001b[0m\u001b[1;34m'nihar'\u001b[0m\u001b[1;33m,\u001b[0m\u001b[1;34m'age'\u001b[0m\u001b[1;33m:\u001b[0m\u001b[1;36m27\u001b[0m\u001b[1;33m,\u001b[0m\u001b[1;36m12\u001b[0m\u001b[1;33m:\u001b[0m\u001b[1;33m[\u001b[0m\u001b[1;36m1\u001b[0m\u001b[1;33m,\u001b[0m\u001b[1;36m2\u001b[0m\u001b[1;33m,\u001b[0m\u001b[1;36m3\u001b[0m\u001b[1;33m]\u001b[0m\u001b[1;33m,\u001b[0m\u001b[1;33m(\u001b[0m\u001b[1;36m1\u001b[0m\u001b[1;33m,\u001b[0m\u001b[1;36m2\u001b[0m\u001b[1;33m,\u001b[0m\u001b[1;36m3\u001b[0m\u001b[1;33m)\u001b[0m\u001b[1;33m:\u001b[0m\u001b[1;36m1\u001b[0m\u001b[1;33m,\u001b[0m\u001b[1;33m[\u001b[0m\u001b[1;36m1\u001b[0m\u001b[1;33m,\u001b[0m\u001b[1;36m2\u001b[0m\u001b[1;33m,\u001b[0m\u001b[1;36m3\u001b[0m\u001b[1;33m]\u001b[0m\u001b[1;33m:\u001b[0m\u001b[1;36m1\u001b[0m\u001b[1;33m}\u001b[0m\u001b[1;33m\u001b[0m\u001b[1;33m\u001b[0m\u001b[0m\n\u001b[0m",
      "\u001b[1;31mTypeError\u001b[0m: unhashable type: 'list'"
     ]
    }
   ],
   "source": [
    "d2= {'name':'nihar','age':27,12:[1,2,3],(1,2,3):1,[1,2,3]:1}"
   ]
  },
  {
   "cell_type": "code",
   "execution_count": 224,
   "id": "d8c087fd",
   "metadata": {},
   "outputs": [
    {
     "data": {
      "text/plain": [
       "{'name': 'jhon', 'age': 14, 'school': 'DAV'}"
      ]
     },
     "execution_count": 224,
     "metadata": {},
     "output_type": "execute_result"
    }
   ],
   "source": [
    "stu={'name':'jhon','age':14,'school':'DAV'}\n",
    "stu"
   ]
  },
  {
   "cell_type": "code",
   "execution_count": 225,
   "id": "c0f478ba",
   "metadata": {},
   "outputs": [
    {
     "data": {
      "text/plain": [
       "'DAV'"
      ]
     },
     "execution_count": 225,
     "metadata": {},
     "output_type": "execute_result"
    }
   ],
   "source": [
    "stu['school']"
   ]
  },
  {
   "cell_type": "code",
   "execution_count": 226,
   "id": "c68a865c",
   "metadata": {},
   "outputs": [
    {
     "data": {
      "text/plain": [
       "dict_items([('name', 'jhon'), ('age', 14), ('school', 'DAV')])"
      ]
     },
     "execution_count": 226,
     "metadata": {},
     "output_type": "execute_result"
    }
   ],
   "source": [
    "stu.items()"
   ]
  },
  {
   "cell_type": "code",
   "execution_count": 227,
   "id": "2a950206",
   "metadata": {},
   "outputs": [
    {
     "data": {
      "text/plain": [
       "{'name': 'jhon', 'age': 14, 'school': 'DAV', 'key': 'value'}"
      ]
     },
     "execution_count": 227,
     "metadata": {},
     "output_type": "execute_result"
    }
   ],
   "source": [
    "stu['key']='value'\n",
    "stu"
   ]
  },
  {
   "cell_type": "code",
   "execution_count": 228,
   "id": "a79ba653",
   "metadata": {},
   "outputs": [],
   "source": [
    "del stu['key']"
   ]
  },
  {
   "cell_type": "code",
   "execution_count": 229,
   "id": "951f0124",
   "metadata": {},
   "outputs": [
    {
     "data": {
      "text/plain": [
       "{'name': 'jhon', 'age': 14, 'school': 'DAV'}"
      ]
     },
     "execution_count": 229,
     "metadata": {},
     "output_type": "execute_result"
    }
   ],
   "source": [
    "stu"
   ]
  },
  {
   "cell_type": "code",
   "execution_count": 230,
   "id": "56863f1c",
   "metadata": {},
   "outputs": [],
   "source": [
    "del stu"
   ]
  },
  {
   "cell_type": "code",
   "execution_count": 231,
   "id": "2089346e",
   "metadata": {},
   "outputs": [
    {
     "ename": "NameError",
     "evalue": "name 'stu' is not defined",
     "output_type": "error",
     "traceback": [
      "\u001b[1;31m---------------------------------------------------------------------------\u001b[0m",
      "\u001b[1;31mNameError\u001b[0m                                 Traceback (most recent call last)",
      "\u001b[1;32m~\\AppData\\Local\\Temp/ipykernel_5504/955621139.py\u001b[0m in \u001b[0;36m<module>\u001b[1;34m\u001b[0m\n\u001b[1;32m----> 1\u001b[1;33m \u001b[0mstu\u001b[0m\u001b[1;33m\u001b[0m\u001b[1;33m\u001b[0m\u001b[0m\n\u001b[0m",
      "\u001b[1;31mNameError\u001b[0m: name 'stu' is not defined"
     ]
    }
   ],
   "source": [
    "stu"
   ]
  },
  {
   "cell_type": "code",
   "execution_count": 239,
   "id": "d80c5567",
   "metadata": {},
   "outputs": [
    {
     "name": "stdout",
     "output_type": "stream",
     "text": [
      "key : name values :  nihar\n",
      "key : age values :  27\n",
      "key : 12 values :  [1, 2, 3]\n",
      "key : (1, 2, 3) values :  1\n"
     ]
    }
   ],
   "source": [
    "for key in d1:\n",
    "    print('key :',key,'values : ',d1[key])"
   ]
  },
  {
   "cell_type": "code",
   "execution_count": 240,
   "id": "eefd0ab5",
   "metadata": {},
   "outputs": [
    {
     "name": "stdout",
     "output_type": "stream",
     "text": [
      "key : name values :  nihar\n",
      "key : age values :  27\n",
      "key : 12 values :  [1, 2, 3]\n",
      "key : (1, 2, 3) values :  1\n"
     ]
    }
   ],
   "source": [
    "for key,value in d1.items():\n",
    "    print('key :',key,'values : ',value)"
   ]
  },
  {
   "cell_type": "code",
   "execution_count": 242,
   "id": "2b65c653",
   "metadata": {},
   "outputs": [
    {
     "name": "stdout",
     "output_type": "stream",
     "text": [
      "values :  nihar\n",
      "values :  27\n",
      "values :  [1, 2, 3]\n",
      "values :  1\n"
     ]
    }
   ],
   "source": [
    "for value in d1.values():\n",
    "    print('values : ',value)"
   ]
  },
  {
   "cell_type": "code",
   "execution_count": 244,
   "id": "5b7f7caa",
   "metadata": {},
   "outputs": [
    {
     "name": "stdout",
     "output_type": "stream",
     "text": [
      "keys: name\n",
      "keys: age\n",
      "keys: 12\n",
      "keys: (1, 2, 3)\n"
     ]
    }
   ],
   "source": [
    "for i in d1:\n",
    "    print('keys:',i)"
   ]
  },
  {
   "cell_type": "markdown",
   "id": "b9fde0a5",
   "metadata": {},
   "source": [
    "### Set"
   ]
  },
  {
   "cell_type": "markdown",
   "id": "f5e7f8db",
   "metadata": {},
   "source": [
    "#### Set- \n",
    "       unordered\n",
    "       it will have unique value\n",
    "       Element of different datatype\n",
    "add\n",
    "\n",
    "remove\n",
    "\n",
    "union\n",
    "\n",
    "intersection\n",
    "\n",
    "difference\n",
    "\n",
    "symmetric diffence"
   ]
  },
  {
   "cell_type": "code",
   "execution_count": 250,
   "id": "1f69f743",
   "metadata": {},
   "outputs": [
    {
     "data": {
      "text/plain": [
       "{'a', 'b', 'c', 'd', 'hi', 'x'}"
      ]
     },
     "execution_count": 250,
     "metadata": {},
     "output_type": "execute_result"
    }
   ],
   "source": [
    "a={'a','b','hi','c','d','x'}\n",
    "b={'hi','x','y','z','c','d'}\n",
    "a"
   ]
  },
  {
   "cell_type": "code",
   "execution_count": 247,
   "id": "7a302d60",
   "metadata": {},
   "outputs": [
    {
     "data": {
      "text/plain": [
       "set"
      ]
     },
     "execution_count": 247,
     "metadata": {},
     "output_type": "execute_result"
    }
   ],
   "source": [
    "type(b)"
   ]
  },
  {
   "cell_type": "code",
   "execution_count": 248,
   "id": "20c698bc",
   "metadata": {},
   "outputs": [
    {
     "data": {
      "text/plain": [
       "True"
      ]
     },
     "execution_count": 248,
     "metadata": {},
     "output_type": "execute_result"
    }
   ],
   "source": [
    "'a' in a"
   ]
  },
  {
   "cell_type": "code",
   "execution_count": 249,
   "id": "6acace9f",
   "metadata": {},
   "outputs": [
    {
     "data": {
      "text/plain": [
       "False"
      ]
     },
     "execution_count": 249,
     "metadata": {},
     "output_type": "execute_result"
    }
   ],
   "source": [
    "'p' in a"
   ]
  },
  {
   "cell_type": "code",
   "execution_count": 252,
   "id": "8e047866",
   "metadata": {},
   "outputs": [
    {
     "data": {
      "text/plain": [
       "{'a', 'b', 'c', 'd', 'hi', 'pqr', 'x'}"
      ]
     },
     "execution_count": 252,
     "metadata": {},
     "output_type": "execute_result"
    }
   ],
   "source": [
    "a.add('pqr')\n",
    "a"
   ]
  },
  {
   "cell_type": "code",
   "execution_count": 254,
   "id": "ae7d3a82",
   "metadata": {},
   "outputs": [
    {
     "data": {
      "text/plain": [
       "{'a', 'b', 'c', 'd', 'hi', 'x'}"
      ]
     },
     "execution_count": 254,
     "metadata": {},
     "output_type": "execute_result"
    }
   ],
   "source": [
    "a.remove('pqr')\n",
    "a"
   ]
  },
  {
   "cell_type": "code",
   "execution_count": 255,
   "id": "9ba2330c",
   "metadata": {},
   "outputs": [
    {
     "name": "stdout",
     "output_type": "stream",
     "text": [
      "d\n",
      "hi\n",
      "c\n",
      "b\n",
      "a\n",
      "x\n"
     ]
    }
   ],
   "source": [
    "for val in a:\n",
    "    print(val)"
   ]
  },
  {
   "cell_type": "code",
   "execution_count": 256,
   "id": "d74b574a",
   "metadata": {},
   "outputs": [
    {
     "data": {
      "text/plain": [
       "{'a', 'b', 'c', 'd', 'hi', 'x', 'y', 'z'}"
      ]
     },
     "execution_count": 256,
     "metadata": {},
     "output_type": "execute_result"
    }
   ],
   "source": [
    "c=a.union(b)\n",
    "c"
   ]
  },
  {
   "cell_type": "code",
   "execution_count": 258,
   "id": "cda8c157",
   "metadata": {},
   "outputs": [
    {
     "data": {
      "text/plain": [
       "{'c', 'd', 'hi', 'x'}"
      ]
     },
     "execution_count": 258,
     "metadata": {},
     "output_type": "execute_result"
    }
   ],
   "source": [
    "d=a.intersection(b)\n",
    "d"
   ]
  },
  {
   "cell_type": "code",
   "execution_count": 259,
   "id": "edb01c40",
   "metadata": {},
   "outputs": [
    {
     "data": {
      "text/plain": [
       "{'a', 'b'}"
      ]
     },
     "execution_count": 259,
     "metadata": {},
     "output_type": "execute_result"
    }
   ],
   "source": [
    "e=a.difference(b)\n",
    "e"
   ]
  },
  {
   "cell_type": "code",
   "execution_count": 267,
   "id": "54527099",
   "metadata": {},
   "outputs": [
    {
     "data": {
      "text/plain": [
       "{'a', 'b', 'y', 'z'}"
      ]
     },
     "execution_count": 267,
     "metadata": {},
     "output_type": "execute_result"
    }
   ],
   "source": [
    "f=a.symmetric_difference(b)\n",
    "f"
   ]
  },
  {
   "cell_type": "code",
   "execution_count": 262,
   "id": "84d615f8",
   "metadata": {},
   "outputs": [
    {
     "data": {
      "text/plain": [
       "False"
      ]
     },
     "execution_count": 262,
     "metadata": {},
     "output_type": "execute_result"
    }
   ],
   "source": [
    "g=a.issubset(b)\n",
    "g"
   ]
  },
  {
   "cell_type": "code",
   "execution_count": 263,
   "id": "34e75218",
   "metadata": {},
   "outputs": [
    {
     "data": {
      "text/plain": [
       "True"
      ]
     },
     "execution_count": 263,
     "metadata": {},
     "output_type": "execute_result"
    }
   ],
   "source": [
    "a.issubset(c)"
   ]
  },
  {
   "cell_type": "code",
   "execution_count": 264,
   "id": "04628abe",
   "metadata": {},
   "outputs": [
    {
     "data": {
      "text/plain": [
       "True"
      ]
     },
     "execution_count": 264,
     "metadata": {},
     "output_type": "execute_result"
    }
   ],
   "source": [
    "c.issuperset(b)"
   ]
  },
  {
   "cell_type": "code",
   "execution_count": 268,
   "id": "692b43fa",
   "metadata": {},
   "outputs": [
    {
     "data": {
      "text/plain": [
       "{'a', 'b', 'y', 'z'}"
      ]
     },
     "execution_count": 268,
     "metadata": {},
     "output_type": "execute_result"
    }
   ],
   "source": [
    "b.symmetric_difference(a)"
   ]
  },
  {
   "cell_type": "markdown",
   "id": "a0fadae2",
   "metadata": {},
   "source": [
    "## Tuples\n",
    "just like list but immutable"
   ]
  },
  {
   "cell_type": "code",
   "execution_count": 269,
   "id": "a91fcc80",
   "metadata": {},
   "outputs": [
    {
     "data": {
      "text/plain": [
       "(1234, 6363, 'hello', 12)"
      ]
     },
     "execution_count": 269,
     "metadata": {},
     "output_type": "execute_result"
    }
   ],
   "source": [
    "t=(1234,6363,'hello',12)\n",
    "t"
   ]
  },
  {
   "cell_type": "code",
   "execution_count": 270,
   "id": "3e97cc07",
   "metadata": {},
   "outputs": [
    {
     "data": {
      "text/plain": [
       "(1, 2, 3, 4, 'hi')"
      ]
     },
     "execution_count": 270,
     "metadata": {},
     "output_type": "execute_result"
    }
   ],
   "source": [
    "tup=1,2,3,4,'hi'\n",
    "tup"
   ]
  },
  {
   "cell_type": "code",
   "execution_count": 271,
   "id": "e620eb4b",
   "metadata": {},
   "outputs": [
    {
     "data": {
      "text/plain": [
       "tuple"
      ]
     },
     "execution_count": 271,
     "metadata": {},
     "output_type": "execute_result"
    }
   ],
   "source": [
    "type(tup)"
   ]
  },
  {
   "cell_type": "code",
   "execution_count": 274,
   "id": "cd1f0396",
   "metadata": {},
   "outputs": [
    {
     "data": {
      "text/plain": [
       "((1234, 6363, 'hello', 12), (34, 78))"
      ]
     },
     "execution_count": 274,
     "metadata": {},
     "output_type": "execute_result"
    }
   ],
   "source": [
    "u=t, (34,78)\n",
    "u"
   ]
  },
  {
   "cell_type": "code",
   "execution_count": 275,
   "id": "1c95b43c",
   "metadata": {},
   "outputs": [
    {
     "data": {
      "text/plain": [
       "(34, 78)"
      ]
     },
     "execution_count": 275,
     "metadata": {},
     "output_type": "execute_result"
    }
   ],
   "source": [
    "u[1]"
   ]
  },
  {
   "cell_type": "code",
   "execution_count": 276,
   "id": "bcb1312e",
   "metadata": {},
   "outputs": [
    {
     "ename": "TypeError",
     "evalue": "'tuple' object does not support item assignment",
     "output_type": "error",
     "traceback": [
      "\u001b[1;31m---------------------------------------------------------------------------\u001b[0m",
      "\u001b[1;31mTypeError\u001b[0m                                 Traceback (most recent call last)",
      "\u001b[1;32m~\\AppData\\Local\\Temp/ipykernel_5504/1561072255.py\u001b[0m in \u001b[0;36m<module>\u001b[1;34m\u001b[0m\n\u001b[1;32m----> 1\u001b[1;33m \u001b[0mu\u001b[0m\u001b[1;33m[\u001b[0m\u001b[1;36m2\u001b[0m\u001b[1;33m]\u001b[0m\u001b[1;33m=\u001b[0m\u001b[1;36m1\u001b[0m\u001b[1;33m\u001b[0m\u001b[1;33m\u001b[0m\u001b[0m\n\u001b[0m",
      "\u001b[1;31mTypeError\u001b[0m: 'tuple' object does not support item assignment"
     ]
    }
   ],
   "source": [
    "u[2]=1"
   ]
  },
  {
   "cell_type": "code",
   "execution_count": 277,
   "id": "8ac41f13",
   "metadata": {},
   "outputs": [
    {
     "data": {
      "text/plain": [
       "12"
      ]
     },
     "execution_count": 277,
     "metadata": {},
     "output_type": "execute_result"
    }
   ],
   "source": [
    "t[3]"
   ]
  },
  {
   "cell_type": "code",
   "execution_count": 278,
   "id": "7f4aa9eb",
   "metadata": {},
   "outputs": [
    {
     "ename": "TypeError",
     "evalue": "'tuple' object does not support item assignment",
     "output_type": "error",
     "traceback": [
      "\u001b[1;31m---------------------------------------------------------------------------\u001b[0m",
      "\u001b[1;31mTypeError\u001b[0m                                 Traceback (most recent call last)",
      "\u001b[1;32m~\\AppData\\Local\\Temp/ipykernel_5504/2248017924.py\u001b[0m in \u001b[0;36m<module>\u001b[1;34m\u001b[0m\n\u001b[1;32m----> 1\u001b[1;33m \u001b[0mt\u001b[0m\u001b[1;33m[\u001b[0m\u001b[1;36m3\u001b[0m\u001b[1;33m]\u001b[0m\u001b[1;33m=\u001b[0m\u001b[1;36m34\u001b[0m\u001b[1;33m\u001b[0m\u001b[1;33m\u001b[0m\u001b[0m\n\u001b[0m",
      "\u001b[1;31mTypeError\u001b[0m: 'tuple' object does not support item assignment"
     ]
    }
   ],
   "source": [
    "t[3]=34"
   ]
  },
  {
   "cell_type": "code",
   "execution_count": 279,
   "id": "f6c83297",
   "metadata": {},
   "outputs": [
    {
     "data": {
      "text/plain": [
       "(1234, 6363, 'hello', 12)"
      ]
     },
     "execution_count": 279,
     "metadata": {},
     "output_type": "execute_result"
    }
   ],
   "source": [
    "t"
   ]
  },
  {
   "cell_type": "code",
   "execution_count": 280,
   "id": "de571bd8",
   "metadata": {},
   "outputs": [
    {
     "ename": "TypeError",
     "evalue": "'tuple' object does not support item assignment",
     "output_type": "error",
     "traceback": [
      "\u001b[1;31m---------------------------------------------------------------------------\u001b[0m",
      "\u001b[1;31mTypeError\u001b[0m                                 Traceback (most recent call last)",
      "\u001b[1;32m~\\AppData\\Local\\Temp/ipykernel_5504/1829534483.py\u001b[0m in \u001b[0;36m<module>\u001b[1;34m\u001b[0m\n\u001b[1;32m----> 1\u001b[1;33m \u001b[0mt\u001b[0m\u001b[1;33m[\u001b[0m\u001b[1;36m2\u001b[0m\u001b[1;33m]\u001b[0m\u001b[1;33m=\u001b[0m\u001b[1;34m'hi'\u001b[0m\u001b[1;33m\u001b[0m\u001b[1;33m\u001b[0m\u001b[0m\n\u001b[0m",
      "\u001b[1;31mTypeError\u001b[0m: 'tuple' object does not support item assignment"
     ]
    }
   ],
   "source": [
    "t[2]='hi'"
   ]
  },
  {
   "cell_type": "code",
   "execution_count": 282,
   "id": "80d71062",
   "metadata": {},
   "outputs": [
    {
     "ename": "TypeError",
     "evalue": "'tuple' object does not support item assignment",
     "output_type": "error",
     "traceback": [
      "\u001b[1;31m---------------------------------------------------------------------------\u001b[0m",
      "\u001b[1;31mTypeError\u001b[0m                                 Traceback (most recent call last)",
      "\u001b[1;32m~\\AppData\\Local\\Temp/ipykernel_5504/3486413740.py\u001b[0m in \u001b[0;36m<module>\u001b[1;34m\u001b[0m\n\u001b[1;32m----> 1\u001b[1;33m \u001b[0mu\u001b[0m\u001b[1;33m[\u001b[0m\u001b[1;36m1\u001b[0m\u001b[1;33m]\u001b[0m\u001b[1;33m[\u001b[0m\u001b[1;36m0\u001b[0m\u001b[1;33m]\u001b[0m\u001b[1;33m=\u001b[0m\u001b[1;36m2\u001b[0m\u001b[1;33m\u001b[0m\u001b[1;33m\u001b[0m\u001b[0m\n\u001b[0m",
      "\u001b[1;31mTypeError\u001b[0m: 'tuple' object does not support item assignment"
     ]
    }
   ],
   "source": [
    "u[1][0]=2"
   ]
  },
  {
   "cell_type": "code",
   "execution_count": 284,
   "id": "345fa9cd",
   "metadata": {},
   "outputs": [
    {
     "data": {
      "text/plain": [
       "(1, 2, [1, 2, 3, 'hi'], 'hello', (12, 23, 34))"
      ]
     },
     "execution_count": 284,
     "metadata": {},
     "output_type": "execute_result"
    }
   ],
   "source": [
    "t1=(1,2,[1,2,3,'hi'],'hello',(12,23,34))\n",
    "t1"
   ]
  },
  {
   "cell_type": "code",
   "execution_count": 285,
   "id": "2831c327",
   "metadata": {},
   "outputs": [
    {
     "data": {
      "text/plain": [
       "[1, 2, 3, 'hi']"
      ]
     },
     "execution_count": 285,
     "metadata": {},
     "output_type": "execute_result"
    }
   ],
   "source": [
    "t1[2]"
   ]
  },
  {
   "cell_type": "code",
   "execution_count": 288,
   "id": "fecad55b",
   "metadata": {},
   "outputs": [
    {
     "data": {
      "text/plain": [
       "(1, 2, [1, 23, 3, 'hi'], 'hello', (12, 23, 34))"
      ]
     },
     "execution_count": 288,
     "metadata": {},
     "output_type": "execute_result"
    }
   ],
   "source": [
    "t1[2][1]=23\n",
    "t1"
   ]
  },
  {
   "cell_type": "code",
   "execution_count": 289,
   "id": "79bce1c0",
   "metadata": {},
   "outputs": [
    {
     "data": {
      "text/plain": [
       "(1, 2, [1, 23, 3, 'hello'], 'hello', (12, 23, 34))"
      ]
     },
     "execution_count": 289,
     "metadata": {},
     "output_type": "execute_result"
    }
   ],
   "source": [
    "t1[2][3]='hello'\n",
    "t1"
   ]
  },
  {
   "cell_type": "markdown",
   "id": "954923e9",
   "metadata": {},
   "source": [
    "### Dynamic function agrument: args  and Kwargs"
   ]
  },
  {
   "cell_type": "code",
   "execution_count": 293,
   "id": "eb392972",
   "metadata": {},
   "outputs": [
    {
     "data": {
      "text/plain": [
       "150"
      ]
     },
     "execution_count": 293,
     "metadata": {},
     "output_type": "execute_result"
    }
   ],
   "source": [
    "def myfunc(a,b):\n",
    "    return sum(a,b)\n",
    "myfunc(100,50)"
   ]
  },
  {
   "cell_type": "code",
   "execution_count": 1,
   "id": "eeae5c2e",
   "metadata": {},
   "outputs": [
    {
     "data": {
      "text/plain": [
       "150"
      ]
     },
     "execution_count": 1,
     "metadata": {},
     "output_type": "execute_result"
    }
   ],
   "source": [
    "def myfunc(a,b):\n",
    "    return sum((a,b))\n",
    "myfunc(100,50)"
   ]
  },
  {
   "cell_type": "code",
   "execution_count": 2,
   "id": "a8a95600",
   "metadata": {},
   "outputs": [
    {
     "data": {
      "text/plain": [
       "25"
      ]
     },
     "execution_count": 2,
     "metadata": {},
     "output_type": "execute_result"
    }
   ],
   "source": [
    "def myfunc(a,b,c,d,e):\n",
    "    return sum((a,b,c,d,e))\n",
    "myfunc(3,4,5,6,7)"
   ]
  },
  {
   "cell_type": "code",
   "execution_count": 3,
   "id": "5b263fea",
   "metadata": {},
   "outputs": [
    {
     "data": {
      "text/plain": [
       "7"
      ]
     },
     "execution_count": 3,
     "metadata": {},
     "output_type": "execute_result"
    }
   ],
   "source": [
    "def myfunc(a,b,c=0,d=0,e=0):\n",
    "    return sum((a,b,c,d,e))\n",
    "myfunc(3,4)"
   ]
  },
  {
   "cell_type": "code",
   "execution_count": 4,
   "id": "bb907097",
   "metadata": {},
   "outputs": [
    {
     "data": {
      "text/plain": [
       "132"
      ]
     },
     "execution_count": 4,
     "metadata": {},
     "output_type": "execute_result"
    }
   ],
   "source": [
    "def myfunc(a,b,*args):\n",
    "    return sum((a,b))+sum(args)\n",
    "myfunc(100,2,4,5,6,7,8) "
   ]
  },
  {
   "cell_type": "code",
   "execution_count": 5,
   "id": "580afabf",
   "metadata": {},
   "outputs": [
    {
     "data": {
      "text/plain": [
       "90"
      ]
     },
     "execution_count": 5,
     "metadata": {},
     "output_type": "execute_result"
    }
   ],
   "source": [
    "def fun(*args):\n",
    "    return sum(args)\n",
    "fun(90)"
   ]
  },
  {
   "cell_type": "code",
   "execution_count": 6,
   "id": "8ba1e048",
   "metadata": {},
   "outputs": [
    {
     "data": {
      "text/plain": [
       "24"
      ]
     },
     "execution_count": 6,
     "metadata": {},
     "output_type": "execute_result"
    }
   ],
   "source": [
    "fun(12,12)"
   ]
  },
  {
   "cell_type": "markdown",
   "id": "678fe28c",
   "metadata": {},
   "source": [
    "*args = for one type of values\n",
    "\n",
    "**Kwargs= multiple type of values"
   ]
  },
  {
   "cell_type": "code",
   "execution_count": 13,
   "id": "c6cce53b",
   "metadata": {},
   "outputs": [
    {
     "name": "stdout",
     "output_type": "stream",
     "text": [
      "56\n",
      "I love to eat Banana\n"
     ]
    }
   ],
   "source": [
    "def fun2(a,b,*args,**kwargs):\n",
    "    print((a+b)+sum(args))\n",
    "    if 'fruit' in kwargs:\n",
    "        print('I love to eat {}'.format(kwargs['fruit']))\n",
    "    else:\n",
    "        print('I hate fruits')\n",
    "fun2(22,34,fruit='Banana',vegitable='Carrot')\n"
   ]
  },
  {
   "cell_type": "code",
   "execution_count": 14,
   "id": "065b286c",
   "metadata": {},
   "outputs": [
    {
     "name": "stdout",
     "output_type": "stream",
     "text": [
      "56\n",
      "I hate fruits\n"
     ]
    }
   ],
   "source": [
    "fun2(22,34,vegitable='Carrot')\n"
   ]
  },
  {
   "cell_type": "code",
   "execution_count": 15,
   "id": "529fe95a",
   "metadata": {},
   "outputs": [
    {
     "name": "stdout",
     "output_type": "stream",
     "text": [
      "290\n",
      "I hate fruits\n"
     ]
    }
   ],
   "source": [
    "fun2(44,67,89,90)"
   ]
  },
  {
   "cell_type": "markdown",
   "id": "69d01462",
   "metadata": {},
   "source": [
    "### Lambda function,Map,Reduce,Filter"
   ]
  },
  {
   "cell_type": "code",
   "execution_count": 18,
   "id": "c279668d",
   "metadata": {},
   "outputs": [
    {
     "data": {
      "text/plain": [
       "3"
      ]
     },
     "execution_count": 18,
     "metadata": {},
     "output_type": "execute_result"
    }
   ],
   "source": [
    "def sums(a,b):\n",
    "    return(a+b)\n",
    "sums(1,2)"
   ]
  },
  {
   "cell_type": "code",
   "execution_count": 19,
   "id": "5715d6d8",
   "metadata": {},
   "outputs": [
    {
     "data": {
      "text/plain": [
       "15"
      ]
     },
     "execution_count": 19,
     "metadata": {},
     "output_type": "execute_result"
    }
   ],
   "source": [
    "adder=lambda a,b : a+b\n",
    "adder(7,8)"
   ]
  },
  {
   "cell_type": "code",
   "execution_count": 23,
   "id": "cfaead13",
   "metadata": {},
   "outputs": [
    {
     "data": {
      "text/plain": [
       "[1, 4, 9, 16, 25, 36, 207936]"
      ]
     },
     "execution_count": 23,
     "metadata": {},
     "output_type": "execute_result"
    }
   ],
   "source": [
    "# map: map a function to an iterable object\n",
    "def square(x):\n",
    "    return x**2\n",
    "nums=[1,2,3,4,5,6,456]\n",
    "list(map(square,nums))"
   ]
  },
  {
   "cell_type": "code",
   "execution_count": 24,
   "id": "ff05db65",
   "metadata": {},
   "outputs": [
    {
     "data": {
      "text/plain": [
       "[1, 4, 9, 16, 25, 36, 207936]"
      ]
     },
     "execution_count": 24,
     "metadata": {},
     "output_type": "execute_result"
    }
   ],
   "source": [
    "list(map(lambda a: a**2,nums))"
   ]
  },
  {
   "cell_type": "code",
   "execution_count": 25,
   "id": "8890d904",
   "metadata": {},
   "outputs": [
    {
     "data": {
      "text/plain": [
       "[10, 20, 30, 40, 50, 60, 4560]"
      ]
     },
     "execution_count": 25,
     "metadata": {},
     "output_type": "execute_result"
    }
   ],
   "source": [
    "num2=[10,10,10,10,10,10,10,10,10]\n",
    "list(map(lambda a,b:a*b,nums,num2))"
   ]
  },
  {
   "cell_type": "code",
   "execution_count": 31,
   "id": "ee0b1b5b",
   "metadata": {},
   "outputs": [
    {
     "data": {
      "text/plain": [
       "[8, 15]"
      ]
     },
     "execution_count": 31,
     "metadata": {},
     "output_type": "execute_result"
    }
   ],
   "source": [
    "a=[2,3]\n",
    "b=[4,5]\n",
    "list(map(lambda x,y:x*y,a,b))"
   ]
  },
  {
   "cell_type": "code",
   "execution_count": 34,
   "id": "a14abe3b",
   "metadata": {},
   "outputs": [
    {
     "data": {
      "text/plain": [
       "[2, 4, 6, 8, 90, 56]"
      ]
     },
     "execution_count": 34,
     "metadata": {},
     "output_type": "execute_result"
    }
   ],
   "source": [
    "# Filter\n",
    "num1=[1,2,3,4,5,6,7,8,9,90,87,56]\n",
    "def even(x):\n",
    "    if x%2==0:\n",
    "        return x\n",
    "list(filter(even,num1))"
   ]
  },
  {
   "cell_type": "code",
   "execution_count": 35,
   "id": "9e425ba8",
   "metadata": {},
   "outputs": [
    {
     "data": {
      "text/plain": [
       "[2, 4, 6, 8, 90, 56]"
      ]
     },
     "execution_count": 35,
     "metadata": {},
     "output_type": "execute_result"
    }
   ],
   "source": [
    "list(filter(lambda x: x%2==0,num1))"
   ]
  },
  {
   "cell_type": "code",
   "execution_count": 36,
   "id": "42361027",
   "metadata": {},
   "outputs": [],
   "source": [
    "#reduce :[1,43,23,4,8,91,1008,23,2,109] \n",
    "import functools as ft"
   ]
  },
  {
   "cell_type": "code",
   "execution_count": 38,
   "id": "4bee026a",
   "metadata": {},
   "outputs": [
    {
     "data": {
      "text/plain": [
       "1008"
      ]
     },
     "execution_count": 38,
     "metadata": {},
     "output_type": "execute_result"
    }
   ],
   "source": [
    "num = [1,43,23,4,8,91,1008,23,2,109] \n",
    "max = ft.reduce(lambda a,b: a if (a>b) else b,num )\n",
    "max"
   ]
  },
  {
   "cell_type": "code",
   "execution_count": 40,
   "id": "5d9e165d",
   "metadata": {},
   "outputs": [
    {
     "data": {
      "text/plain": [
       "5050"
      ]
     },
     "execution_count": 40,
     "metadata": {},
     "output_type": "execute_result"
    }
   ],
   "source": [
    "sum=ft.reduce(lambda a,b: a+b,range(1,101))\n",
    "sum"
   ]
  },
  {
   "cell_type": "markdown",
   "id": "8a840837",
   "metadata": {},
   "source": [
    "## Python Pratice"
   ]
  },
  {
   "cell_type": "code",
   "execution_count": 56,
   "id": "4f331793",
   "metadata": {},
   "outputs": [
    {
     "data": {
      "text/plain": [
       "{10, 20, 60, 70}"
      ]
     },
     "execution_count": 56,
     "metadata": {},
     "output_type": "execute_result"
    }
   ],
   "source": [
    "# update set1by adding items from set2, expect common items \n",
    "set1={10,20,30,40,50}\n",
    "set2={30,40,50,60,70}\n",
    "set1.symmetric_difference_update(set2)\n",
    "set1"
   ]
  },
  {
   "cell_type": "code",
   "execution_count": 57,
   "id": "f1344940",
   "metadata": {},
   "outputs": [
    {
     "data": {
      "text/plain": [
       "{'name': 'Kelly', 'age': 25, 'salary': 8000, 'location': 'New York'}"
      ]
     },
     "execution_count": 57,
     "metadata": {},
     "output_type": "execute_result"
    }
   ],
   "source": [
    "# Rename key city to Location in the following dictionary:\n",
    "sampleDict= {'name':'Kelly','age':25\n",
    "            ,'salary':8000,\n",
    "            'city':'New York'}\n",
    "sampleDict['location']=sampleDict.pop('city')\n",
    "sampleDict"
   ]
  },
  {
   "cell_type": "code",
   "execution_count": 60,
   "id": "0e8cf20d",
   "metadata": {
    "scrolled": true
   },
   "outputs": [
    {
     "data": {
      "text/plain": [
       "{'emp1': {'name': 'Jhon', 'salary': 7500},\n",
       " 'emp2': {'name': 'Emma', 'salary': 8000},\n",
       " 'emp3': {'name': 'Brad', 'salary': 8500}}"
      ]
     },
     "execution_count": 60,
     "metadata": {},
     "output_type": "execute_result"
    }
   ],
   "source": [
    "# Change Brad's salary to 8500 from a given python Dictionary\n",
    "sampleDict={\n",
    "    'emp1':{'name':'Jhon','salary':7500},\n",
    "    'emp2':{'name':'Emma','salary':8000},\n",
    "    'emp3':{'name':'Brad','salary':6500}\n",
    "}\n",
    "sampleDict['emp3']['salary']=8500\n",
    "sampleDict"
   ]
  },
  {
   "cell_type": "code",
   "execution_count": 3,
   "id": "be845204",
   "metadata": {
    "scrolled": true
   },
   "outputs": [
    {
     "name": "stdout",
     "output_type": "stream",
     "text": [
      "please provide number of student:3\n",
      "\n",
      "Name:a\n",
      "\n",
      "Score :23\n",
      "\n",
      "Name:b\n",
      "\n",
      "Score :12\n",
      "\n",
      "Name:c\n",
      "\n",
      "Score :87\n"
     ]
    },
    {
     "data": {
      "text/plain": [
       "[['a', 23.0], ['b', 12.0], ['c', 87.0]]"
      ]
     },
     "execution_count": 3,
     "metadata": {},
     "output_type": "execute_result"
    }
   ],
   "source": [
    "n=int(input('please provide number of student:'))\n",
    "stumark = [[input('\\nName:'),float(input('\\nScore :'))] for i in range(n)]\n",
    "stumark"
   ]
  },
  {
   "cell_type": "code",
   "execution_count": 13,
   "id": "6da1f48e",
   "metadata": {},
   "outputs": [
    {
     "data": {
      "text/plain": [
       "['a']"
      ]
     },
     "execution_count": 13,
     "metadata": {},
     "output_type": "execute_result"
    }
   ],
   "source": [
    "[name for name,marks in stumark if marks== sorted(list(marks for name,marks in stumark))[1]]"
   ]
  },
  {
   "cell_type": "code",
   "execution_count": 19,
   "id": "4f27baf0",
   "metadata": {},
   "outputs": [
    {
     "name": "stdout",
     "output_type": "stream",
     "text": [
      "0\n",
      "3\n",
      "5\n",
      "6\n",
      "9\n",
      "10\n",
      "12\n",
      "15\n",
      "18\n",
      "20\n",
      "Sum : 98\n"
     ]
    }
   ],
   "source": [
    "def fun(n):\n",
    "    s=0\n",
    "    for x in range(n+1):\n",
    "        if (x%3==0)|(x%5==0):\n",
    "            s=s+x\n",
    "            print(x)\n",
    "    print('Sum :',s)\n",
    "fun(20)"
   ]
  },
  {
   "cell_type": "code",
   "execution_count": 21,
   "id": "98635349",
   "metadata": {},
   "outputs": [
    {
     "data": {
      "text/plain": [
       "98"
      ]
     },
     "execution_count": 21,
     "metadata": {},
     "output_type": "execute_result"
    }
   ],
   "source": [
    "sum([x for x in range(n+1) if (x%3==0)|(x%5==0)])"
   ]
  },
  {
   "cell_type": "code",
   "execution_count": 22,
   "id": "7c87954c",
   "metadata": {},
   "outputs": [
    {
     "data": {
      "text/plain": [
       "98"
      ]
     },
     "execution_count": 22,
     "metadata": {},
     "output_type": "execute_result"
    }
   ],
   "source": [
    "def fun(n):\n",
    "    return sum([x for x in range(n+1) if (x%3==0)|(x%5==0)])\n",
    "fun(20)"
   ]
  },
  {
   "cell_type": "code",
   "execution_count": 32,
   "id": "1fcfe270",
   "metadata": {},
   "outputs": [
    {
     "name": "stdout",
     "output_type": "stream",
     "text": [
      "Points: 26\n",
      "License suspended\n"
     ]
    }
   ],
   "source": [
    "def speed(n):\n",
    "    if n<=70:\n",
    "        print('ok!')\n",
    "    else:\n",
    "        pts=int((n-70)/5)\n",
    "        print('Points:',pts)\n",
    "        if (pts>12):\n",
    "            print('License suspended')\n",
    "speed(200)"
   ]
  },
  {
   "cell_type": "code",
   "execution_count": 34,
   "id": "f9b3c7c0",
   "metadata": {},
   "outputs": [],
   "source": [
    "def fun(*args):\n",
    "    n=len(args)\n",
    "    if n==4:\n",
    "        print('Hello')\n",
    "fun('Niha')"
   ]
  },
  {
   "cell_type": "code",
   "execution_count": 36,
   "id": "cd0f3353",
   "metadata": {},
   "outputs": [
    {
     "name": "stdout",
     "output_type": "stream",
     "text": [
      "how many  shift ?4\n",
      "abcdefghijklmnopqrstuvwxyz\n"
     ]
    },
    {
     "data": {
      "text/plain": [
       "'efghijklmnopqrstuvwxyzabcd'"
      ]
     },
     "execution_count": 36,
     "metadata": {},
     "output_type": "execute_result"
    }
   ],
   "source": [
    "import string \n",
    "letter = string.ascii_lowercase\n",
    "n=int(input('how many  shift ?'))\n",
    "shifted= letter[n:]+letter[:n]\n",
    "print(letter)\n",
    "shifted"
   ]
  },
  {
   "cell_type": "code",
   "execution_count": 41,
   "id": "8226cc9a",
   "metadata": {},
   "outputs": [
    {
     "data": {
      "text/plain": [
       "'Mmww Psppc leh e hsppc als aew wmgo!!!'"
      ]
     },
     "execution_count": 41,
     "metadata": {},
     "output_type": "execute_result"
    }
   ],
   "source": [
    "mapper = {letter[i]:shifted[i] for i in range(len(letter))}\n",
    "text ='Miss Polly had a dolly who was sick!!!'\n",
    "''.join([mapper[alph] if alph in mapper.keys() else alph for alph in text])"
   ]
  },
  {
   "cell_type": "code",
   "execution_count": 62,
   "id": "fad11b9e",
   "metadata": {},
   "outputs": [],
   "source": [
    "\n",
    "def perfect(n):\n",
    "    s=0\n",
    "    for i in range(1,n):\n",
    "        if n%i==0:\n",
    "            s += i \n",
    "        if s==n:\n",
    "            return True\n",
    "        else:\n",
    "            return False\n",
    "        \n",
    "for i in range(1,1001):\n",
    "    if perfect(i):\n",
    "        print('perfect',i)"
   ]
  },
  {
   "cell_type": "code",
   "execution_count": 83,
   "id": "7bb491e9",
   "metadata": {},
   "outputs": [],
   "source": [
    "def perfect(n):\n",
    "    s=0\n",
    "    for i in range(1,n):\n",
    "        if n%i==0:\n",
    "            s = s+i \n",
    "        if s==n:\n",
    "            return True\n",
    "        else:\n",
    "            return False\n",
    "for i in range(1,1001):\n",
    "    if perfect(i):\n",
    "        print(i)\n",
    "    "
   ]
  },
  {
   "cell_type": "code",
   "execution_count": 82,
   "id": "c98a1d3c",
   "metadata": {},
   "outputs": [],
   "source": [
    "for i in range(1,1001):\n",
    "    if perfect(i):\n",
    "        print(i)"
   ]
  },
  {
   "cell_type": "code",
   "execution_count": 84,
   "id": "a539c519",
   "metadata": {},
   "outputs": [
    {
     "name": "stdout",
     "output_type": "stream",
     "text": [
      "(2+3j)\n"
     ]
    },
    {
     "data": {
      "text/plain": [
       "complex"
      ]
     },
     "execution_count": 84,
     "metadata": {},
     "output_type": "execute_result"
    }
   ],
   "source": [
    "# create complex number in python\n",
    "z = 2 + 3j\n",
    "print(z)\n",
    "type(z)"
   ]
  },
  {
   "cell_type": "code",
   "execution_count": 85,
   "id": "9634d608",
   "metadata": {},
   "outputs": [
    {
     "name": "stdout",
     "output_type": "stream",
     "text": [
      "(3+4j)\n"
     ]
    },
    {
     "data": {
      "text/plain": [
       "complex"
      ]
     },
     "execution_count": 85,
     "metadata": {},
     "output_type": "execute_result"
    }
   ],
   "source": [
    "z1 = complex(3,4)\n",
    "print(z1)\n",
    "type(z1)"
   ]
  },
  {
   "cell_type": "code",
   "execution_count": 86,
   "id": "9df74a51",
   "metadata": {},
   "outputs": [
    {
     "name": "stdout",
     "output_type": "stream",
     "text": [
      "(4-3j)\n"
     ]
    },
    {
     "data": {
      "text/plain": [
       "complex"
      ]
     },
     "execution_count": 86,
     "metadata": {},
     "output_type": "execute_result"
    }
   ],
   "source": [
    "z2 = complex(real = 4, imag = -3)\n",
    "print(z2)\n",
    "type(z2)"
   ]
  },
  {
   "cell_type": "code",
   "execution_count": 87,
   "id": "bd064dfa",
   "metadata": {},
   "outputs": [
    {
     "name": "stdout",
     "output_type": "stream",
     "text": [
      "2.0\n",
      "3.0\n"
     ]
    },
    {
     "data": {
      "text/plain": [
       "(2-3j)"
      ]
     },
     "execution_count": 87,
     "metadata": {},
     "output_type": "execute_result"
    }
   ],
   "source": [
    "print(z.real)\n",
    "print(z.imag)\n",
    "z.conjugate()"
   ]
  },
  {
   "cell_type": "code",
   "execution_count": 88,
   "id": "f0d80fae",
   "metadata": {},
   "outputs": [
    {
     "name": "stdout",
     "output_type": "stream",
     "text": [
      "(3-5j)\n",
      "(4+7j)\n",
      "<class 'complex'>\n",
      "<class 'complex'>\n",
      "(7+2j)\n",
      "7.0\n",
      "2.0\n",
      "(7-2j)\n"
     ]
    },
    {
     "data": {
      "text/plain": [
       "7.280109889280518"
      ]
     },
     "execution_count": 88,
     "metadata": {},
     "output_type": "execute_result"
    }
   ],
   "source": [
    "z1 = 3-5j\n",
    "z2 = 4+7j\n",
    "print(z1,z2, sep = '\\n')\n",
    "print(type(z1),type(z2), sep = '\\n')\n",
    "z3 = z1 + z2\n",
    "print(z3)\n",
    "type(z3)\n",
    "print(z3.real)\n",
    "print(z3.imag)\n",
    "print(z3.conjugate())\n",
    "abs(z3)"
   ]
  },
  {
   "cell_type": "markdown",
   "id": "89d239b6",
   "metadata": {},
   "source": [
    "# OOPS"
   ]
  },
  {
   "cell_type": "markdown",
   "id": "32626066",
   "metadata": {},
   "source": [
    "Object Oriented Programming\n",
    "Object Oriented Programming (OOP) tends to be one of the major obstacles for beginners when they are first starting to learn Python.\n",
    "\n",
    "For this lesson we will construct our knowledge of OOP in Python by building on the following topics:\n",
    "\n",
    "Objects\n",
    "Using the class keyword\n",
    "\n",
    "Creating class attributes\n",
    "\n",
    "Creating methods in a class\n",
    "\n",
    "Learning about Inheritance\n",
    "\n",
    "Learning about Polymorphism\n",
    "\n",
    "Learning about Special Methods for classes\n",
    "\n",
    "Lets start the lesson by remembering about the Basic Python Objects. For example:"
   ]
  },
  {
   "cell_type": "code",
   "execution_count": 90,
   "id": "e1e61cd1",
   "metadata": {},
   "outputs": [
    {
     "name": "stdout",
     "output_type": "stream",
     "text": [
      "name is nihar\n"
     ]
    }
   ],
   "source": [
    "student1=['nihar',27,'Data Scientist']\n",
    "student2=['Neha',20,'Developer']\n",
    "student3=['Kanika',38,'consultant']\n",
    "print('name is',student1[0])"
   ]
  },
  {
   "cell_type": "code",
   "execution_count": 91,
   "id": "2983c28e",
   "metadata": {},
   "outputs": [
    {
     "name": "stdout",
     "output_type": "stream",
     "text": [
      "name is: nihar  age is ; 27\n",
      "nihar\n",
      "27\n"
     ]
    }
   ],
   "source": [
    "# without oops:\n",
    "def createperson(student):\n",
    "    global name,age,role\n",
    "    name=student[0]\n",
    "    age=student[1]\n",
    "    role=student[2]\n",
    "    print('name is:',name,' age is ;',age)\n",
    "createperson(student1)\n",
    "print(name)\n",
    "print(age)"
   ]
  },
  {
   "cell_type": "code",
   "execution_count": 94,
   "id": "bc94ff73",
   "metadata": {},
   "outputs": [
    {
     "ename": "TypeError",
     "evalue": "createperson() missing 1 required positional argument: 'person'",
     "output_type": "error",
     "traceback": [
      "\u001b[1;31m---------------------------------------------------------------------------\u001b[0m",
      "\u001b[1;31mTypeError\u001b[0m                                 Traceback (most recent call last)",
      "\u001b[1;32m~\\AppData\\Local\\Temp/ipykernel_7624/1672492040.py\u001b[0m in \u001b[0;36m<module>\u001b[1;34m\u001b[0m\n\u001b[0;32m     16\u001b[0m \u001b[0mneha\u001b[0m\u001b[1;33m=\u001b[0m\u001b[0mPerson\u001b[0m\u001b[1;33m(\u001b[0m\u001b[1;33m)\u001b[0m\u001b[1;33m\u001b[0m\u001b[1;33m\u001b[0m\u001b[0m\n\u001b[0;32m     17\u001b[0m \u001b[0mkanika\u001b[0m\u001b[1;33m=\u001b[0m\u001b[0mPerson\u001b[0m\u001b[1;33m(\u001b[0m\u001b[1;33m)\u001b[0m\u001b[1;33m\u001b[0m\u001b[1;33m\u001b[0m\u001b[0m\n\u001b[1;32m---> 18\u001b[1;33m \u001b[0mmanasi\u001b[0m\u001b[1;33m.\u001b[0m\u001b[0mcreateperson\u001b[0m\u001b[1;33m(\u001b[0m\u001b[1;33m)\u001b[0m\u001b[1;33m\u001b[0m\u001b[1;33m\u001b[0m\u001b[0m\n\u001b[0m\u001b[0;32m     19\u001b[0m \u001b[0mMansi\u001b[0m\u001b[1;33m.\u001b[0m\u001b[0mcreate_person\u001b[0m\u001b[1;33m(\u001b[0m\u001b[1;33m(\u001b[0m\u001b[1;34m'Mansi'\u001b[0m\u001b[1;33m,\u001b[0m\u001b[1;36m28\u001b[0m\u001b[1;33m,\u001b[0m\u001b[1;34m'Data Scientist'\u001b[0m\u001b[1;33m)\u001b[0m\u001b[1;33m)\u001b[0m\u001b[1;33m\u001b[0m\u001b[1;33m\u001b[0m\u001b[0m\n\u001b[0;32m     20\u001b[0m \u001b[0mMansi\u001b[0m\u001b[1;33m.\u001b[0m\u001b[0mdisplay_person\u001b[0m\u001b[1;33m(\u001b[0m\u001b[1;33m)\u001b[0m\u001b[1;33m\u001b[0m\u001b[1;33m\u001b[0m\u001b[0m\n",
      "\u001b[1;31mTypeError\u001b[0m: createperson() missing 1 required positional argument: 'person'"
     ]
    }
   ],
   "source": [
    "# with OOPS\n",
    "count=0\n",
    "class Person:\n",
    "    def createperson(self,person):\n",
    "        self.name=person[0]\n",
    "        self.age=person[1]\n",
    "        self.role=person[2]\n",
    "        count=count+1\n",
    "        print(count,'The Person ',self.name,'has been created')\n",
    "        \n",
    "    \n",
    "    def display_person(self):\n",
    "        print('The name of person is : ' + self.name + ' The age of person is : ' + str(self.age) + ' The profession of person is : ' + self.role) \n",
    "    \n",
    "manasi =Person()\n",
    "neha=Person()\n",
    "kanika=Person()\n",
    "manasi.createperson()\n",
    "Mansi.create_person(('Mansi',28,'Data Scientist'))\n",
    "Mansi.display_person()\n",
    "Neha.create_person(('Neha',20,'Developer'))\n",
    "Kanika.create_person(('Kanika',38,'consultant'))\n",
    "Neha.display_person()\n",
    "Kanika.display_person()\n",
    "print(Neha.name)\n",
    "\n",
    "print(dir(Mansi))\n",
    "\n",
    "print(Neha.name)"
   ]
  },
  {
   "cell_type": "code",
   "execution_count": 95,
   "id": "810f7780",
   "metadata": {},
   "outputs": [
    {
     "name": "stdout",
     "output_type": "stream",
     "text": [
      "The person: Mansi has been created\n",
      "The name of person is : Mansi The age of person is : 28 The profession of person is : Data Scientist\n",
      "The person: Neha has been created\n",
      "The person: Kanika has been created\n",
      "The name of person is : Neha The age of person is : 20 The profession of person is : Developer\n",
      "The name of person is : Kanika The age of person is : 38 The profession of person is : consultant\n",
      "Neha\n",
      "['__class__', '__delattr__', '__dict__', '__dir__', '__doc__', '__eq__', '__format__', '__ge__', '__getattribute__', '__gt__', '__hash__', '__init__', '__init_subclass__', '__le__', '__lt__', '__module__', '__ne__', '__new__', '__reduce__', '__reduce_ex__', '__repr__', '__setattr__', '__sizeof__', '__str__', '__subclasshook__', '__weakref__', 'age', 'create_person', 'display_person', 'name', 'role']\n",
      "Neha\n"
     ]
    }
   ],
   "source": [
    "#With OOPS\n",
    "\n",
    "class Person:\n",
    "\n",
    "    def create_person(self,person):\n",
    " \n",
    "        self.name=person[0]\n",
    "        self.age=person[1]\n",
    "        self.role = person[2]\n",
    "        print('The person: ' + self.name + ' has been created' ) \n",
    "\n",
    "    def display_person(self):\n",
    "        print('The name of person is : ' + self.name + ' The age of person is : ' + str(self.age) + ' The profession of person is : ' + self.role) \n",
    "\n",
    "Mansi = Person()\n",
    "Neha = Person()\n",
    "Kanika = Person()\n",
    "\n",
    "Mansi.create_person(('Mansi',28,'Data Scientist'))\n",
    "Mansi.display_person()\n",
    "Neha.create_person(('Neha',20,'Developer'))\n",
    "Kanika.create_person(('Kanika',38,'consultant'))\n",
    "Neha.display_person()\n",
    "Kanika.display_person()\n",
    "print(Neha.name)\n",
    "\n",
    "print(dir(Mansi))\n",
    "\n",
    "print(Neha.name)\n"
   ]
  },
  {
   "cell_type": "code",
   "execution_count": 97,
   "id": "cf822cca",
   "metadata": {},
   "outputs": [
    {
     "name": "stdout",
     "output_type": "stream",
     "text": [
      "<class 'int'>\n",
      "<class 'str'>\n",
      "<class 'list'>\n",
      "<class 'dict'>\n",
      "<class 'tuple'>\n"
     ]
    }
   ],
   "source": [
    "print(type(1))\n",
    "print(type('str'))\n",
    "print(type([]))\n",
    "print(type({}))\n",
    "print(type(()))"
   ]
  },
  {
   "cell_type": "code",
   "execution_count": 98,
   "id": "d7051476",
   "metadata": {},
   "outputs": [
    {
     "name": "stdout",
     "output_type": "stream",
     "text": [
      "<class '__main__.Sample'>\n"
     ]
    }
   ],
   "source": [
    "class Sample:\n",
    "    pass\n",
    "x = Sample()\n",
    "print(type(x))"
   ]
  },
  {
   "cell_type": "code",
   "execution_count": 107,
   "id": "661b2351",
   "metadata": {},
   "outputs": [
    {
     "name": "stdout",
     "output_type": "stream",
     "text": [
      "Dog object created and breed is  Lab\n"
     ]
    },
    {
     "data": {
      "text/plain": [
       "'Lab'"
      ]
     },
     "execution_count": 107,
     "metadata": {},
     "output_type": "execute_result"
    }
   ],
   "source": [
    "class Dog:\n",
    "    def __init__(self,breed):\n",
    "        self.breed=breed\n",
    "        print('Dog object created and breed is ',self.breed)\n",
    "sam=Dog('Lab')\n",
    "sam.breed\n"
   ]
  },
  {
   "cell_type": "code",
   "execution_count": 105,
   "id": "69629fb9",
   "metadata": {},
   "outputs": [
    {
     "name": "stdout",
     "output_type": "stream",
     "text": [
      "63\n"
     ]
    }
   ],
   "source": [
    "class RectangleArea:\n",
    "    def __init__(self,l,w):\n",
    "        self.l=l\n",
    "        self.w=w\n",
    "    def Area(self):\n",
    "        Area=self.l*self.w\n",
    "        print(Area)\n",
    "rect=RectangleArea(9,7)\n",
    "rect.Area()"
   ]
  },
  {
   "cell_type": "code",
   "execution_count": 111,
   "id": "5eee84c5",
   "metadata": {},
   "outputs": [
    {
     "name": "stdout",
     "output_type": "stream",
     "text": [
      "radius is: 2\n",
      "area is 12.56\n",
      "Circumference is  12.56\n"
     ]
    }
   ],
   "source": [
    "class Circle:\n",
    "    pi=3.14\n",
    "    \n",
    "    def __init__(self,radius=1):\n",
    "        self.radius=radius\n",
    "        self.area=Circle.pi*(radius**2)\n",
    "    def setRadius(self,new_radius):\n",
    "        self.radius= new_radius\n",
    "        self.area=new_radius*new_radius*self.pi\n",
    "    def getCircumference(self):\n",
    "        return self.radius*self.pi*2\n",
    "c=Circle(2)\n",
    "print('radius is:',c.radius)\n",
    "print('area is',c.area)\n",
    "print('Circumference is ',c.getCircumference())\n",
    "        \n",
    "        "
   ]
  },
  {
   "cell_type": "markdown",
   "id": "712a4392",
   "metadata": {},
   "source": [
    "### Inheritance"
   ]
  },
  {
   "cell_type": "code",
   "execution_count": 119,
   "id": "163c0a05",
   "metadata": {},
   "outputs": [
    {
     "name": "stdout",
     "output_type": "stream",
     "text": [
      "Animal Created\n",
      "Dog Created\n",
      "Eating\n",
      "Animal\n",
      "Dog\n",
      "Barking\n"
     ]
    }
   ],
   "source": [
    "class Animal:\n",
    "    def __init__(self):\n",
    "        print ('Animal Created')\n",
    "    def whoAm(self):\n",
    "        print('Animal')\n",
    "    def eat(self):\n",
    "        print('Eating')\n",
    "class Dog(Animal):\n",
    "    def __init__(self):\n",
    "        Animal.__init__(self)\n",
    "        print ('Dog Created')\n",
    "    def whoAmI(self):\n",
    "        print('Dog')\n",
    "    def bark(self):\n",
    "        print('Barking')\n",
    "dog1=Dog()\n",
    "dog1.eat()\n",
    "dog1.whoAm()\n",
    "dog1.whoAmI()\n",
    "dog1.bark()"
   ]
  },
  {
   "cell_type": "markdown",
   "id": "cb888d23",
   "metadata": {},
   "source": [
    "##  Polymerphism"
   ]
  },
  {
   "cell_type": "code",
   "execution_count": 120,
   "id": "cb103a7f",
   "metadata": {},
   "outputs": [
    {
     "name": "stdout",
     "output_type": "stream",
     "text": [
      "Nikosays woof!!\n",
      "Felixsays meoww!!!\n"
     ]
    }
   ],
   "source": [
    "class Dog:\n",
    "    def __init__(self,name):\n",
    "        self.name=name\n",
    "    def speak(self):\n",
    "        return self.name + 'says woof!!'\n",
    "class Cat:\n",
    "    def __init__(self,name):\n",
    "        self.name=name\n",
    "    def speak(self):\n",
    "        return self.name + 'says meoww!!!'\n",
    "niko = Dog('Niko')\n",
    "felix= Cat('Felix')\n",
    "print(niko.speak())\n",
    "print(felix.speak())"
   ]
  },
  {
   "cell_type": "code",
   "execution_count": 122,
   "id": "5ba82687",
   "metadata": {},
   "outputs": [
    {
     "ename": "NameError",
     "evalue": "name 'NotImpementedError' is not defined",
     "output_type": "error",
     "traceback": [
      "\u001b[1;31m---------------------------------------------------------------------------\u001b[0m",
      "\u001b[1;31mNameError\u001b[0m                                 Traceback (most recent call last)",
      "\u001b[1;32m~\\AppData\\Local\\Temp/ipykernel_7624/377910138.py\u001b[0m in \u001b[0;36m<module>\u001b[1;34m\u001b[0m\n\u001b[0;32m     15\u001b[0m \u001b[0mniko\u001b[0m \u001b[1;33m=\u001b[0m \u001b[0mDog\u001b[0m\u001b[1;33m(\u001b[0m\u001b[1;34m'Niko'\u001b[0m\u001b[1;33m)\u001b[0m\u001b[1;33m\u001b[0m\u001b[1;33m\u001b[0m\u001b[0m\n\u001b[0;32m     16\u001b[0m \u001b[0mfelix\u001b[0m\u001b[1;33m=\u001b[0m \u001b[0mCat\u001b[0m\u001b[1;33m(\u001b[0m\u001b[1;34m'Felix'\u001b[0m\u001b[1;33m)\u001b[0m\u001b[1;33m\u001b[0m\u001b[1;33m\u001b[0m\u001b[0m\n\u001b[1;32m---> 17\u001b[1;33m \u001b[0mprint\u001b[0m\u001b[1;33m(\u001b[0m\u001b[0mniko\u001b[0m\u001b[1;33m.\u001b[0m\u001b[0mspeak\u001b[0m\u001b[1;33m(\u001b[0m\u001b[1;33m)\u001b[0m\u001b[1;33m)\u001b[0m\u001b[1;33m\u001b[0m\u001b[1;33m\u001b[0m\u001b[0m\n\u001b[0m\u001b[0;32m     18\u001b[0m \u001b[0mprint\u001b[0m\u001b[1;33m(\u001b[0m\u001b[0mfelix\u001b[0m\u001b[1;33m.\u001b[0m\u001b[0mspeak\u001b[0m\u001b[1;33m(\u001b[0m\u001b[1;33m)\u001b[0m\u001b[1;33m)\u001b[0m\u001b[1;33m\u001b[0m\u001b[1;33m\u001b[0m\u001b[0m\n",
      "\u001b[1;32m~\\AppData\\Local\\Temp/ipykernel_7624/377910138.py\u001b[0m in \u001b[0;36mspeak\u001b[1;34m(self)\u001b[0m\n\u001b[0;32m      3\u001b[0m         \u001b[0mself\u001b[0m\u001b[1;33m.\u001b[0m\u001b[0mname\u001b[0m\u001b[1;33m=\u001b[0m\u001b[0mname\u001b[0m\u001b[1;33m\u001b[0m\u001b[1;33m\u001b[0m\u001b[0m\n\u001b[0;32m      4\u001b[0m     \u001b[1;32mdef\u001b[0m \u001b[0mspeak\u001b[0m\u001b[1;33m(\u001b[0m\u001b[0mself\u001b[0m\u001b[1;33m)\u001b[0m\u001b[1;33m:\u001b[0m\u001b[1;33m\u001b[0m\u001b[1;33m\u001b[0m\u001b[0m\n\u001b[1;32m----> 5\u001b[1;33m         \u001b[1;32mraise\u001b[0m \u001b[0mNotImpementedError\u001b[0m\u001b[1;33m(\u001b[0m\u001b[1;34m'Subclass must implement abstract method'\u001b[0m\u001b[1;33m)\u001b[0m\u001b[1;33m\u001b[0m\u001b[1;33m\u001b[0m\u001b[0m\n\u001b[0m\u001b[0;32m      6\u001b[0m \u001b[1;32mclass\u001b[0m \u001b[0mDog\u001b[0m\u001b[1;33m(\u001b[0m\u001b[0mAnimal\u001b[0m\u001b[1;33m)\u001b[0m\u001b[1;33m:\u001b[0m\u001b[1;33m\u001b[0m\u001b[1;33m\u001b[0m\u001b[0m\n\u001b[0;32m      7\u001b[0m     \u001b[1;32mdef\u001b[0m \u001b[0m__init__\u001b[0m\u001b[1;33m(\u001b[0m\u001b[0mself\u001b[0m\u001b[1;33m,\u001b[0m\u001b[0mname\u001b[0m\u001b[1;33m)\u001b[0m\u001b[1;33m:\u001b[0m\u001b[1;33m\u001b[0m\u001b[1;33m\u001b[0m\u001b[0m\n",
      "\u001b[1;31mNameError\u001b[0m: name 'NotImpementedError' is not defined"
     ]
    }
   ],
   "source": [
    "class Animal:\n",
    "    def __init__(self,name):\n",
    "        self.name=name\n",
    "    def speak(self):\n",
    "        raise NotImpementedError('Subclass must implement abstract method')\n",
    "class Dog(Animal):\n",
    "    def __init__(self,name):\n",
    "        self.name=name\n",
    "    #\n",
    "class Cat(Animal):\n",
    "    def __init__(self,name):\n",
    "        self.name=name\n",
    "    def speak(self):\n",
    "        return self.name + 'says meoww!!!'\n",
    "niko = Dog('Niko')\n",
    "felix= Cat('Felix')\n",
    "print(niko.speak())\n",
    "print(felix.speak())"
   ]
  },
  {
   "cell_type": "markdown",
   "id": "fe464d53",
   "metadata": {},
   "source": [
    "# Encapsulation"
   ]
  },
  {
   "cell_type": "code",
   "execution_count": 124,
   "id": "25194eaa",
   "metadata": {},
   "outputs": [
    {
     "name": "stdout",
     "output_type": "stream",
     "text": [
      "myname\n",
      "24\n"
     ]
    },
    {
     "ename": "AttributeError",
     "evalue": "'employee' object has no attribute '__salary'",
     "output_type": "error",
     "traceback": [
      "\u001b[1;31m---------------------------------------------------------------------------\u001b[0m",
      "\u001b[1;31mAttributeError\u001b[0m                            Traceback (most recent call last)",
      "\u001b[1;32m~\\AppData\\Local\\Temp/ipykernel_7624/391104964.py\u001b[0m in \u001b[0;36m<module>\u001b[1;34m\u001b[0m\n\u001b[0;32m      7\u001b[0m \u001b[0mprint\u001b[0m\u001b[1;33m(\u001b[0m\u001b[0mobject1\u001b[0m\u001b[1;33m.\u001b[0m\u001b[0mname\u001b[0m\u001b[1;33m)\u001b[0m\u001b[1;33m\u001b[0m\u001b[1;33m\u001b[0m\u001b[0m\n\u001b[0;32m      8\u001b[0m \u001b[0mprint\u001b[0m\u001b[1;33m(\u001b[0m\u001b[0mobject1\u001b[0m\u001b[1;33m.\u001b[0m\u001b[0m_age\u001b[0m\u001b[1;33m)\u001b[0m\u001b[1;33m\u001b[0m\u001b[1;33m\u001b[0m\u001b[0m\n\u001b[1;32m----> 9\u001b[1;33m \u001b[0mprint\u001b[0m\u001b[1;33m(\u001b[0m\u001b[0mobject1\u001b[0m\u001b[1;33m.\u001b[0m\u001b[0m__salary\u001b[0m\u001b[1;33m)\u001b[0m\u001b[1;33m\u001b[0m\u001b[1;33m\u001b[0m\u001b[0m\n\u001b[0m",
      "\u001b[1;31mAttributeError\u001b[0m: 'employee' object has no attribute '__salary'"
     ]
    }
   ],
   "source": [
    "class employee(object): \n",
    "    def __init__(self):\n",
    "        self.name = 'myname'\n",
    "        self._age = 24  \n",
    "        self.__salary = 12340 \n",
    "    def \n",
    "object1 = employee() \n",
    "print(object1.name) \n",
    "print(object1._age) \n",
    "print(object1.__salary)"
   ]
  },
  {
   "cell_type": "code",
   "execution_count": 128,
   "id": "55670768",
   "metadata": {},
   "outputs": [
    {
     "name": "stdout",
     "output_type": "stream",
     "text": [
      "400\n",
      "Red\n"
     ]
    }
   ],
   "source": [
    "\n",
    "class car:\n",
    "    def __init__(self,speed,color):\n",
    "        self.__speed=speed\n",
    "        self.__color=color\n",
    "        \n",
    "    def set_speed(self,value):\n",
    "        self.__speed =value\n",
    "        \n",
    "    def get_speed(self):\n",
    "        return self.__speed\n",
    "    \n",
    "    def set_color(self,value):\n",
    "        self.__color =value\n",
    "        \n",
    "    def get_color(self):\n",
    "        return self.__color\n",
    "    \n",
    "ford = car(200,'Red')\n",
    "chev= car(180,'blue')\n",
    "audi= car(190,'Black')\n",
    "\n",
    "ford.set_speed(400)\n",
    "ford.__speed =500\n",
    "print(ford.get_speed())\n",
    "print(ford.get_color())"
   ]
  },
  {
   "cell_type": "code",
   "execution_count": 129,
   "id": "cc6612fc",
   "metadata": {},
   "outputs": [
    {
     "name": "stdout",
     "output_type": "stream",
     "text": [
      "John 32\n",
      "John\n"
     ]
    }
   ],
   "source": [
    "class Person(object):\n",
    "\tdef assing_name_and_age(self,name,age):\n",
    "\t\tself.name=name\n",
    "\t\tself.__age=age\n",
    "\t\tself.__display()\n",
    "\t\treturn None\n",
    "\tdef __display(self):\n",
    "\t\tprint(self.name,self.__age)\n",
    "\t\treturn None\n",
    "\n",
    "per1=Person()\n",
    "per1.assing_name_and_age('John',32)\n",
    "\n",
    "#per1.__display()\n",
    "print(per1.name)\n",
    "#print(per1.__age)"
   ]
  },
  {
   "cell_type": "code",
   "execution_count": 131,
   "id": "0634243c",
   "metadata": {},
   "outputs": [
    {
     "name": "stdout",
     "output_type": "stream",
     "text": [
      "180\n",
      "12\n"
     ]
    }
   ],
   "source": [
    "class Vehicle:\n",
    "    def __init__(self,max_speed,milage):\n",
    "        self.max_speed=max_speed\n",
    "        self.milage=milage\n",
    "    def display(self):\n",
    "        print(self.max_speed,self.milage,sep='\\n')\n",
    "honda = Vehicle(180,12)\n",
    "honda.display()\n",
    "        "
   ]
  },
  {
   "cell_type": "code",
   "execution_count": 133,
   "id": "6b1cbe21",
   "metadata": {
    "scrolled": true
   },
   "outputs": [
    {
     "name": "stdout",
     "output_type": "stream",
     "text": [
      "Help on class Vehicle in module __main__:\n",
      "\n",
      "class Vehicle(builtins.object)\n",
      " |  Data descriptors defined here:\n",
      " |  \n",
      " |  __dict__\n",
      " |      dictionary for instance variables (if defined)\n",
      " |  \n",
      " |  __weakref__\n",
      " |      list of weak references to the object (if defined)\n",
      "\n"
     ]
    }
   ],
   "source": [
    "class Vehicle:\n",
    "    pass\n",
    "help(Vehicle)"
   ]
  },
  {
   "cell_type": "code",
   "execution_count": 139,
   "id": "3d9f1b8e",
   "metadata": {},
   "outputs": [
    {
     "name": "stdout",
     "output_type": "stream",
     "text": [
      "Vehicle Name : School Volvo   Speed : 180   Milage : 12\n"
     ]
    }
   ],
   "source": [
    "class Vehicle:\n",
    "    def __init__(self,name,max_speed,milage):\n",
    "        self.name=name\n",
    "        self.max_speed=max_speed\n",
    "        self.milage=milage\n",
    "class Bus(Vehicle):\n",
    "    pass\n",
    "bus=Bus('School Volvo',180,12)\n",
    "print('Vehicle Name :',bus.name,' ','Speed :',bus.max_speed,' ','Milage :', bus.milage)\n"
   ]
  },
  {
   "cell_type": "code",
   "execution_count": null,
   "id": "d20fe0fe",
   "metadata": {},
   "outputs": [],
   "source": []
  },
  {
   "cell_type": "code",
   "execution_count": null,
   "id": "129f29c5",
   "metadata": {},
   "outputs": [],
   "source": []
  },
  {
   "cell_type": "code",
   "execution_count": null,
   "id": "c4a25320",
   "metadata": {},
   "outputs": [],
   "source": []
  }
 ],
 "metadata": {
  "kernelspec": {
   "display_name": "Python 3 (ipykernel)",
   "language": "python",
   "name": "python3"
  },
  "language_info": {
   "codemirror_mode": {
    "name": "ipython",
    "version": 3
   },
   "file_extension": ".py",
   "mimetype": "text/x-python",
   "name": "python",
   "nbconvert_exporter": "python",
   "pygments_lexer": "ipython3",
   "version": "3.9.7"
  }
 },
 "nbformat": 4,
 "nbformat_minor": 5
}
