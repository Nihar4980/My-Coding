{
 "cells": [
  {
   "cell_type": "code",
   "execution_count": 17,
   "metadata": {},
   "outputs": [
    {
     "name": "stdout",
     "output_type": "stream",
     "text": [
      "{'brand': 'Ford', 'model': 'Mustang', 'year': '1964'}\n",
      "Mustang\n"
     ]
    }
   ],
   "source": [
    "car = {\"brand\": \"Ford\", \"model\":\"Mustang\",\"year\":\"1964\"}\n",
    "print(car)\n",
    "print(car[\"model\"])"
   ]
  },
  {
   "cell_type": "code",
   "execution_count": 13,
   "metadata": {},
   "outputs": [
    {
     "name": "stdout",
     "output_type": "stream",
     "text": [
      "dict_keys(['brand', 'model', 'year'])\n"
     ]
    }
   ],
   "source": [
    "print(car.keys())"
   ]
  },
  {
   "cell_type": "code",
   "execution_count": 16,
   "metadata": {},
   "outputs": [
    {
     "name": "stdout",
     "output_type": "stream",
     "text": [
      "{'brand': 'Ford', 'model': 'Mustang', 'year': '2020'}\n"
     ]
    }
   ],
   "source": [
    "car[\"year\"] = \"2020\"\n",
    "print(car)"
   ]
  },
  {
   "cell_type": "code",
   "execution_count": 19,
   "metadata": {},
   "outputs": [
    {
     "name": "stdout",
     "output_type": "stream",
     "text": [
      "{'brand': 'Ford', 'model': 'Mustang', 'year': '1964', 'colour': 'red'}\n"
     ]
    }
   ],
   "source": [
    "car.update({\"colour\":\"red\"})\n",
    "print(car)"
   ]
  },
  {
   "cell_type": "code",
   "execution_count": 57,
   "metadata": {},
   "outputs": [
    {
     "name": "stdout",
     "output_type": "stream",
     "text": [
      "{'gold': 500, 'pouch': ['flint', 'twine', 'gemstone'], 'backpack': ['xylophone', 'dagger', 'bedroll', 'bread', 'loaf']}\n"
     ]
    }
   ],
   "source": [
    "inventory = {'gold' : 500, 'pouch' : ['flint', 'twine', 'gemstone'],\n",
    "'backpack' : ['xylophone','dagger', 'bedroll', 'bread', 'loaf']}\n",
    "print(inventory)"
   ]
  },
  {
   "cell_type": "code",
   "execution_count": 58,
   "metadata": {},
   "outputs": [
    {
     "name": "stdout",
     "output_type": "stream",
     "text": [
      "{'gold': 500, 'pouch': ['flint', 'twine', 'gemstone'], 'backpack': ['xylophone', 'dagger', 'bedroll', 'bread', 'loaf'], 'pocket': ['seashell', 'strange', 'berry', 'lint']}\n"
     ]
    }
   ],
   "source": [
    "inventory['pocket']= 'seashell strange berry lint'.split()\n",
    "print(inventory)"
   ]
  },
  {
   "cell_type": "code",
   "execution_count": 59,
   "metadata": {},
   "outputs": [
    {
     "name": "stdout",
     "output_type": "stream",
     "text": [
      "{'gold': 500, 'pouch': ['flint', 'twine', 'gemstone'], 'backpack': ['bedroll', 'bread', 'dagger', 'loaf', 'xylophone'], 'pocket': ['seashell', 'strange', 'berry', 'lint']}\n"
     ]
    }
   ],
   "source": [
    "inventory['backpack'].sort()\n",
    "print(inventory)"
   ]
  },
  {
   "cell_type": "code",
   "execution_count": 60,
   "metadata": {},
   "outputs": [
    {
     "name": "stdout",
     "output_type": "stream",
     "text": [
      "{'gold': 500, 'pouch': ['flint', 'twine', 'gemstone'], 'backpack': ['bedroll', 'bread', 'loaf', 'xylophone'], 'pocket': ['seashell', 'strange', 'berry', 'lint']}\n"
     ]
    }
   ],
   "source": [
    "inventory['backpack'].remove('dagger')\n",
    "print(inventory)"
   ]
  },
  {
   "cell_type": "code",
   "execution_count": 61,
   "metadata": {},
   "outputs": [
    {
     "name": "stdout",
     "output_type": "stream",
     "text": [
      "{'gold': 550, 'pouch': ['flint', 'twine', 'gemstone'], 'backpack': ['bedroll', 'bread', 'loaf', 'xylophone'], 'pocket': ['seashell', 'strange', 'berry', 'lint']}\n"
     ]
    }
   ],
   "source": [
    "inventory['gold'] += 50\n",
    "print(inventory)"
   ]
  },
  {
   "cell_type": "markdown",
   "metadata": {},
   "source": [
    "#Write a Python script to concatenate three dictionaries to create a new one. Make dictionaries yourself"
   ]
  },
  {
   "cell_type": "code",
   "execution_count": 63,
   "metadata": {},
   "outputs": [
    {
     "name": "stdout",
     "output_type": "stream",
     "text": [
      "{1: [1, 2, 4, 6], 7: 9, 'tel': 'hyd', 'AP': 'Amar', 6: (6, 7, 9, 0)}\n"
     ]
    }
   ],
   "source": [
    "dic1={1:3, 7:9}\n",
    "dic2={'tel':'hyd', 'AP':'Amar'}\n",
    "dic3={1:[1,2,4,6],6:(6,7,9,0)}\n",
    "dic4 = {}\n",
    "for d in (dic1, dic2, dic3): dic4.update(d)\n",
    "print(dic4)"
   ]
  },
  {
   "cell_type": "code",
   "execution_count": 68,
   "metadata": {},
   "outputs": [
    {
     "name": "stdout",
     "output_type": "stream",
     "text": [
      "Sum : 2287\n"
     ]
    }
   ],
   "source": [
    "dict = {'a': 456, 'b':699, 'c':1132}\n",
    "sum = 0\n",
    "for i in dict.values():\n",
    "    sum += i\n",
    "print(\"Sum :\", sum)"
   ]
  },
  {
   "cell_type": "code",
   "execution_count": 1,
   "metadata": {},
   "outputs": [
    {
     "name": "stdout",
     "output_type": "stream",
     "text": [
      "The summation of all items in a dictionary is 2953\n"
     ]
    }
   ],
   "source": [
    "dict = {111: 456, 222:699, 333:1132}\n",
    "sum = 0\n",
    "add=0\n",
    "for i in dict.values():\n",
    "    sum += i\n",
    "for j in dict.keys():\n",
    "    add += j\n",
    "sum_dic = add + sum\n",
    "print(\"The summation of all items in a dictionary is {}\".format(sum_dic))"
   ]
  },
  {
   "cell_type": "code",
   "execution_count": 8,
   "metadata": {},
   "outputs": [
    {
     "name": "stdout",
     "output_type": "stream",
     "text": [
      "Present,  value = 200\n",
      "Present,  value = 100\n"
     ]
    }
   ],
   "source": [
    "def checkKey(d,i):\n",
    "      \n",
    "    if i in d:\n",
    "        print(\"Present, \", end =\" \")\n",
    "        print(\"value =\", d[i])\n",
    "    else:\n",
    "        print(\"Not present\")\n",
    "  \n",
    "d = {'foo': 100, 'bar':200, 'baz':300}\n",
    "  \n",
    "i = 'bar'\n",
    "checkKey(d,i)\n",
    "  \n",
    "i = 'foo'\n",
    "checkKey(d,i)"
   ]
  },
  {
   "cell_type": "code",
   "execution_count": 11,
   "metadata": {},
   "outputs": [
    {
     "name": "stdout",
     "output_type": "stream",
     "text": [
      "{'foo': 100, 'baz': 300}\n"
     ]
    }
   ],
   "source": [
    "for key in list(d.keys()):\n",
    "    if d[key] == 200:\n",
    "        del d[key]\n",
    "print(d)"
   ]
  },
  {
   "cell_type": "code",
   "execution_count": 28,
   "metadata": {},
   "outputs": [
    {
     "name": "stdout",
     "output_type": "stream",
     "text": [
      "False\n",
      "True\n"
     ]
    }
   ],
   "source": [
    "d = {'foo': 100, 'bar':200, 'baz':300}\n",
    "print(d.keys() >= {\"fool\", \"barr\"})\n",
    "print(d.keys() >= {\"bar\", \"baz\"})\n"
   ]
  }
 ],
 "metadata": {
  "kernelspec": {
   "display_name": "Python 3",
   "language": "python",
   "name": "python3"
  },
  "language_info": {
   "codemirror_mode": {
    "name": "ipython",
    "version": 3
   },
   "file_extension": ".py",
   "mimetype": "text/x-python",
   "name": "python",
   "nbconvert_exporter": "python",
   "pygments_lexer": "ipython3",
   "version": "3.8.5"
  }
 },
 "nbformat": 4,
 "nbformat_minor": 4
}
