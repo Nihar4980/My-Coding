{
 "cells": [
  {
   "cell_type": "markdown",
   "metadata": {},
   "source": [
    " 1. Create a 5X2 integer array from a range between 100 to\n",
    "200 such that the difference between each element is 10."
   ]
  },
  {
   "cell_type": "code",
   "execution_count": 1,
   "metadata": {},
   "outputs": [],
   "source": [
    "import numpy as np"
   ]
  },
  {
   "cell_type": "code",
   "execution_count": 3,
   "metadata": {},
   "outputs": [
    {
     "name": "stdout",
     "output_type": "stream",
     "text": [
      " Creating 5X2 array using numpy.arange :\n",
      "[[100 110]\n",
      " [120 130]\n",
      " [140 150]\n",
      " [160 170]\n",
      " [180 190]]\n"
     ]
    }
   ],
   "source": [
    "print(\" Creating 5X2 array using numpy.arange :\")\n",
    "Numpy_Array = np.arange(100, 200, 10)\n",
    "Array = Numpy_Array.reshape(5,2)\n",
    "print (Array)"
   ]
  },
  {
   "cell_type": "markdown",
   "metadata": {},
   "source": [
    "2. Write a NumPy program to create a 3x3x3 array filled\n",
    "with arbitrary values and find the minimum and maximum\n",
    "values."
   ]
  },
  {
   "cell_type": "code",
   "execution_count": 14,
   "metadata": {},
   "outputs": [
    {
     "name": "stdout",
     "output_type": "stream",
     "text": [
      "The Matrix is  [[[0.63196319 0.29867489 0.37672148]\n",
      "  [0.76343659 0.90935696 0.20572153]\n",
      "  [0.73214664 0.5334567  0.7876562 ]]\n",
      "\n",
      " [[0.37891451 0.53806561 0.29724818]\n",
      "  [0.50036723 0.49508641 0.99508615]\n",
      "  [0.24406656 0.65113033 0.92508451]]\n",
      "\n",
      " [[0.43751415 0.96856124 0.62797343]\n",
      "  [0.21430192 0.32392507 0.63606622]\n",
      "  [0.71463734 0.12021505 0.16764499]]]\n",
      "The minimum value is: \n",
      "0.12021504699105179\n",
      "The Maximum value is:\n",
      "0.9950861538263261\n"
     ]
    }
   ],
   "source": [
    "array = np.random.random((3, 3, 3))\n",
    "print('The Matrix is ',array)\n",
    "print('The minimum value is: ',np.min(array),'The Maximum value is:',np.max(array),sep='\\n')"
   ]
  },
  {
   "cell_type": "markdown",
   "metadata": {},
   "source": [
    "3. Write a NumPy program to create a 5x5 zero matrix\n",
    "with elements on the main diagonal equal to 1, 2, 3, 4,\n",
    "5."
   ]
  },
  {
   "cell_type": "code",
   "execution_count": 15,
   "metadata": {},
   "outputs": [
    {
     "name": "stdout",
     "output_type": "stream",
     "text": [
      "[[0. 0. 0. 0. 0.]\n",
      " [0. 0. 0. 0. 0.]\n",
      " [0. 0. 0. 0. 0.]\n",
      " [0. 0. 0. 0. 0.]\n",
      " [0. 0. 0. 0. 0.]]\n"
     ]
    }
   ],
   "source": [
    "zero_array= np.zeros((5,5))\n",
    "print(zero_array)"
   ]
  },
  {
   "cell_type": "code",
   "execution_count": 16,
   "metadata": {},
   "outputs": [
    {
     "name": "stdout",
     "output_type": "stream",
     "text": [
      "[[1 0 0 0 0]\n",
      " [0 2 0 0 0]\n",
      " [0 0 3 0 0]\n",
      " [0 0 0 4 0]\n",
      " [0 0 0 0 5]]\n"
     ]
    }
   ],
   "source": [
    "x = np.diag([1, 2, 3, 4, 5])\n",
    "print(x)"
   ]
  },
  {
   "cell_type": "markdown",
   "metadata": {},
   "source": [
    "4. Given an array\n",
    "arr = np.array([0, 1, 2, 3, 4, 5, 6, 7, 8, 9 i)\n",
    "Extract all odd numbers from arr\n",
    "ii) Replace all odd numbers in arr with -1"
   ]
  },
  {
   "cell_type": "code",
   "execution_count": 31,
   "metadata": {},
   "outputs": [
    {
     "name": "stdout",
     "output_type": "stream",
     "text": [
      "The array is : [0 1 2 3 4 5 6 7 8 9]\n",
      "Odd number are:\n",
      "1\n",
      "3\n",
      "5\n",
      "7\n",
      "9\n",
      "The final array is: [ 0 -1  2 -1  4 -1  6 -1  8 -1]\n"
     ]
    }
   ],
   "source": [
    "arr = np.array([0, 1, 2, 3, 4, 5, 6, 7, 8, 9 ])\n",
    "print('The array is :',arr)\n",
    "print(\"Odd number are:\")\n",
    "for i in arr: \n",
    "    if(i%2==1): \n",
    "        print(i)\n",
    "arr[(arr%2 == 1)]=-1\n",
    "print('The final array is:',arr)"
   ]
  },
  {
   "cell_type": "markdown",
   "metadata": {},
   "source": [
    "5.Write a NumPy program to create a 3x3 identity matrix,\n",
    "i.e. diagonal elements are 1,the rest are 0."
   ]
  },
  {
   "cell_type": "code",
   "execution_count": 32,
   "metadata": {},
   "outputs": [
    {
     "name": "stdout",
     "output_type": "stream",
     "text": [
      "[[1 0 0]\n",
      " [0 1 0]\n",
      " [0 0 1]]\n"
     ]
    }
   ],
   "source": [
    "x = np.diag([1, 1, 1])\n",
    "print(x)"
   ]
  },
  {
   "cell_type": "markdown",
   "metadata": {},
   "source": [
    "6. Write a NumPy program to convert an array to a float\n",
    "type."
   ]
  },
  {
   "cell_type": "code",
   "execution_count": 37,
   "metadata": {},
   "outputs": [
    {
     "name": "stdout",
     "output_type": "stream",
     "text": [
      " A Float Array: \n",
      " [[1. 2.]\n",
      " [3. 4.]\n",
      " [5. 6.]]\n",
      "<class 'numpy.ndarray'>\n"
     ]
    }
   ],
   "source": [
    "arr_fl = np.array([[1,2], [3,4], [5,6]] , dtype = np.float64)\n",
    "print(\" A Float Array: \\n\" , arr_fl)\n",
    "print(type(arr_fl))"
   ]
  },
  {
   "cell_type": "markdown",
   "metadata": {},
   "source": [
    "7. Write a NumPy program to generate five random\n",
    "numbers from the normal distribution."
   ]
  },
  {
   "cell_type": "code",
   "execution_count": 38,
   "metadata": {},
   "outputs": [
    {
     "name": "stdout",
     "output_type": "stream",
     "text": [
      "[ 1.26801067 -1.70247485 -0.80906967  2.42187745  0.97999357]\n"
     ]
    }
   ],
   "source": [
    "x = np.random.normal(size=5)\n",
    "print(x)"
   ]
  },
  {
   "cell_type": "markdown",
   "metadata": {},
   "source": [
    "8. Following is the input NumPy array delete column two\n",
    "and insert following new column in its place.\n",
    "sampleArray=numpy.array([[34,43,73],[82,22,12],[53,94\n",
    ", 66]]) newColumn = numpy.array([[10,10,10]])"
   ]
  },
  {
   "cell_type": "code",
   "execution_count": 48,
   "metadata": {},
   "outputs": [
    {
     "name": "stdout",
     "output_type": "stream",
     "text": [
      "Printing Original array\n",
      "[[34 43 73]\n",
      " [82 22 12]\n",
      " [53 94 66]]\n",
      "Array after deleting column 2 on axis 1\n",
      "[[34 73]\n",
      " [82 12]\n",
      " [53 66]]\n",
      "Array after inserting column 2 on axis 1\n",
      "[[34 10 73]\n",
      " [82 10 12]\n",
      " [53 10 66]]\n"
     ]
    }
   ],
   "source": [
    "print(\"Printing Original array\")\n",
    "sampleArray=np.array([[34,43,73],[82,22,12],[53,94 , 66]])\n",
    "print(sampleArray)\n",
    "\n",
    "print(\"Array after deleting column 2 on axis 1\")\n",
    "sampleArray = np.delete(sampleArray , 1, axis = 1) \n",
    "print(sampleArray)\n",
    "\n",
    "arr = np.array([[10,10,10]])\n",
    "\n",
    "print(\"Array after inserting column 2 on axis 1\")\n",
    "sampleArray = np.insert(sampleArray , 1, arr, axis = 1) \n",
    "print (sampleArray)"
   ]
  },
  {
   "cell_type": "markdown",
   "metadata": {},
   "source": [
    "9. Write a NumPy program to compute the multiplication\n",
    "of two given matrices."
   ]
  },
  {
   "cell_type": "code",
   "execution_count": 54,
   "metadata": {},
   "outputs": [
    {
     "name": "stdout",
     "output_type": "stream",
     "text": [
      "[[19 22]\n",
      " [43 50]]\n"
     ]
    }
   ],
   "source": [
    "p= np.array(([1,2],[3,4]))\n",
    "q= np.array(([5,6],[7,8]))\n",
    "result=np.dot(p,q)\n",
    "print(result)"
   ]
  },
  {
   "cell_type": "markdown",
   "metadata": {},
   "source": [
    "10. Write a NumPy program to create a random vector of\n",
    "size 10 and sort it."
   ]
  },
  {
   "cell_type": "code",
   "execution_count": 55,
   "metadata": {},
   "outputs": [
    {
     "name": "stdout",
     "output_type": "stream",
     "text": [
      "Original array:\n",
      "[0.56685652 0.06690938 0.99121957 0.89088564 0.73789184 0.42843598\n",
      " 0.97188893 0.76881076 0.8521632  0.0075324 ]\n",
      "Sorted array:\n",
      "[0.0075324  0.06690938 0.42843598 0.56685652 0.73789184 0.76881076\n",
      " 0.8521632  0.89088564 0.97188893 0.99121957]\n"
     ]
    }
   ],
   "source": [
    "x = np.random.random(10)\n",
    "print(\"Original array:\")\n",
    "print(x)\n",
    "x.sort()\n",
    "print(\"Sorted array:\")\n",
    "print(x)"
   ]
  },
  {
   "cell_type": "markdown",
   "metadata": {},
   "source": [
    "11. Write a NumPy program to compute the covariance\n",
    "matrix of two arrays."
   ]
  },
  {
   "cell_type": "code",
   "execution_count": 56,
   "metadata": {},
   "outputs": [
    {
     "name": "stdout",
     "output_type": "stream",
     "text": [
      "Original array1:\n",
      "[0 1 2]\n",
      "Original array1:\n",
      "[2 1 0]\n",
      "Covariance matrix of the said arrays: [[ 1. -1.]\n",
      " [-1.  1.]]\n"
     ]
    }
   ],
   "source": [
    "x = np.array([0, 1, 2])\n",
    "y = np.array([2, 1, 0])\n",
    "print(\"Original array1:\")\n",
    "print(x)\n",
    "print(\"Original array1:\")\n",
    "print(y)\n",
    "print(\"Covariance matrix of the said arrays:\",np.cov(x, y))"
   ]
  },
  {
   "cell_type": "markdown",
   "metadata": {},
   "source": [
    "12.Create a 4X2 integer array and Prints its\n",
    ": i)The shape of an array.\n",
    "ii) Array dimensions.\n",
    "iii) The Length of each element of the array in bytes"
   ]
  },
  {
   "cell_type": "code",
   "execution_count": 60,
   "metadata": {},
   "outputs": [
    {
     "name": "stdout",
     "output_type": "stream",
     "text": [
      "Printing Array\n",
      "[[    0     0]\n",
      " [    0 16392]\n",
      " [    0     0]\n",
      " [    0 16392]]\n",
      "Printing numpy array Attributes\n",
      "i). Array Shape is:  (4, 2)\n",
      "ii). Array dimensions are  2\n",
      "iii). Length of each element of array in bytes is  2\n"
     ]
    }
   ],
   "source": [
    "firstArray = np.empty([4,2], dtype = np.uint16) \n",
    "print(\"Printing Array\")\n",
    "print(firstArray)\n",
    "\n",
    "print(\"Printing numpy array Attributes\")\n",
    "print(\"i). Array Shape is: \", firstArray.shape)\n",
    "print(\"ii). Array dimensions are \", firstArray.ndim)\n",
    "print(\"iii). Length of each element of array in bytes is \", firstArray.itemsize)"
   ]
  },
  {
   "cell_type": "code",
   "execution_count": null,
   "metadata": {},
   "outputs": [],
   "source": [
    "13. Write a NumPy program to concatenate element-wise\n",
    "two arrays of string."
   ]
  },
  {
   "cell_type": "code",
   "execution_count": 62,
   "metadata": {},
   "outputs": [
    {
     "name": "stdout",
     "output_type": "stream",
     "text": [
      "Array1:\n",
      "[[1 1 1]\n",
      " [1 1 1]\n",
      " [1 1 1]]\n",
      "Array2:\n",
      "[[1 1 1]\n",
      " [1 1 1]\n",
      " [1 1 1]]\n",
      "new array:\n",
      "[[2 2 2]\n",
      " [2 2 2]\n",
      " [2 2 2]]\n"
     ]
    }
   ],
   "source": [
    "x1 = np.array([[1,1,1],[1,1,1],[1,1,1]])\n",
    "x2 = np.array([[1,1,1],[1,1,1],[1,1,1]])\n",
    "print(\"Array1:\")\n",
    "print(x1)\n",
    "print(\"Array2:\")\n",
    "print(x2)\n",
    "new_array = np.add(x1, x2)\n",
    "print(\"new array:\")\n",
    "print(new_array)"
   ]
  },
  {
   "cell_type": "code",
   "execution_count": 64,
   "metadata": {},
   "outputs": [
    {
     "name": "stdout",
     "output_type": "stream",
     "text": [
      "[[2 2 2]\n",
      " [2 2 2]\n",
      " [2 2 2]]\n"
     ]
    }
   ],
   "source": [
    "print(np.add(x1,x1))"
   ]
  },
  {
   "cell_type": "markdown",
   "metadata": {},
   "source": [
    "14. Write a NumPy program to capitalize the first letter,\n",
    "lowercase, uppercase, swapcase, title-case of all the\n",
    "elements of a given array."
   ]
  },
  {
   "cell_type": "code",
   "execution_count": 66,
   "metadata": {},
   "outputs": [
    {
     "name": "stdout",
     "output_type": "stream",
     "text": [
      "Original Array:\n",
      "['nihar' 'ranjan' 'swain']\n",
      "\n",
      "Capitalized:  ['Nihar' 'Ranjan' 'Swain']\n",
      "Lowered:  ['nihar' 'ranjan' 'swain']\n",
      "Uppered:  ['NIHAR' 'RANJAN' 'SWAIN']\n",
      "Swapcased:  ['NIHAR' 'RANJAN' 'SWAIN']\n",
      "Titlecased:  ['Nihar' 'Ranjan' 'Swain']\n"
     ]
    }
   ],
   "source": [
    "x = np.array(['nihar','ranjan','swain'], dtype=np.str)\n",
    "print(\"Original Array:\")\n",
    "print(x)\n",
    "capitalized_case = np.char.capitalize(x)\n",
    "lowered_case = np.char.lower(x)\n",
    "uppered_case = np.char.upper(x)\n",
    "swapcased_case = np.char.swapcase(x)\n",
    "titlecased_case = np.char.title(x)\n",
    "print(\"\\nCapitalized: \", capitalized_case)\n",
    "print(\"Lowered: \", lowered_case)\n",
    "print(\"Uppered: \", uppered_case)\n",
    "print(\"Swapcased: \", swapcased_case)\n",
    "print(\"Titlecased: \", titlecased_case)"
   ]
  },
  {
   "cell_type": "markdown",
   "metadata": {},
   "source": [
    "15. Write a NumPy program to convert a given array into\n",
    "a list."
   ]
  },
  {
   "cell_type": "code",
   "execution_count": 67,
   "metadata": {},
   "outputs": [
    {
     "name": "stdout",
     "output_type": "stream",
     "text": [
      "Array:\n",
      "[ 1  2  4  5  6  7  8  9 20]\n",
      "<class 'numpy.ndarray'>\n",
      "List:\n",
      "[1, 2, 4, 5, 6, 7, 8, 9, 20]\n",
      "<class 'list'>\n"
     ]
    }
   ],
   "source": [
    "print(\"Array:\")\n",
    "arr = np.array([1, 2, 4, 5,6,7,8,9,20])  \n",
    "print(arr)\n",
    "print(type(arr))\n",
    "  \n",
    "\n",
    "lis = arr.tolist()\n",
    "  \n",
    "print(\"List:\")\n",
    "print(lis)\n",
    "print(type(lis))"
   ]
  },
  {
   "cell_type": "markdown",
   "metadata": {},
   "source": [
    "16. Write a NumPy program to compute the sum of all\n",
    "elements, sum of each column and sum of each row of a\n",
    "given array."
   ]
  },
  {
   "cell_type": "code",
   "execution_count": 72,
   "metadata": {},
   "outputs": [
    {
     "name": "stdout",
     "output_type": "stream",
     "text": [
      "Original array:\n",
      "[[0 1]\n",
      " [2 3]\n",
      " [4 5]\n",
      " [6 7]\n",
      " [8 9]]\n",
      "Sum of all elements:\n",
      "45\n",
      "Sum of each column:\n",
      "[20 25]\n",
      "Sum of each row:\n",
      "[ 1  5  9 13 17]\n"
     ]
    }
   ],
   "source": [
    "x = np.array(([0,1],[2,3],[4,5],[6,7],[8,9]))\n",
    "print(\"Original array:\")\n",
    "print(x)\n",
    "print(\"Sum of all elements:\")\n",
    "print(np.sum(x))\n",
    "print(\"Sum of each column:\")\n",
    "print(np.sum(x, axis=0))\n",
    "print(\"Sum of each row:\")\n",
    "print(np.sum(x, axis=1))"
   ]
  },
  {
   "cell_type": "markdown",
   "metadata": {},
   "source": [
    "17. Write a NumPy program to create a random 10x4\n",
    "array and extract the first five rows of the array and store\n",
    "them into a variable."
   ]
  },
  {
   "cell_type": "code",
   "execution_count": 73,
   "metadata": {},
   "outputs": [
    {
     "name": "stdout",
     "output_type": "stream",
     "text": [
      "Original array: \n",
      "[[0.20285783 0.4393715  0.35179073 0.05091552]\n",
      " [0.4168404  0.03684295 0.04611252 0.42442766]\n",
      " [0.53723033 0.17655349 0.79029307 0.64361057]\n",
      " [0.19074729 0.65580811 0.50023947 0.77430746]\n",
      " [0.84039129 0.9759608  0.82355079 0.16708599]\n",
      " [0.60789923 0.35086961 0.08876777 0.25654958]\n",
      " [0.13310395 0.73596379 0.73545142 0.77440593]\n",
      " [0.87621204 0.30925856 0.26778836 0.92480597]\n",
      " [0.75109648 0.11176462 0.09509894 0.83729713]\n",
      " [0.94592709 0.97452102 0.74947432 0.3374349 ]]\n",
      "First 5 rows of the above array:\n",
      "[[0.20285783 0.4393715  0.35179073 0.05091552]\n",
      " [0.4168404  0.03684295 0.04611252 0.42442766]\n",
      " [0.53723033 0.17655349 0.79029307 0.64361057]\n",
      " [0.19074729 0.65580811 0.50023947 0.77430746]\n",
      " [0.84039129 0.9759608  0.82355079 0.16708599]]\n"
     ]
    }
   ],
   "source": [
    "x = np.random.rand(10, 4)\n",
    "print(\"Original array: \")\n",
    "print(x)\n",
    "y= x[:5, :]\n",
    "print(\"First 5 rows of the above array:\")\n",
    "print(y)"
   ]
  },
  {
   "cell_type": "markdown",
   "metadata": {},
   "source": [
    "18. Write a NumPy program to get the unique elements ofa 1D and 2D array."
   ]
  },
  {
   "cell_type": "code",
   "execution_count": 74,
   "metadata": {},
   "outputs": [
    {
     "name": "stdout",
     "output_type": "stream",
     "text": [
      "[5 6 7 9]\n",
      "[1 2 3 4 5 6 7 8]\n"
     ]
    }
   ],
   "source": [
    "_1D = np.random.randint(10, size=6)\n",
    "_2D = np.random.randint(10, size=(3, 4)) \n",
    "rslt_1d = np.unique(_1D)\n",
    "rslt_2d = np.unique(_2D)\n",
    "print(rslt_1d,rslt_2d,sep='\\n')"
   ]
  },
  {
   "cell_type": "code",
   "execution_count": 77,
   "metadata": {},
   "outputs": [
    {
     "name": "stdout",
     "output_type": "stream",
     "text": [
      "[1 2 3 4]\n",
      "[1 2 3 4 5]\n"
     ]
    }
   ],
   "source": [
    "_1D = np.array([1,2,3,4,4,4,3,2])\n",
    "_2D = np.array([[1,2,3],[4,3,2],[1,2,5]])\n",
    "rslt_1d = np.unique(_1D)\n",
    "rslt_2d = np.unique(_2D)\n",
    "print(rslt_1d,rslt_2d,sep='\\n')"
   ]
  },
  {
   "cell_type": "markdown",
   "metadata": {},
   "source": [
    "19. Write a NumPy program to get the unique elements of\n",
    "an array.\n",
    "arr= [ -10 12.12 -0.2]"
   ]
  },
  {
   "cell_type": "code",
   "execution_count": 80,
   "metadata": {},
   "outputs": [
    {
     "name": "stdout",
     "output_type": "stream",
     "text": [
      "The Array is: [-10.    12.12  -0.2 ]\n",
      "Unique elements are: [-10.    -0.2   12.12]\n"
     ]
    }
   ],
   "source": [
    "arr=np.array([-10, 12.12, -0.2])\n",
    "print(\"The Array is:\",arr)\n",
    "print(\"Unique elements are:\",np.unique(arr))"
   ]
  },
  {
   "cell_type": "markdown",
   "metadata": {},
   "source": [
    "20. Write a NumPy program to save a given array to a text\n",
    "file and load it. You have to save and load files using\n",
    "numpy library ."
   ]
  },
  {
   "cell_type": "code",
   "execution_count": 86,
   "metadata": {},
   "outputs": [
    {
     "name": "stdout",
     "output_type": "stream",
     "text": [
      "Array: [1 2 3 4 5]\n",
      "Content in text1.txt: [1 2 3 4 5]\n"
     ]
    }
   ],
   "source": [
    "List = [1, 2, 3, 4, 5]\n",
    "Array = np.array(List)\n",
    "print('Array:', Array)\n",
    "\n",
    "file = open(\"text1.txt\", \"w+\")\n",
    " \n",
    "content = str(Array)\n",
    "file.write(content)\n",
    "file.close()\n",
    " \n",
    "file = open(\"text1.txt\", \"r\")\n",
    "content = file.read()\n",
    " \n",
    "print(\"Content in text1.txt:\", content)\n",
    "file.close()"
   ]
  }
 ],
 "metadata": {
  "kernelspec": {
   "display_name": "Python 3",
   "language": "python",
   "name": "python3"
  },
  "language_info": {
   "codemirror_mode": {
    "name": "ipython",
    "version": 3
   },
   "file_extension": ".py",
   "mimetype": "text/x-python",
   "name": "python",
   "nbconvert_exporter": "python",
   "pygments_lexer": "ipython3",
   "version": "3.8.5"
  }
 },
 "nbformat": 4,
 "nbformat_minor": 4
}
