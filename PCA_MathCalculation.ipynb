{
 "cells": [
  {
   "cell_type": "code",
   "execution_count": 2,
   "id": "4fafc4e2",
   "metadata": {},
   "outputs": [],
   "source": [
    "import pandas as pd\n",
    "import numpy as np\n",
    "import matplotlib.pyplot as plt\n",
    "import seaborn as sns "
   ]
  },
  {
   "cell_type": "code",
   "execution_count": 3,
   "id": "d2bde16f",
   "metadata": {},
   "outputs": [],
   "source": [
    "df = pd.read_csv('attrition.csv')"
   ]
  },
  {
   "cell_type": "code",
   "execution_count": 4,
   "id": "b146b9de",
   "metadata": {},
   "outputs": [
    {
     "data": {
      "text/html": [
       "<div>\n",
       "<style scoped>\n",
       "    .dataframe tbody tr th:only-of-type {\n",
       "        vertical-align: middle;\n",
       "    }\n",
       "\n",
       "    .dataframe tbody tr th {\n",
       "        vertical-align: top;\n",
       "    }\n",
       "\n",
       "    .dataframe thead th {\n",
       "        text-align: right;\n",
       "    }\n",
       "</style>\n",
       "<table border=\"1\" class=\"dataframe\">\n",
       "  <thead>\n",
       "    <tr style=\"text-align: right;\">\n",
       "      <th></th>\n",
       "      <th>Age</th>\n",
       "      <th>DailyRate</th>\n",
       "      <th>DistanceFromHome</th>\n",
       "      <th>HourlyRate</th>\n",
       "      <th>MonthlyIncome</th>\n",
       "      <th>MonthlyRate</th>\n",
       "      <th>NumCompaniesWorked</th>\n",
       "      <th>PercentSalaryHike</th>\n",
       "      <th>TotalWorkingYears</th>\n",
       "      <th>TrainingTimesLastYear</th>\n",
       "      <th>YearsAtCompany</th>\n",
       "      <th>YearsInCurrentRole</th>\n",
       "      <th>YearsSinceLastPromotion</th>\n",
       "      <th>YearsWithCurrManager</th>\n",
       "      <th>Attrition</th>\n",
       "    </tr>\n",
       "  </thead>\n",
       "  <tbody>\n",
       "    <tr>\n",
       "      <th>0</th>\n",
       "      <td>53</td>\n",
       "      <td>124</td>\n",
       "      <td>2</td>\n",
       "      <td>38</td>\n",
       "      <td>7525</td>\n",
       "      <td>23537</td>\n",
       "      <td>2</td>\n",
       "      <td>12</td>\n",
       "      <td>30</td>\n",
       "      <td>2</td>\n",
       "      <td>15</td>\n",
       "      <td>7</td>\n",
       "      <td>6</td>\n",
       "      <td>12</td>\n",
       "      <td>0</td>\n",
       "    </tr>\n",
       "    <tr>\n",
       "      <th>1</th>\n",
       "      <td>21</td>\n",
       "      <td>337</td>\n",
       "      <td>7</td>\n",
       "      <td>31</td>\n",
       "      <td>2679</td>\n",
       "      <td>4567</td>\n",
       "      <td>1</td>\n",
       "      <td>13</td>\n",
       "      <td>1</td>\n",
       "      <td>3</td>\n",
       "      <td>1</td>\n",
       "      <td>0</td>\n",
       "      <td>1</td>\n",
       "      <td>0</td>\n",
       "      <td>1</td>\n",
       "    </tr>\n",
       "    <tr>\n",
       "      <th>2</th>\n",
       "      <td>36</td>\n",
       "      <td>1218</td>\n",
       "      <td>9</td>\n",
       "      <td>82</td>\n",
       "      <td>3407</td>\n",
       "      <td>6986</td>\n",
       "      <td>7</td>\n",
       "      <td>23</td>\n",
       "      <td>10</td>\n",
       "      <td>4</td>\n",
       "      <td>5</td>\n",
       "      <td>3</td>\n",
       "      <td>0</td>\n",
       "      <td>3</td>\n",
       "      <td>1</td>\n",
       "    </tr>\n",
       "    <tr>\n",
       "      <th>3</th>\n",
       "      <td>38</td>\n",
       "      <td>1391</td>\n",
       "      <td>10</td>\n",
       "      <td>66</td>\n",
       "      <td>2684</td>\n",
       "      <td>12127</td>\n",
       "      <td>0</td>\n",
       "      <td>17</td>\n",
       "      <td>3</td>\n",
       "      <td>0</td>\n",
       "      <td>2</td>\n",
       "      <td>1</td>\n",
       "      <td>0</td>\n",
       "      <td>2</td>\n",
       "      <td>0</td>\n",
       "    </tr>\n",
       "    <tr>\n",
       "      <th>4</th>\n",
       "      <td>24</td>\n",
       "      <td>1476</td>\n",
       "      <td>4</td>\n",
       "      <td>42</td>\n",
       "      <td>4162</td>\n",
       "      <td>15211</td>\n",
       "      <td>1</td>\n",
       "      <td>12</td>\n",
       "      <td>5</td>\n",
       "      <td>3</td>\n",
       "      <td>5</td>\n",
       "      <td>4</td>\n",
       "      <td>0</td>\n",
       "      <td>3</td>\n",
       "      <td>0</td>\n",
       "    </tr>\n",
       "  </tbody>\n",
       "</table>\n",
       "</div>"
      ],
      "text/plain": [
       "   Age  DailyRate  DistanceFromHome  HourlyRate  MonthlyIncome  MonthlyRate  \\\n",
       "0   53        124                 2          38           7525        23537   \n",
       "1   21        337                 7          31           2679         4567   \n",
       "2   36       1218                 9          82           3407         6986   \n",
       "3   38       1391                10          66           2684        12127   \n",
       "4   24       1476                 4          42           4162        15211   \n",
       "\n",
       "   NumCompaniesWorked  PercentSalaryHike  TotalWorkingYears  \\\n",
       "0                   2                 12                 30   \n",
       "1                   1                 13                  1   \n",
       "2                   7                 23                 10   \n",
       "3                   0                 17                  3   \n",
       "4                   1                 12                  5   \n",
       "\n",
       "   TrainingTimesLastYear  YearsAtCompany  YearsInCurrentRole  \\\n",
       "0                      2              15                   7   \n",
       "1                      3               1                   0   \n",
       "2                      4               5                   3   \n",
       "3                      0               2                   1   \n",
       "4                      3               5                   4   \n",
       "\n",
       "   YearsSinceLastPromotion  YearsWithCurrManager  Attrition  \n",
       "0                        6                    12          0  \n",
       "1                        1                     0          1  \n",
       "2                        0                     3          1  \n",
       "3                        0                     2          0  \n",
       "4                        0                     3          0  "
      ]
     },
     "execution_count": 4,
     "metadata": {},
     "output_type": "execute_result"
    }
   ],
   "source": [
    "df.head()"
   ]
  },
  {
   "cell_type": "code",
   "execution_count": 5,
   "id": "9da236cd",
   "metadata": {},
   "outputs": [
    {
     "name": "stdout",
     "output_type": "stream",
     "text": [
      "<class 'pandas.core.frame.DataFrame'>\n",
      "RangeIndex: 2233 entries, 0 to 2232\n",
      "Data columns (total 15 columns):\n",
      " #   Column                   Non-Null Count  Dtype\n",
      "---  ------                   --------------  -----\n",
      " 0   Age                      2233 non-null   int64\n",
      " 1   DailyRate                2233 non-null   int64\n",
      " 2   DistanceFromHome         2233 non-null   int64\n",
      " 3   HourlyRate               2233 non-null   int64\n",
      " 4   MonthlyIncome            2233 non-null   int64\n",
      " 5   MonthlyRate              2233 non-null   int64\n",
      " 6   NumCompaniesWorked       2233 non-null   int64\n",
      " 7   PercentSalaryHike        2233 non-null   int64\n",
      " 8   TotalWorkingYears        2233 non-null   int64\n",
      " 9   TrainingTimesLastYear    2233 non-null   int64\n",
      " 10  YearsAtCompany           2233 non-null   int64\n",
      " 11  YearsInCurrentRole       2233 non-null   int64\n",
      " 12  YearsSinceLastPromotion  2233 non-null   int64\n",
      " 13  YearsWithCurrManager     2233 non-null   int64\n",
      " 14  Attrition                2233 non-null   int64\n",
      "dtypes: int64(15)\n",
      "memory usage: 261.8 KB\n"
     ]
    }
   ],
   "source": [
    "df.info()"
   ]
  },
  {
   "cell_type": "code",
   "execution_count": 6,
   "id": "9c74e9fd",
   "metadata": {},
   "outputs": [
    {
     "data": {
      "text/plain": [
       "Age                        int64\n",
       "DailyRate                  int64\n",
       "DistanceFromHome           int64\n",
       "HourlyRate                 int64\n",
       "MonthlyIncome              int64\n",
       "MonthlyRate                int64\n",
       "NumCompaniesWorked         int64\n",
       "PercentSalaryHike          int64\n",
       "TotalWorkingYears          int64\n",
       "TrainingTimesLastYear      int64\n",
       "YearsAtCompany             int64\n",
       "YearsInCurrentRole         int64\n",
       "YearsSinceLastPromotion    int64\n",
       "YearsWithCurrManager       int64\n",
       "Attrition                  int64\n",
       "dtype: object"
      ]
     },
     "execution_count": 6,
     "metadata": {},
     "output_type": "execute_result"
    }
   ],
   "source": [
    "df.dtypes"
   ]
  },
  {
   "cell_type": "code",
   "execution_count": 7,
   "id": "908794a8",
   "metadata": {},
   "outputs": [],
   "source": [
    "plt.rcParams['figure.figsize'] = [15,8]"
   ]
  },
  {
   "cell_type": "code",
   "execution_count": 9,
   "id": "8846d993",
   "metadata": {},
   "outputs": [
    {
     "data": {
      "image/png": "[encoded data removed]",
      "text/plain": [
       "<Figure size 1080x576 with 16 Axes>"
      ]
     },
     "metadata": {
      "needs_background": "light"
     },
     "output_type": "display_data"
    }
   ],
   "source": [
    "df.drop(['Attrition'],axis=1).hist()\n",
    "plt.tight_layout()\n",
    "plt.show()"
   ]
  },
  {
   "cell_type": "code",
   "execution_count": 12,
   "id": "a979a0c1",
   "metadata": {},
   "outputs": [],
   "source": [
    "total =df.isnull().sum().sort_values(ascending=False)\n",
    "percent = (df.isnull().sum()*100/df.isnull().count()).sort_values(ascending=False)                               "
   ]
  },
  {
   "cell_type": "code",
   "execution_count": 13,
   "id": "60dfd7bf",
   "metadata": {},
   "outputs": [
    {
     "data": {
      "text/html": [
       "<div>\n",
       "<style scoped>\n",
       "    .dataframe tbody tr th:only-of-type {\n",
       "        vertical-align: middle;\n",
       "    }\n",
       "\n",
       "    .dataframe tbody tr th {\n",
       "        vertical-align: top;\n",
       "    }\n",
       "\n",
       "    .dataframe thead th {\n",
       "        text-align: right;\n",
       "    }\n",
       "</style>\n",
       "<table border=\"1\" class=\"dataframe\">\n",
       "  <thead>\n",
       "    <tr style=\"text-align: right;\">\n",
       "      <th></th>\n",
       "      <th>Total</th>\n",
       "      <th>Percentage of Missing Values</th>\n",
       "    </tr>\n",
       "  </thead>\n",
       "  <tbody>\n",
       "    <tr>\n",
       "      <th>Age</th>\n",
       "      <td>0</td>\n",
       "      <td>0.0</td>\n",
       "    </tr>\n",
       "    <tr>\n",
       "      <th>DailyRate</th>\n",
       "      <td>0</td>\n",
       "      <td>0.0</td>\n",
       "    </tr>\n",
       "    <tr>\n",
       "      <th>DistanceFromHome</th>\n",
       "      <td>0</td>\n",
       "      <td>0.0</td>\n",
       "    </tr>\n",
       "    <tr>\n",
       "      <th>HourlyRate</th>\n",
       "      <td>0</td>\n",
       "      <td>0.0</td>\n",
       "    </tr>\n",
       "    <tr>\n",
       "      <th>MonthlyIncome</th>\n",
       "      <td>0</td>\n",
       "      <td>0.0</td>\n",
       "    </tr>\n",
       "    <tr>\n",
       "      <th>MonthlyRate</th>\n",
       "      <td>0</td>\n",
       "      <td>0.0</td>\n",
       "    </tr>\n",
       "    <tr>\n",
       "      <th>NumCompaniesWorked</th>\n",
       "      <td>0</td>\n",
       "      <td>0.0</td>\n",
       "    </tr>\n",
       "    <tr>\n",
       "      <th>PercentSalaryHike</th>\n",
       "      <td>0</td>\n",
       "      <td>0.0</td>\n",
       "    </tr>\n",
       "    <tr>\n",
       "      <th>TotalWorkingYears</th>\n",
       "      <td>0</td>\n",
       "      <td>0.0</td>\n",
       "    </tr>\n",
       "    <tr>\n",
       "      <th>TrainingTimesLastYear</th>\n",
       "      <td>0</td>\n",
       "      <td>0.0</td>\n",
       "    </tr>\n",
       "    <tr>\n",
       "      <th>YearsAtCompany</th>\n",
       "      <td>0</td>\n",
       "      <td>0.0</td>\n",
       "    </tr>\n",
       "    <tr>\n",
       "      <th>YearsInCurrentRole</th>\n",
       "      <td>0</td>\n",
       "      <td>0.0</td>\n",
       "    </tr>\n",
       "    <tr>\n",
       "      <th>YearsSinceLastPromotion</th>\n",
       "      <td>0</td>\n",
       "      <td>0.0</td>\n",
       "    </tr>\n",
       "    <tr>\n",
       "      <th>YearsWithCurrManager</th>\n",
       "      <td>0</td>\n",
       "      <td>0.0</td>\n",
       "    </tr>\n",
       "    <tr>\n",
       "      <th>Attrition</th>\n",
       "      <td>0</td>\n",
       "      <td>0.0</td>\n",
       "    </tr>\n",
       "  </tbody>\n",
       "</table>\n",
       "</div>"
      ],
      "text/plain": [
       "                         Total  Percentage of Missing Values\n",
       "Age                          0                           0.0\n",
       "DailyRate                    0                           0.0\n",
       "DistanceFromHome             0                           0.0\n",
       "HourlyRate                   0                           0.0\n",
       "MonthlyIncome                0                           0.0\n",
       "MonthlyRate                  0                           0.0\n",
       "NumCompaniesWorked           0                           0.0\n",
       "PercentSalaryHike            0                           0.0\n",
       "TotalWorkingYears            0                           0.0\n",
       "TrainingTimesLastYear        0                           0.0\n",
       "YearsAtCompany               0                           0.0\n",
       "YearsInCurrentRole           0                           0.0\n",
       "YearsSinceLastPromotion      0                           0.0\n",
       "YearsWithCurrManager         0                           0.0\n",
       "Attrition                    0                           0.0"
      ]
     },
     "execution_count": 13,
     "metadata": {},
     "output_type": "execute_result"
    }
   ],
   "source": [
    "data= pd.concat([total,percent],axis=1,keys=['Total','Percentage of Missing Values'])\n",
    "data"
   ]
  },
  {
   "cell_type": "code",
   "execution_count": 14,
   "id": "0d684cff",
   "metadata": {},
   "outputs": [],
   "source": [
    "from sklearn.preprocessing import StandardScaler"
   ]
  },
  {
   "cell_type": "code",
   "execution_count": 18,
   "id": "ebb8231e",
   "metadata": {},
   "outputs": [],
   "source": [
    "df_std= StandardScaler().fit_transform(df.drop('Attrition',axis=1))"
   ]
  },
  {
   "cell_type": "code",
   "execution_count": 19,
   "id": "04006b03",
   "metadata": {},
   "outputs": [
    {
     "data": {
      "text/plain": [
       "(2233, 14)"
      ]
     },
     "execution_count": 19,
     "metadata": {},
     "output_type": "execute_result"
    }
   ],
   "source": [
    "df_std.shape\n"
   ]
  },
  {
   "cell_type": "code",
   "execution_count": 21,
   "id": "d23acd1c",
   "metadata": {},
   "outputs": [
    {
     "data": {
      "text/plain": [
       "array([[ 1.76300382, -1.64530779, -0.93974222, ...,  0.88002971,\n",
       "         1.1918144 ,  2.36108437],\n",
       "       [-1.53664261, -1.11004187, -0.33409561, ..., -1.06865203,\n",
       "        -0.3520547 , -1.06842651],\n",
       "       [ 0.01006666,  1.10389839, -0.09183696, ..., -0.23350271,\n",
       "        -0.66082852, -0.21104879],\n",
       "       ...,\n",
       "       [ 2.38168753,  0.77972325, -1.06087154, ...,  0.04488039,\n",
       "        -0.66082852,  0.07474378],\n",
       "       [ 1.96923173,  0.78474923, -0.93974222, ..., -0.51188582,\n",
       "        -0.3520547 , -0.49684137],\n",
       "       [-0.0930473 , -1.5900221 , -0.93974222, ...,  0.04488039,\n",
       "        -0.3520547 ,  0.07474378]])"
      ]
     },
     "execution_count": 21,
     "metadata": {},
     "output_type": "execute_result"
    }
   ],
   "source": [
    "df_std"
   ]
  },
  {
   "cell_type": "code",
   "execution_count": 22,
   "id": "c6690f5f",
   "metadata": {},
   "outputs": [],
   "source": [
    "# 'eig' from numpy.linalg to calculate eigenvalues and eigenvectors\n",
    "from numpy.linalg import eig"
   ]
  },
  {
   "cell_type": "code",
   "execution_count": 24,
   "id": "6b18d234",
   "metadata": {},
   "outputs": [
    {
     "name": "stdout",
     "output_type": "stream",
     "text": [
      "[[ 1.00044803  0.00108543 -0.01932118  0.0878637   0.52070041  0.01222788\n",
      "   0.33604246  0.00204405  0.70266994 -0.016474    0.40437271  0.31282288\n",
      "   0.28426132  0.28952944]\n",
      " [ 0.00108543  1.00044803 -0.04458367  0.03175072  0.0046552  -0.06645707\n",
      "   0.04615258 -0.0251113   0.00376656 -0.01589741 -0.04716883 -0.00204887\n",
      "  -0.04038946 -0.0087683 ]\n",
      " [-0.01932118 -0.04458367  1.00044803  0.01457042 -0.02010008  0.03498196\n",
      "  -0.07096223  0.05712164 -0.0178718  -0.03928711 -0.0083611  -0.01374887\n",
      "  -0.00233438 -0.00999183]\n",
      " [ 0.0878637   0.03175072  0.01457042  1.00044803  0.00239115 -0.01897197\n",
      "   0.02315547 -0.01598421  0.03058398 -0.00866239  0.01403102 -0.02585746\n",
      "  -0.03357082 -0.00111668]\n",
      " [ 0.52070041  0.0046552  -0.02010008  0.00239115  1.00044803  0.05210244\n",
      "   0.16559791 -0.03711425  0.76515409 -0.02448325  0.56170029  0.44724512\n",
      "   0.37540876  0.39924222]]\n"
     ]
    }
   ],
   "source": [
    "#generate the covariance matrix using 'cov' function\n",
    "# consider the transpose of the dataframe 'df_attr_std' to obtain the covarinace between the independent variables (columns)  \n",
    "cov_mat = np.cov(df_std.T)\n",
    "\n",
    "# as 'cov_mat' is a numpy array, select first five observations with [0:5]\n",
    "print(cov_mat[0:5])"
   ]
  },
  {
   "cell_type": "code",
   "execution_count": 25,
   "id": "eccf545d",
   "metadata": {},
   "outputs": [
    {
     "name": "stdout",
     "output_type": "stream",
     "text": [
      "Eigenvalues: \n",
      " \n",
      " [4.30567107 1.51892139 0.12679687 0.21619259 0.25285258 0.43403018\n",
      " 0.47151197 0.68139318 1.1302603  1.04197238 1.01182564 0.99398062\n",
      " 0.90451699 0.91634664] \n",
      "\n",
      "Eigenvectors: \n",
      " \n",
      " [[ 3.04538423e-01  4.33467401e-01  2.16389939e-01 -2.32422825e-01\n",
      "  -5.27258977e-02  7.21834470e-01  1.73778426e-01 -1.54259496e-01\n",
      "  -3.57778059e-02 -5.34637444e-02 -1.74706496e-01 -2.04540317e-02\n",
      "   7.48105629e-02  4.65383830e-03]\n",
      " [-8.82696560e-03  1.06285227e-01  2.39597537e-02  3.10596944e-02\n",
      "   1.14639536e-02  2.33973997e-02  5.72006637e-02  4.37585287e-03\n",
      "   5.17585850e-01 -3.08134801e-01  3.06870579e-01 -1.76725099e-01\n",
      "  -2.39736318e-01  6.61362120e-01]\n",
      " [-1.19613397e-02 -9.31137661e-02  7.33407591e-03 -6.05141634e-03\n",
      "  -2.30861730e-03 -1.93211915e-02 -3.15858788e-02  1.21675996e-01\n",
      "  -5.19834783e-01 -4.58164003e-01  1.57959385e-02  1.48355278e-01\n",
      "   5.31564772e-01  4.35835552e-01]\n",
      " [ 7.88568842e-03  1.42351598e-01 -1.93747218e-02 -1.54229726e-02\n",
      "  -1.71074236e-02 -1.03145000e-01  1.88724210e-02  7.88092029e-02\n",
      "   1.39495189e-01 -5.55285540e-01 -1.88153141e-01  6.62009474e-01\n",
      "  -3.20578691e-01 -2.39441419e-01]\n",
      " [ 3.58682890e-01  2.33112557e-01  2.35663197e-01 -4.11445814e-01\n",
      "   2.93347066e-02 -6.04936645e-01 -2.24256200e-03 -4.47032816e-01\n",
      "  -6.36529016e-02  5.82288560e-02 -6.66363162e-02 -3.70537628e-03\n",
      "   1.76254191e-02  1.15416667e-01]\n",
      " [-1.26919971e-02  1.34952748e-01 -2.88053014e-03  3.07456053e-02\n",
      "   2.48213544e-02  6.12613549e-02 -1.26817633e-02  1.20933668e-01\n",
      "  -5.28570097e-01  3.60495333e-01  1.22125474e-01  2.65092849e-01\n",
      "  -5.81055815e-01  3.59666935e-01]\n",
      " [ 6.93976618e-02  6.10804377e-01  1.12847097e-01  4.27770767e-02\n",
      "   1.47088718e-02 -2.27540342e-01 -1.82111347e-01  6.79209126e-01\n",
      "   3.40814631e-02  5.02895800e-02  4.63664775e-02 -1.61033509e-01\n",
      "   1.37145524e-01 -1.02352192e-01]\n",
      " [-2.04835654e-02 -5.14656975e-02  7.76460089e-03  3.12871379e-02\n",
      "  -2.65156615e-03 -6.50673112e-02  4.12664442e-02  2.50415490e-02\n",
      "  -3.13414736e-01 -4.24058560e-01 -3.57735271e-01 -6.31914371e-01\n",
      "  -4.16773162e-01 -1.01376149e-01]\n",
      " [ 4.14632329e-01  2.65210204e-01 -6.96537378e-01  4.52875326e-01\n",
      "   6.31472101e-02 -4.40789293e-02 -2.10161677e-02 -2.18875959e-01\n",
      "  -2.71999133e-02  1.41815955e-03 -7.80306663e-02 -1.87321451e-02\n",
      "   6.22625004e-02  4.63267681e-02]\n",
      " [-1.47517980e-02 -1.31453831e-01 -1.63366041e-02 -1.26163283e-02\n",
      "   4.52980602e-03 -4.22489452e-02 -4.07203065e-03  2.01199703e-01\n",
      "   2.34271801e-01  2.52928103e-01 -8.13679202e-01  9.61846103e-02\n",
      "   6.00822947e-02  3.82075538e-01]\n",
      " [ 4.30605278e-01 -2.00049250e-01  5.96971398e-01  6.34833263e-01\n",
      "  -1.24478661e-02 -1.15219609e-02 -1.04790612e-01 -1.96061959e-02\n",
      "   1.18793575e-02 -4.37043360e-03 -8.70986444e-05  5.06625771e-02\n",
      "  -2.59362867e-02 -1.08846387e-02]\n",
      " [ 3.92877911e-01 -2.57606707e-01 -1.66041874e-01 -2.47013460e-01\n",
      "  -7.48771865e-01  4.10496573e-02 -2.73804939e-01  1.97339289e-01\n",
      "   2.62040956e-02 -9.44193686e-03  8.25646590e-02 -1.73535133e-02\n",
      "  -8.09261442e-02  9.72627381e-04]\n",
      " [ 3.43813067e-01 -2.17876333e-01 -6.91449331e-02 -9.23155592e-02\n",
      "   9.66517212e-02 -1.11798997e-01  8.17261570e-01  3.40864589e-01\n",
      "  -4.09961292e-03  3.68803942e-02  1.05253647e-01  3.89523634e-03\n",
      "   1.74005810e-03 -5.09909825e-02]\n",
      " [ 3.77894289e-01 -2.86571670e-01 -9.83614831e-02 -3.06418682e-01\n",
      "   6.48788608e-01  1.53756067e-01 -4.19305421e-01  1.86680593e-01\n",
      "   4.29144733e-02 -5.28492991e-02  6.41847203e-02 -7.94619912e-03\n",
      "  -8.02591662e-02 -3.18099489e-02]] \n",
      "\n"
     ]
    }
   ],
   "source": [
    "# use 'eig' function to compute eigenvalues and eigenvectors of the covariance matrix\n",
    "eig_val, eig_vec = np.linalg.eig(cov_mat)\n",
    "\n",
    "print('Eigenvalues:','\\n','\\n', eig_val,\"\\n\")\n",
    "\n",
    "print('Eigenvectors:','\\n','\\n',eig_vec,'\\n')"
   ]
  },
  {
   "cell_type": "code",
   "execution_count": 26,
   "id": "0e0bed55",
   "metadata": {},
   "outputs": [
    {
     "name": "stdout",
     "output_type": "stream",
     "text": [
      "[4.305671065115176, 1.5189213881051122, 1.1302602977102154, 1.041972383216764, 1.0118256361143863, 0.9939806181788783, 0.9163466447365304, 0.9045169863191352, 0.6813931814875865, 0.47151197140316176, 0.43403018385256426, 0.2528525824213303, 0.21619259342659322, 0.12679686934625325]\n"
     ]
    }
   ],
   "source": [
    "# create a list of eigenvalues\n",
    "eig_val = list(eig_val)\n",
    "\n",
    "# 'sort(reverse = True)' will sort the eigenvalues in the descending order\n",
    "eig_val.sort(reverse = True)\n",
    "\n",
    "# print the sorted list\n",
    "print(eig_val)"
   ]
  },
  {
   "cell_type": "code",
   "execution_count": 27,
   "id": "2ac317bb",
   "metadata": {},
   "outputs": [
    {
     "name": "stderr",
     "output_type": "stream",
     "text": [
      "<ipython-input-27-d84d9410f846>:16: MatplotlibDeprecationWarning: The 's' parameter of annotate() has been renamed 'text' since Matplotlib 3.3; support for the old name will be dropped two minor releases later.\n",
      "  plt.annotate(s ='Elbow Point', xy=(2.05,1.2), xytext=(2, 1.8), arrowprops=dict(facecolor='black', arrowstyle = 'simple'))\n"
     ]
    },
    {
     "data": {
      "image/png": "[encoded data removed]",
      "text/plain": [
       "<Figure size 1080x576 with 1 Axes>"
      ]
     },
     "metadata": {
      "needs_background": "light"
     },
     "output_type": "display_data"
    }
   ],
   "source": [
    "# 'bp' represents blue color and pentagonal shape of points\n",
    "plt.plot(eig_val,'bp')            \n",
    "\n",
    "# plot a line plot\n",
    "plt.plot(eig_val) \n",
    "\n",
    "# set the axes and plot labels\n",
    "# set the fontsize using 'fontsize'\n",
    "plt.title('Scree Plot', fontsize = 15)\n",
    "plt.xlabel('Principal Components', fontsize = 15)    \n",
    "plt.ylabel('Explained Variance', fontsize = 15)      \n",
    "\n",
    "# use 'annonate' function to draw an arrow between points xy and xytext\n",
    "# 's' is a argument to write text\n",
    "# we can change the facecolor and arrowstyle; this is only for representation purpose\n",
    "plt.annotate(s ='Elbow Point', xy=(2.05,1.2), xytext=(2, 1.8), arrowprops=dict(facecolor='black', arrowstyle = 'simple'))\n",
    "\n",
    "# display the plot\n",
    "plt.show()   "
   ]
  },
  {
   "cell_type": "code",
   "execution_count": 28,
   "id": "32854d61",
   "metadata": {},
   "outputs": [
    {
     "data": {
      "text/plain": [
       "[30.741020463620615,\n",
       " 10.844579803757318,\n",
       " 8.06967239616532,\n",
       " 7.439326848377642,\n",
       " 7.22408937306414,\n",
       " 7.096682041376935,\n",
       " 6.542401993000886,\n",
       " 6.457942273252866,\n",
       " 4.864914532276546,\n",
       " 3.3664343937427477,\n",
       " 3.0988272354901287,\n",
       " 1.8052810567603148,\n",
       " 1.5435412594464728,\n",
       " 0.9052863296680872]"
      ]
     },
     "execution_count": 28,
     "metadata": {},
     "output_type": "execute_result"
    }
   ],
   "source": [
    "# calculate the percentage of variation explained by each principal component\n",
    "# create an empty list to store the percentage of variation explained by each principal component\n",
    "percent_var = []\n",
    "\n",
    "# use a 'for' loop to calculate the percentage of variation for each component\n",
    "for i in eig_val:\n",
    "    variation = (i/sum(eig_val))*100\n",
    "    \n",
    "    # add the values to the list 'percent_var'\n",
    "    percent_var.append(variation)\n",
    "    \n",
    "# print the percentage of variation\n",
    "percent_var"
   ]
  },
  {
   "cell_type": "code",
   "execution_count": 29,
   "id": "baf90a94",
   "metadata": {},
   "outputs": [
    {
     "data": {
      "text/plain": [
       "array([[ 3.04538423e-01,  4.33467401e-01, -3.57778059e-02,\n",
       "        -5.34637444e-02, -1.74706496e-01],\n",
       "       [-8.82696560e-03,  1.06285227e-01,  5.17585850e-01,\n",
       "        -3.08134801e-01,  3.06870579e-01],\n",
       "       [-1.19613397e-02, -9.31137661e-02, -5.19834783e-01,\n",
       "        -4.58164003e-01,  1.57959385e-02],\n",
       "       [ 7.88568842e-03,  1.42351598e-01,  1.39495189e-01,\n",
       "        -5.55285540e-01, -1.88153141e-01],\n",
       "       [ 3.58682890e-01,  2.33112557e-01, -6.36529016e-02,\n",
       "         5.82288560e-02, -6.66363162e-02],\n",
       "       [-1.26919971e-02,  1.34952748e-01, -5.28570097e-01,\n",
       "         3.60495333e-01,  1.22125474e-01],\n",
       "       [ 6.93976618e-02,  6.10804377e-01,  3.40814631e-02,\n",
       "         5.02895800e-02,  4.63664775e-02],\n",
       "       [-2.04835654e-02, -5.14656975e-02, -3.13414736e-01,\n",
       "        -4.24058560e-01, -3.57735271e-01],\n",
       "       [ 4.14632329e-01,  2.65210204e-01, -2.71999133e-02,\n",
       "         1.41815955e-03, -7.80306663e-02],\n",
       "       [-1.47517980e-02, -1.31453831e-01,  2.34271801e-01,\n",
       "         2.52928103e-01, -8.13679202e-01],\n",
       "       [ 4.30605278e-01, -2.00049250e-01,  1.18793575e-02,\n",
       "        -4.37043360e-03, -8.70986444e-05],\n",
       "       [ 3.92877911e-01, -2.57606707e-01,  2.62040956e-02,\n",
       "        -9.44193686e-03,  8.25646590e-02],\n",
       "       [ 3.43813067e-01, -2.17876333e-01, -4.09961292e-03,\n",
       "         3.68803942e-02,  1.05253647e-01],\n",
       "       [ 3.77894289e-01, -2.86571670e-01,  4.29144733e-02,\n",
       "        -5.28492991e-02,  6.41847203e-02]])"
      ]
     },
     "execution_count": 29,
     "metadata": {},
     "output_type": "execute_result"
    }
   ],
   "source": [
    "# consider the eigenvectors corresponding to the first five highest eigenvalues\n",
    "# these eigenvectors are the 1st, 2nd, 9th, 10th and 11th columns of 'eig_vec' \n",
    "eigenvector = eig_vec[:,[0,1,8,9,10]]\n",
    "\n",
    "# print the vectors\n",
    "eigenvector"
   ]
  },
  {
   "cell_type": "code",
   "execution_count": 31,
   "id": "69ff4dda",
   "metadata": {},
   "outputs": [],
   "source": [
    "# 'PCA' function to perform principal component analysis using the sklearn library\n",
    "from sklearn.decomposition import PCA"
   ]
  },
  {
   "cell_type": "code",
   "execution_count": 33,
   "id": "8b57dec6",
   "metadata": {},
   "outputs": [
    {
     "data": {
      "text/html": [
       "<div>\n",
       "<style scoped>\n",
       "    .dataframe tbody tr th:only-of-type {\n",
       "        vertical-align: middle;\n",
       "    }\n",
       "\n",
       "    .dataframe tbody tr th {\n",
       "        vertical-align: top;\n",
       "    }\n",
       "\n",
       "    .dataframe thead th {\n",
       "        text-align: right;\n",
       "    }\n",
       "</style>\n",
       "<table border=\"1\" class=\"dataframe\">\n",
       "  <thead>\n",
       "    <tr style=\"text-align: right;\">\n",
       "      <th></th>\n",
       "      <th>PC1</th>\n",
       "      <th>PC2</th>\n",
       "      <th>PC3</th>\n",
       "      <th>PC4</th>\n",
       "      <th>PC5</th>\n",
       "    </tr>\n",
       "  </thead>\n",
       "  <tbody>\n",
       "    <tr>\n",
       "      <th>0</th>\n",
       "      <td>3.905466</td>\n",
       "      <td>-0.095954</td>\n",
       "      <td>-1.117870</td>\n",
       "      <td>2.186599</td>\n",
       "      <td>0.477868</td>\n",
       "    </tr>\n",
       "    <tr>\n",
       "      <th>1</th>\n",
       "      <td>-2.558738</td>\n",
       "      <td>-1.250848</td>\n",
       "      <td>0.352867</td>\n",
       "      <td>1.301638</td>\n",
       "      <td>0.035775</td>\n",
       "    </tr>\n",
       "    <tr>\n",
       "      <th>2</th>\n",
       "      <td>-0.654722</td>\n",
       "      <td>1.059780</td>\n",
       "      <td>0.935477</td>\n",
       "      <td>-1.738105</td>\n",
       "      <td>-1.478593</td>\n",
       "    </tr>\n",
       "    <tr>\n",
       "      <th>3</th>\n",
       "      <td>-1.676318</td>\n",
       "      <td>0.024093</td>\n",
       "      <td>0.285561</td>\n",
       "      <td>-1.466101</td>\n",
       "      <td>1.850465</td>\n",
       "    </tr>\n",
       "    <tr>\n",
       "      <th>4</th>\n",
       "      <td>-1.242807</td>\n",
       "      <td>-0.865700</td>\n",
       "      <td>1.424404</td>\n",
       "      <td>0.868779</td>\n",
       "      <td>1.083326</td>\n",
       "    </tr>\n",
       "  </tbody>\n",
       "</table>\n",
       "</div>"
      ],
      "text/plain": [
       "        PC1       PC2       PC3       PC4       PC5\n",
       "0  3.905466 -0.095954 -1.117870  2.186599  0.477868\n",
       "1 -2.558738 -1.250848  0.352867  1.301638  0.035775\n",
       "2 -0.654722  1.059780  0.935477 -1.738105 -1.478593\n",
       "3 -1.676318  0.024093  0.285561 -1.466101  1.850465\n",
       "4 -1.242807 -0.865700  1.424404  0.868779  1.083326"
      ]
     },
     "execution_count": 33,
     "metadata": {},
     "output_type": "execute_result"
    }
   ],
   "source": [
    "# take the dot product of 'df_attr_std' with 'eigenvector' to obtain new dataset\n",
    "# create a dataframe of principal components\n",
    "# pass the required column names to the parameter 'columns'\n",
    "df_pca = pd.DataFrame(df_std.dot(eigenvector), columns= ['PC1','PC2', 'PC3', 'PC4', 'PC5'])\n",
    "\n",
    "# head() to display top five rows\n",
    "df_pca.head()"
   ]
  },
  {
   "cell_type": "markdown",
   "id": "c58b59a4",
   "metadata": {},
   "source": [
    "## PCA using Python Library "
   ]
  },
  {
   "cell_type": "code",
   "execution_count": 34,
   "id": "93d60b71",
   "metadata": {},
   "outputs": [],
   "source": [
    "# specify the required no of components to the parameter 'n_components'\n",
    "# pass the 'random_state' to get the same output for multiple runs\n",
    "pca = PCA(n_components = 5, random_state = 10)\n",
    "\n",
    "# the 'fit_transform()' fits the PCA on the data transforms the data to compute the principal components \n",
    "# pass the standardized data to fit PCA\n",
    "components = pca.fit_transform(df_std)"
   ]
  },
  {
   "cell_type": "code",
   "execution_count": 35,
   "id": "3a8d82fe",
   "metadata": {},
   "outputs": [
    {
     "data": {
      "text/html": [
       "<div>\n",
       "<style scoped>\n",
       "    .dataframe tbody tr th:only-of-type {\n",
       "        vertical-align: middle;\n",
       "    }\n",
       "\n",
       "    .dataframe tbody tr th {\n",
       "        vertical-align: top;\n",
       "    }\n",
       "\n",
       "    .dataframe thead th {\n",
       "        text-align: right;\n",
       "    }\n",
       "</style>\n",
       "<table border=\"1\" class=\"dataframe\">\n",
       "  <thead>\n",
       "    <tr style=\"text-align: right;\">\n",
       "      <th></th>\n",
       "      <th>PC1</th>\n",
       "      <th>PC2</th>\n",
       "      <th>PC3</th>\n",
       "      <th>PC4</th>\n",
       "      <th>PC5</th>\n",
       "    </tr>\n",
       "  </thead>\n",
       "  <tbody>\n",
       "    <tr>\n",
       "      <th>0</th>\n",
       "      <td>3.905466</td>\n",
       "      <td>-0.095954</td>\n",
       "      <td>1.117870</td>\n",
       "      <td>-2.186599</td>\n",
       "      <td>-0.477868</td>\n",
       "    </tr>\n",
       "    <tr>\n",
       "      <th>1</th>\n",
       "      <td>-2.558738</td>\n",
       "      <td>-1.250848</td>\n",
       "      <td>-0.352867</td>\n",
       "      <td>-1.301638</td>\n",
       "      <td>-0.035775</td>\n",
       "    </tr>\n",
       "    <tr>\n",
       "      <th>2</th>\n",
       "      <td>-0.654722</td>\n",
       "      <td>1.059780</td>\n",
       "      <td>-0.935477</td>\n",
       "      <td>1.738105</td>\n",
       "      <td>1.478593</td>\n",
       "    </tr>\n",
       "    <tr>\n",
       "      <th>3</th>\n",
       "      <td>-1.676318</td>\n",
       "      <td>0.024093</td>\n",
       "      <td>-0.285561</td>\n",
       "      <td>1.466101</td>\n",
       "      <td>-1.850465</td>\n",
       "    </tr>\n",
       "    <tr>\n",
       "      <th>4</th>\n",
       "      <td>-1.242807</td>\n",
       "      <td>-0.865700</td>\n",
       "      <td>-1.424404</td>\n",
       "      <td>-0.868779</td>\n",
       "      <td>-1.083326</td>\n",
       "    </tr>\n",
       "  </tbody>\n",
       "</table>\n",
       "</div>"
      ],
      "text/plain": [
       "        PC1       PC2       PC3       PC4       PC5\n",
       "0  3.905466 -0.095954  1.117870 -2.186599 -0.477868\n",
       "1 -2.558738 -1.250848 -0.352867 -1.301638 -0.035775\n",
       "2 -0.654722  1.059780 -0.935477  1.738105  1.478593\n",
       "3 -1.676318  0.024093 -0.285561  1.466101 -1.850465\n",
       "4 -1.242807 -0.865700 -1.424404 -0.868779 -1.083326"
      ]
     },
     "execution_count": 35,
     "metadata": {},
     "output_type": "execute_result"
    }
   ],
   "source": [
    "# create a dataframe of principal components\n",
    "# pass the required column names to the parameter 'columns'\n",
    "PCA= pd.DataFrame(data = components, columns = ['PC1', 'PC2', 'PC3', 'PC4', 'PC5'])\n",
    "\n",
    "# head() to display top five rows of the transformed data\n",
    "PCA.head()"
   ]
  },
  {
   "cell_type": "code",
   "execution_count": null,
   "id": "3f1a0c45",
   "metadata": {},
   "outputs": [],
   "source": []
  }
 ],
 "metadata": {
  "kernelspec": {
   "display_name": "Python 3",
   "language": "python",
   "name": "python3"
  },
  "language_info": {
   "codemirror_mode": {
    "name": "ipython",
    "version": 3
   },
   "file_extension": ".py",
   "mimetype": "text/x-python",
   "name": "python",
   "nbconvert_exporter": "python",
   "pygments_lexer": "ipython3",
   "version": "3.8.8"
  }
 },
 "nbformat": 4,
 "nbformat_minor": 5
}
