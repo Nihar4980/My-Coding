{
 "cells": [
  {
   "cell_type": "code",
   "execution_count": 10,
   "metadata": {},
   "outputs": [
    {
     "name": "stdout",
     "output_type": "stream",
     "text": [
      "['Gurgaon', 'Mumbai', 'Bangalore']\n",
      "Mumbai\n",
      "['Kerla', 'Mumbai', 'Bangalore']\n",
      "['Kerla', 'Mumbai']\n"
     ]
    }
   ],
   "source": [
    "City = ['Gurgaon', 'Mumbai', 'Bangalore']\n",
    "print(City)\n",
    "print(City[1])\n",
    "City[0]='Kerla'\n",
    "print(City)\n",
    "City.pop(-1)\n",
    "print(City)"
   ]
  },
  {
   "cell_type": "code",
   "execution_count": 11,
   "metadata": {},
   "outputs": [
    {
     "name": "stdout",
     "output_type": "stream",
     "text": [
      "Jaipur\n"
     ]
    }
   ],
   "source": [
    "capital = ['Delhi','Chandigarh', 'Jaipur']\n",
    "print(capital[-1])"
   ]
  },
  {
   "cell_type": "code",
   "execution_count": 18,
   "metadata": {},
   "outputs": [
    {
     "name": "stdout",
     "output_type": "stream",
     "text": [
      "['Jaipur', 'Gandhinagar', 'Bhopal']\n"
     ]
    }
   ],
   "source": [
    "capital = ['Delhi','Chandigarh', 'Jaipur','Gandhinagar','Bhopal','Patna']\n",
    "print(capital[2:5])"
   ]
  },
  {
   "cell_type": "code",
   "execution_count": 20,
   "metadata": {},
   "outputs": [
    {
     "name": "stdout",
     "output_type": "stream",
     "text": [
      "['Gurgaon', 'Mumbai']\n"
     ]
    }
   ],
   "source": [
    "City = ['Gurgaon', 'Mumbai', 'Bangalore']\n",
    "City.pop()\n",
    "print(City)"
   ]
  },
  {
   "cell_type": "code",
   "execution_count": 29,
   "metadata": {},
   "outputs": [
    {
     "name": "stdout",
     "output_type": "stream",
     "text": [
      "['apple', 'lichi', 'guava', 'cherry', 'mango', 'watermelon', 'banana']\n",
      "['apple', 'lichi', 'guava', 'cherry', 'mango', 'watermelon', 'banana', 'orange']\n",
      "['apple', 'lemon', 'lichi', 'guava', 'cherry', 'mango', 'watermelon', 'banana', 'orange']\n",
      "['apple', 'lemon', 'lichi', 'guava', 'mango', 'watermelon', 'banana', 'orange']\n"
     ]
    }
   ],
   "source": [
    "fruits = ['apple','lichi','guava','cherry','mango','watermelon','banana']\n",
    "print(fruits)\n",
    "fruits.append('orange')\n",
    "print(fruits)\n",
    "fruits.insert(1,'lemon')\n",
    "print(fruits)\n",
    "fruits.remove('cherry')\n",
    "print(fruits)"
   ]
  },
  {
   "cell_type": "code",
   "execution_count": 54,
   "metadata": {},
   "outputs": [
    {
     "name": "stdout",
     "output_type": "stream",
     "text": [
      "[2, 3, 5, 6, 1, -34]\n",
      "The ascending order is :  [-34, 1, 2, 3, 5, 6]\n",
      "The dscending order is :  [6, 5, 3, 2, 1, -34]\n"
     ]
    }
   ],
   "source": [
    "list2= [2,3,5,6,1,-34]\n",
    "print(list2)\n",
    "list2.sort()\n",
    "print(\"The ascending order is : \",list2)\n",
    "y = sorted(list2,reverse=True)\n",
    "print(\"The dscending order is : \",y)"
   ]
  },
  {
   "cell_type": "code",
   "execution_count": 61,
   "metadata": {},
   "outputs": [
    {
     "name": "stdout",
     "output_type": "stream",
     "text": [
      "[2, 3, 5, 6, 1, -34]\n",
      "the ascending value are :  [-34, 1, 2, 3, 5, 6]\n"
     ]
    }
   ],
   "source": [
    "list2= [2,3,5,6,1,-34]\n",
    "print(list2)\n",
    "i=0\n",
    "for i in range(i,len(list2)):\n",
    "    for j in range(i+1,len(list2)):\n",
    "        if (list2[i] > list2[j]):\n",
    "            temp = list2[i]\n",
    "            list2[i] = list2[j]\n",
    "            list2[j] = temp\n",
    "print(\"the ascending value are : \",list2)\n"
   ]
  },
  {
   "cell_type": "code",
   "execution_count": 62,
   "metadata": {},
   "outputs": [
    {
     "name": "stdout",
     "output_type": "stream",
     "text": [
      "[34, 67, 'nihar', 'jalandhar', 1, 2, 'delhi', 'cuttack']\n"
     ]
    }
   ],
   "source": [
    "a = [34,67,'nihar','jalandhar']\n",
    "b = [1, 2,'delhi','cuttack']\n",
    "a.extend(b)\n",
    "print(a)"
   ]
  },
  {
   "cell_type": "code",
   "execution_count": 64,
   "metadata": {},
   "outputs": [
    {
     "name": "stdout",
     "output_type": "stream",
     "text": [
      "[10, 23, 78, 45, 9, 11]\n"
     ]
    }
   ],
   "source": [
    "import random\n",
    "List = [10, 45, 78, 11, 9, 23]\n",
    "random.shuffle(List)\n",
    "print(List)"
   ]
  },
  {
   "cell_type": "code",
   "execution_count": 71,
   "metadata": {},
   "outputs": [
    {
     "name": "stdout",
     "output_type": "stream",
     "text": [
      "z\n",
      "['baz', 2.718]\n",
      "20\n"
     ]
    }
   ],
   "source": [
    "x = [10, [3.141, 20, [30, 'baz', 2.718]], 'foo']\n",
    "y = x[1][2][1][2]\n",
    "print(y)\n",
    "z = x[1][2][1:3]\n",
    "print(z)\n",
    "t = x[1][1]\n",
    "print(t)"
   ]
  },
  {
   "cell_type": "code",
   "execution_count": 75,
   "metadata": {},
   "outputs": [
    {
     "name": "stdout",
     "output_type": "stream",
     "text": [
      "[1, 2, 3, 4, 5, 6, 7, 8]\n"
     ]
    }
   ],
   "source": [
    "a = [1, 2, 7, 8]\n",
    "a[2:1] = [3,4,5,6]\n",
    "print(a)"
   ]
  }
 ],
 "metadata": {
  "kernelspec": {
   "display_name": "Python 3",
   "language": "python",
   "name": "python3"
  },
  "language_info": {
   "codemirror_mode": {
    "name": "ipython",
    "version": 3
   },
   "file_extension": ".py",
   "mimetype": "text/x-python",
   "name": "python",
   "nbconvert_exporter": "python",
   "pygments_lexer": "ipython3",
   "version": "3.8.5"
  }
 },
 "nbformat": 4,
 "nbformat_minor": 4
}
