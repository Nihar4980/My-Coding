{
 "cells": [
  {
   "cell_type": "markdown",
   "metadata": {},
   "source": [
    "1. Import keyword library and print list of keywords along with total number of keywords"
   ]
  },
  {
   "cell_type": "code",
   "execution_count": 1,
   "metadata": {},
   "outputs": [
    {
     "name": "stdout",
     "output_type": "stream",
     "text": [
      "['False', 'None', 'True', 'and', 'as', 'assert', 'async', 'await', 'break', 'class', 'continue', 'def', 'del', 'elif', 'else', 'except', 'finally', 'for', 'from', 'global', 'if', 'import', 'in', 'is', 'lambda', 'nonlocal', 'not', 'or', 'pass', 'raise', 'return', 'try', 'while', 'with', 'yield']\n"
     ]
    }
   ],
   "source": [
    "import keyword\n",
    "keywords = keyword.kwlist\n",
    "print(keywords)"
   ]
  },
  {
   "cell_type": "markdown",
   "metadata": {},
   "source": [
    "2. In Markdown State, Copy Python keywords image from Google Images and Paste it in your notebook"
   ]
  },
  {
   "cell_type": "markdown",
   "metadata": {},
   "source": [
    ":[keywords](https://www.google.co.in/search?q=python+keywords+images&tbm=isch&ved=2ahUKEwi0leGP49fvAhVOHXIKHS83BHQQ2-cCegQIABAA&oq=python+keywords+images&gs_lcp=CgNpbWcQAzoECCMQJzoECAAQGDoFCAAQsQM6BwgAELEDEEM6BAgAEEM6AggAOggIABCxAxCDAToHCCMQ6gIQJzoGCAAQBRAeOgYIABAIEB46BAgAEB5Qo80GWOOJCGDSjQhoAXAAeACAAboCiAHUPZIBBjItMzAuMZgBAKABAaoBC2d3cy13aXotaW1nsAEKwAEB&sclient=img&ei=3vhiYLSuO866yAOv7pCgBw&bih=657&biw=1366#imgrc=g-77R9KPkQQ6IM)"
   ]
  },
  {
   "cell_type": "markdown",
   "metadata": {},
   "source": [
    "3. Create two strings a and b with any integer values stored in it\n",
    "And perform Addition, Multiplication, Subtraction and a2 +b2"
   ]
  },
  {
   "cell_type": "code",
   "execution_count": 5,
   "metadata": {},
   "outputs": [
    {
     "name": "stdout",
     "output_type": "stream",
     "text": [
      "Enter value a : 4\n",
      "Enter value b : 5\n",
      "9\n",
      "20\n",
      "-1\n",
      "41\n"
     ]
    }
   ],
   "source": [
    "a=int(input('Enter value a : '))\n",
    "b=int(input('Enter value b : '))\n",
    "add = a + b\n",
    "multi = a*b\n",
    "sub =a-b\n",
    "rel = a**2 + b**2\n",
    "print(add,multi,sub,rel, sep='\\n')"
   ]
  },
  {
   "cell_type": "markdown",
   "metadata": {},
   "source": [
    "4. Use Boolean operators (==, !=, >, >=, <, <= ) , between a and b and Display output"
   ]
  },
  {
   "cell_type": "code",
   "execution_count": 8,
   "metadata": {},
   "outputs": [
    {
     "name": "stdout",
     "output_type": "stream",
     "text": [
      "Enter value a : 4\n",
      "Enter value b : 5\n",
      "False\n",
      "True\n",
      "False\n",
      "False\n",
      "True\n",
      "True\n"
     ]
    }
   ],
   "source": [
    "a=int(input('Enter value a : '))\n",
    "b=int(input('Enter value b : '))\n",
    "print(a==b, a!=b, a>b, a>=b, a<b, a<=b, sep = '\\n')\n"
   ]
  },
  {
   "cell_type": "markdown",
   "metadata": {},
   "source": [
    "5. Create two strings x and y with any integer values stored in it\n",
    "And perform bitwise operations (&,^, | ,>>,<<)"
   ]
  },
  {
   "cell_type": "code",
   "execution_count": 10,
   "metadata": {},
   "outputs": [
    {
     "name": "stdout",
     "output_type": "stream",
     "text": [
      "Enter value x : 20\n",
      "Enter value y : 10\n",
      "0b10100\n",
      "0b1010\n",
      "0\n",
      "30\n",
      "30\n",
      "0\n",
      "20480\n"
     ]
    }
   ],
   "source": [
    "x =int(input('Enter value x : '))\n",
    "y =int(input('Enter value y : '))\n",
    "print(bin(x))\n",
    "print(bin(y))\n",
    "print(x&y, x^y, x|y, x>>y, x<<y, sep = '\\n')"
   ]
  }
 ],
 "metadata": {
  "kernelspec": {
   "display_name": "Python 3",
   "language": "python",
   "name": "python3"
  },
  "language_info": {
   "codemirror_mode": {
    "name": "ipython",
    "version": 3
   },
   "file_extension": ".py",
   "mimetype": "text/x-python",
   "name": "python",
   "nbconvert_exporter": "python",
   "pygments_lexer": "ipython3",
   "version": "3.8.5"
  }
 },
 "nbformat": 4,
 "nbformat_minor": 4
}
