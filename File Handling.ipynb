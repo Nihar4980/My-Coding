{
 "cells": [
  {
   "cell_type": "markdown",
   "metadata": {},
   "source": [
    "Note : Use a sample file to answer the below questions.\n",
    "1. Write a python code to open a file for appending data."
   ]
  },
  {
   "cell_type": "code",
   "execution_count": 3,
   "metadata": {},
   "outputs": [
    {
     "name": "stdout",
     "output_type": "stream",
     "text": [
      "A self-driving car, also known as an autonomous vehicle (AV or auto), driverless car, or robo-car is a vehicle that is capable of sensing its environment and moving safely with little or no human input.\n",
      "\n",
      "Self-driving cars combine a variety of sensors to perceive their surroundings, such as radar, lidar, sonar, GPS, odometry and inertial measurement units. Advanced control systems interpret sensory information to identify appropriate navigation paths, as well as obstacles and relevant signage.\n",
      "\n",
      "Possible implementations of the technology include personal self-driving vehicles, shared robotaxis, connected vehicle platoons and long-distance trucking.[4] Several projects to develop a fully self-driving commercial car are in various stages of development. Waymo became the first service provider to offer robotaxi rides to the general public in Phoenix, Arizona in 2020, while Tesla has said it will offer subscription-based \"full self-driving\" to private vehicle owners in 2021 and Nuro has been allowed to start autonomous commercial delivery operations in California in 2021.\n"
     ]
    }
   ],
   "source": [
    "file_text= open(\"sample.txt\",\"r\")\n",
    "print(file_text.read())"
   ]
  },
  {
   "cell_type": "code",
   "execution_count": 6,
   "metadata": {},
   "outputs": [],
   "source": [
    "file_text2 = open(\"sample.txt\", \"a\")\n",
    "file_text2.write(\"This is latest revolution for auto sector\")\n",
    "file_text2.close()"
   ]
  },
  {
   "cell_type": "code",
   "execution_count": 8,
   "metadata": {},
   "outputs": [
    {
     "name": "stdout",
     "output_type": "stream",
     "text": [
      "A self-driving car, also known as an autonomous vehicle (AV or auto), driverless car, or robo-car is a vehicle that is capable of sensing its environment and moving safely with little or no human input.\n",
      "\n",
      "Self-driving cars combine a variety of sensors to perceive their surroundings, such as radar, lidar, sonar, GPS, odometry and inertial measurement units. Advanced control systems interpret sensory information to identify appropriate navigation paths, as well as obstacles and relevant signage.\n",
      "\n",
      "Possible implementations of the technology include personal self-driving vehicles, shared robotaxis, connected vehicle platoons and long-distance trucking.[4] Several projects to develop a fully self-driving commercial car are in various stages of development. Waymo became the first service provider to offer robotaxi rides to the general public in Phoenix, Arizona in 2020, while Tesla has said it will offer subscription-based \"full self-driving\" to private vehicle owners in 2021 and Nuro has been allowed to start autonomous commercial delivery operations in California in 2021.This is latest revolution for auto sectorThis is latest revolution for auto sectorThis is latest revolution for auto sector\n"
     ]
    }
   ],
   "source": [
    "file_text2 = open(\"sample.txt\", \"r\")\n",
    "print(file_text2.read())"
   ]
  },
  {
   "cell_type": "markdown",
   "metadata": {},
   "source": [
    "2. How would you read two characters from a file ."
   ]
  },
  {
   "cell_type": "code",
   "execution_count": 9,
   "metadata": {},
   "outputs": [
    {
     "name": "stdout",
     "output_type": "stream",
     "text": [
      "A \n"
     ]
    }
   ],
   "source": [
    "file_text= open(\"sample.txt\",\"r\")\n",
    "print(file_text.read(2))"
   ]
  },
  {
   "cell_type": "markdown",
   "metadata": {},
   "source": [
    "3. Which command is used to read the entire content of\n",
    "the file as a string."
   ]
  },
  {
   "cell_type": "code",
   "execution_count": 11,
   "metadata": {},
   "outputs": [
    {
     "name": "stdout",
     "output_type": "stream",
     "text": [
      "A self-driving car, also known as an autonomous vehicle (AV or auto), driverless car, or robo-car is a vehicle that is capable of sensing its environment and moving safely with little or no human input.\n",
      "\n",
      "Self-driving cars combine a variety of sensors to perceive their surroundings, such as radar, lidar, sonar, GPS, odometry and inertial measurement units. Advanced control systems interpret sensory information to identify appropriate navigation paths, as well as obstacles and relevant signage.\n",
      "\n",
      "Possible implementations of the technology include personal self-driving vehicles, shared robotaxis, connected vehicle platoons and long-distance trucking.[4] Several projects to develop a fully self-driving commercial car are in various stages of development. Waymo became the first service provider to offer robotaxi rides to the general public in Phoenix, Arizona in 2020, while Tesla has said it will offer subscription-based \"full self-driving\" to private vehicle owners in 2021 and Nuro has been allowed to start autonomous commercial delivery operations in California in 2021.This is latest revolution for auto sectorThis is latest revolution for auto sectorThis is latest revolution for auto sector\n"
     ]
    }
   ],
   "source": [
    "file_text= open(\"sample.txt\",\"r\")\n",
    "print(file_text.read())"
   ]
  },
  {
   "cell_type": "markdown",
   "metadata": {},
   "source": [
    "4. How to read the next line of the file ."
   ]
  },
  {
   "cell_type": "code",
   "execution_count": 12,
   "metadata": {},
   "outputs": [
    {
     "name": "stdout",
     "output_type": "stream",
     "text": [
      "A self-driving car, also known as an autonomous vehicle (AV or auto), driverless car, or robo-car is a vehicle that is capable of sensing its environment and moving safely with little or no human input.\n",
      "\n"
     ]
    }
   ],
   "source": [
    "file_txt = open(\"sample.txt\", \"r\")\n",
    "print(file_txt.readline())"
   ]
  },
  {
   "cell_type": "code",
   "execution_count": 13,
   "metadata": {},
   "outputs": [
    {
     "name": "stdout",
     "output_type": "stream",
     "text": [
      "A self-driving car, also known as an autonomous vehicle (AV or auto), driverless car, or robo-car is a vehicle that is capable of sensing its environment and moving safely with little or no human input.\n",
      "\n",
      "\n",
      "\n",
      "Self-driving cars combine a variety of sensors to perceive their surroundings, such as radar, lidar, sonar, GPS, odometry and inertial measurement units. Advanced control systems interpret sensory information to identify appropriate navigation paths, as well as obstacles and relevant signage.\n",
      "\n",
      "\n",
      "\n",
      "Possible implementations of the technology include personal self-driving vehicles, shared robotaxis, connected vehicle platoons and long-distance trucking.[4] Several projects to develop a fully self-driving commercial car are in various stages of development. Waymo became the first service provider to offer robotaxi rides to the general public in Phoenix, Arizona in 2020, while Tesla has said it will offer subscription-based \"full self-driving\" to private vehicle owners in 2021 and Nuro has been allowed to start autonomous commercial delivery operations in California in 2021.This is latest revolution for auto sectorThis is latest revolution for auto sectorThis is latest revolution for auto sector\n"
     ]
    }
   ],
   "source": [
    "file_txt = open(\"sample.txt\", \"r\")\n",
    "print(file_txt.readline())\n",
    "print(file_txt.readline())\n",
    "print(file_txt.readline())\n",
    "print(file_txt.readline())\n",
    "print(file_txt.readline())"
   ]
  },
  {
   "cell_type": "code",
   "execution_count": 15,
   "metadata": {},
   "outputs": [],
   "source": [
    "file_text2 = open(\"sample.txt\", \"a\")\n",
    "file_text2.write(\"+ two - three * four / five \")\n",
    "file_text2.close()"
   ]
  },
  {
   "cell_type": "code",
   "execution_count": 18,
   "metadata": {},
   "outputs": [
    {
     "name": "stdout",
     "output_type": "stream",
     "text": [
      "b'A self-driving car, also known as an autonomous vehicle (AV or auto), driverless car, or robo-car is a vehicle that is capable of sensing its environment and moving safely with little or no human input.\\r\\n\\r\\nSelf-driving cars combine a variety of sensors to perceive their surroundings, such as radar, lidar, sonar, GPS, odometry and inertial measurement units. Advanced control systems interpret sensory information to identify appropriate navigation paths, as well as obstacles and relevant signage.\\r\\n\\r\\nPossible implementations of the technology include personal self-driving vehicles, shared robotaxis, connected vehicle platoons and long-distance trucking.[4] Several projects to develop a fully self-driving commercial car are in various stages of development. Waymo became the first service provider to offer robotaxi rides to the general public in Phoenix, Arizona in 2020, while Tesla has said it will offer subscription-based \"full self-driving\" to private vehicle owners in 2021 and Nuro has been allowed to start autonomous commercial delivery operations in California in 2021.This is latest revolution for auto sectorThis is latest revolution for auto sectorThis is latest revolution for auto sector+ two - three * four / five '\n"
     ]
    }
   ],
   "source": [
    "file_text2 = open(\"sample.txt\", \"rb\")\n",
    "print(file_text2.read())"
   ]
  }
 ],
 "metadata": {
  "kernelspec": {
   "display_name": "Python 3",
   "language": "python",
   "name": "python3"
  },
  "language_info": {
   "codemirror_mode": {
    "name": "ipython",
    "version": 3
   },
   "file_extension": ".py",
   "mimetype": "text/x-python",
   "name": "python",
   "nbconvert_exporter": "python",
   "pygments_lexer": "ipython3",
   "version": "3.8.5"
  }
 },
 "nbformat": 4,
 "nbformat_minor": 4
}
